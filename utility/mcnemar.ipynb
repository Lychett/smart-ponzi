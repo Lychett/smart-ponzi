{
 "cells": [
  {
   "cell_type": "code",
   "execution_count": 5,
   "id": "1798cf93",
   "metadata": {},
   "outputs": [],
   "source": [
    "import numpy as np\n",
    "import pandas as pd\n",
    "from mlxtend.evaluate import mcnemar, mcnemar_table"
   ]
  },
  {
   "cell_type": "code",
   "execution_count": 6,
   "id": "0dd971cb",
   "metadata": {},
   "outputs": [],
   "source": [
    "# acquisico le classificazioni corrette, le ho inserite nella cartella contenente il dataset di exploiting blockchain\n",
    "with open(r'C:\\Users\\andre\\Desktop\\materiale tesi\\settimana 16\\dataset\\exploiting blockchain - cleaned\\y_test_list.txt') as f:\n",
    "    test = f.read().splitlines()\n",
    "    \n",
    "integer_map = map(int, test)\n",
    "y_test_list = list(integer_map)\n",
    "\n",
    "# acquisico le predizioni del mio modello migliore fatte sul test set\n",
    "with open(r'C:\\Users\\andre\\Desktop\\materiale tesi\\settimana 16\\dataset\\cleaned+\\fbeta\\y_pred_list.txt') as f:\n",
    "    fbeta_pred7 = f.read().splitlines()\n",
    "    \n",
    "integer_map = map(int, fbeta_pred7)\n",
    "y_fbeta_pred_list = list(integer_map)\n",
    "\n",
    "# acquisico le predizioni del modello della sottosezione 5.4.2 #2 fatte sul test set\n",
    "with open(r'C:\\Users\\andre\\Desktop\\materiale tesi\\settimana 16\\dataset\\exploiting blockchain - cleaned\\y_pred_list.txt') as f:\n",
    "    pred3 = f.read().splitlines()\n",
    "    \n",
    "integer_map = map(int, pred3)\n",
    "y_pred3_list = list(integer_map)"
   ]
  },
  {
   "cell_type": "code",
   "execution_count": 7,
   "id": "f9db0f70",
   "metadata": {},
   "outputs": [
    {
     "name": "stdout",
     "output_type": "stream",
     "text": [
      "[[665  97]\n",
      " [ 30 120]]\n"
     ]
    }
   ],
   "source": [
    "# creo la tabella di McNemar\n",
    "tb = mcnemar_table(y_target = np.array(y_test_list), \n",
    "                   y_model1  = np.array(y_fbeta_pred_list), \n",
    "                   y_model2 = np.array(y_pred3_list))\n",
    "\n",
    "print(tb)"
   ]
  },
  {
   "cell_type": "code",
   "execution_count": 8,
   "id": "97c579e8",
   "metadata": {},
   "outputs": [
    {
     "name": "stdout",
     "output_type": "stream",
     "text": [
      "chi-squared: 34.2992125984252\n",
      "p-value: 4.72572930207707e-09\n"
     ]
    }
   ],
   "source": [
    "chi2, p = mcnemar(ary=tb, corrected=True)\n",
    "print('chi-squared:', chi2)\n",
    "print('p-value:', p)"
   ]
  }
 ],
 "metadata": {
  "kernelspec": {
   "display_name": "Python 3 (ipykernel)",
   "language": "python",
   "name": "python3"
  },
  "language_info": {
   "codemirror_mode": {
    "name": "ipython",
    "version": 3
   },
   "file_extension": ".py",
   "mimetype": "text/x-python",
   "name": "python",
   "nbconvert_exporter": "python",
   "pygments_lexer": "ipython3",
   "version": "3.9.7"
  }
 },
 "nbformat": 4,
 "nbformat_minor": 5
}
