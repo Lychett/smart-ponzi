{
 "cells": [
  {
   "cell_type": "code",
   "execution_count": 1,
   "id": "a63b9b83",
   "metadata": {},
   "outputs": [],
   "source": [
    "import numpy as np\n",
    "import pandas as pd\n",
    "import seaborn as sns # libreria utile per matrice di confusione\n",
    "import plotly.express as px\n",
    "from collections import Counter\n",
    "from matplotlib import pyplot as plt\n",
    "from sklearn import tree\n",
    "from sklearn.metrics import accuracy_score, precision_score, recall_score, f1_score, fbeta_score, make_scorer, confusion_matrix, precision_recall_curve\n",
    "from sklearn.model_selection import train_test_split, GridSearchCV\n",
    "from sklearn.tree import DecisionTreeClassifier\n",
    "from sklearn.ensemble import RandomForestClassifier\n",
    "import xgboost as xgb"
   ]
  },
  {
   "cell_type": "code",
   "execution_count": 2,
   "id": "9b34c05d",
   "metadata": {},
   "outputs": [
    {
     "name": "stdout",
     "output_type": "stream",
     "text": [
      "[(0, 'balance'), (1, 'lifetime'), (2, 'tx_in'), (3, 'tx_out'), (4, 'investment_in'), (5, 'payment_out'), (6, 'investment_to_contract/tx_in'), (7, 'payment_from_contract/tx_out'), (8, '#addresses_paying_contract'), (9, '#addresses_paid_by_contract'), (10, 'mean_v1'), (11, 'sdev_v1'), (12, 'mean_v2'), (13, 'sdev_v2'), (14, 'paid_rate'), (15, 'paid_one'), (16, 'percentage_some_tx_in'), (17, 'sdev_tx_in'), (18, 'percentage_some_tx_out'), (19, 'sdev_tx_out'), (20, 'owner_gets_eth_Wo_investing'), (21, 'owner_gets_eth_investing'), (22, 'owner_no_eth')]\n"
     ]
    }
   ],
   "source": [
    "# leggo il dataset ed il target\n",
    "\n",
    "dataset = pd.read_csv(r'C:\\Users\\andre\\Desktop\\materiale tesi\\settimana 16\\dataset\\cleaned\\dataset.csv', header = 0)\n",
    "features_names = list(dataset.columns) # ottengo i nomi delle features\n",
    "features_names.pop(0) # rimuovo il primo addresses, in quanto non e' una feature\n",
    "pairs_number_features = list() # creo una lista che contiene coppie <#_feature, nome_feature>\n",
    "idx = 0\n",
    "\n",
    "while idx < len(features_names):\n",
    "    pair = (idx, features_names[idx])\n",
    "    pairs_number_features.append(pair)\n",
    "    idx+=1\n",
    "    \n",
    "print(pairs_number_features)\n",
    "\n",
    "target = pd.read_csv(r'C:\\Users\\andre\\Desktop\\materiale tesi\\settimana 16\\dataset\\cleaned\\target.csv', header = 0)"
   ]
  },
  {
   "cell_type": "code",
   "execution_count": 3,
   "id": "9b357ac3",
   "metadata": {},
   "outputs": [],
   "source": [
    "X = dataset.values[:, 1:] # rimuovo la prima colonna che contiene gli indirizzi\n",
    "y = target.values\n",
    "\n",
    "# divido in train set (TR) e test set (TS)\n",
    "X_train, X_test, y_train, y_test = train_test_split(X, y, test_size = 0.2, random_state = 42, stratify=y) "
   ]
  },
  {
   "cell_type": "code",
   "execution_count": 4,
   "id": "732a778a",
   "metadata": {},
   "outputs": [
    {
     "name": "stdout",
     "output_type": "stream",
     "text": [
      "Number of smart contract in train set:: 3107\n",
      "Number of smart Ponzi in train set:: 538\n",
      "Number of smart contract in test set:: 777\n",
      "Number of smart Ponzi in test set:: 135\n"
     ]
    }
   ],
   "source": [
    "flat_list_train = [item for sublist in y_train.tolist() for item in sublist]\n",
    "print('Number of smart contract in train set::', flat_list_train.count(0))\n",
    "print('Number of smart Ponzi in train set::', flat_list_train.count(1))\n",
    "flat_list_test = [item for sublist in y_test.tolist() for item in sublist]\n",
    "print('Number of smart contract in test set::', flat_list_test.count(0))\n",
    "print('Number of smart Ponzi in test set::', flat_list_test.count(1))"
   ]
  },
  {
   "cell_type": "code",
   "execution_count": 5,
   "id": "1cc0df62",
   "metadata": {},
   "outputs": [],
   "source": [
    "fbeta = make_scorer(fbeta_score, beta = 1.5)"
   ]
  },
  {
   "cell_type": "code",
   "execution_count": 6,
   "id": "f5f68b2f",
   "metadata": {},
   "outputs": [],
   "source": [
    "# in questo dizionario inserisco i parametri con cui testare il DT\n",
    "param_dist_DT = {\n",
    "    'criterion' : ['entropy', 'gini'],\n",
    "    'max_depth' : [5, 6, 7, 8, None],\n",
    "    'max_features' : [15, 18, 21],\n",
    "    'min_samples_split' : [5, 10, 15], # il valore tipico sta fra 1 e 40\n",
    "    'class_weight' : [{0:1, 1:4}, {0:1, 1:4.25}, {0:1, 1:4.5}] # pesi, il valore raccomandato e' sum(negative instances)/sum(positive instances)\n",
    "}"
   ]
  },
  {
   "cell_type": "code",
   "execution_count": 7,
   "id": "088eb672",
   "metadata": {},
   "outputs": [
    {
     "name": "stdout",
     "output_type": "stream",
     "text": [
      "best hyperparameters::  {'class_weight': {0: 1, 1: 4.25}, 'criterion': 'gini', 'max_depth': 7, 'max_features': 15, 'min_samples_split': 10}\n",
      "best score::  0.5917896708808945\n",
      "recall score on TR::  0.7304832713754646\n",
      "precision score on TR::  0.5918674698795181\n"
     ]
    }
   ],
   "source": [
    "# effettuo la GridSearchCV() per scegliere i migliori iperparametri\n",
    "grid_dt = GridSearchCV(DecisionTreeClassifier(), param_grid = param_dist_DT, scoring = fbeta, cv = 3, n_jobs = 8)\n",
    "grid_dt.fit(X_train, y_train) # alleno su train\n",
    "y_pred_train = grid_dt.predict(X_train) # effettuo la predizione su train set\n",
    "print('best hyperparameters:: ', grid_dt.best_params_) # stampo i migliori iperparametri\n",
    "print('best score:: ', grid_dt.best_score_) # media degli score (basata sulla metrica di scoring) date sulle cross validation\n",
    "print('recall score on TR:: ', recall_score(y_train, y_pred_train))\n",
    "print('precision score on TR:: ', precision_score(y_train, y_pred_train))"
   ]
  },
  {
   "cell_type": "code",
   "execution_count": 8,
   "id": "0e5e8899",
   "metadata": {},
   "outputs": [
    {
     "name": "stdout",
     "output_type": "stream",
     "text": [
      "accuracy score on TR::  0.8373113854595337\n",
      "accuracy score on TS::  0.8070175438596491\n"
     ]
    }
   ],
   "source": [
    "clf_dt = DecisionTreeClassifier(**grid_dt.best_params_)\n",
    "clf_dt.fit(X_train, y_train)\n",
    "print('accuracy score on TR:: ', clf_dt.score(X_train, y_train))\n",
    "print('accuracy score on TS:: ', clf_dt.score(X_test, y_test))"
   ]
  },
  {
   "cell_type": "code",
   "execution_count": 11,
   "id": "eadde405",
   "metadata": {},
   "outputs": [],
   "source": [
    "param_dist_RF = {\n",
    "            'n_estimators':[180, 190, 200],\n",
    "            'min_samples_split' : [30, 35],\n",
    "            'max_depth' : [8, 9, 10],\n",
    "            'criterion':['gini', 'entropy'],\n",
    "            'class_weight' : [{0:1, 1:5.5}, {0:1, 1:6}],\n",
    "            'bootstrap': [True, False]\n",
    "}"
   ]
  },
  {
   "cell_type": "code",
   "execution_count": 12,
   "id": "789d17d3",
   "metadata": {},
   "outputs": [
    {
     "name": "stdout",
     "output_type": "stream",
     "text": [
      "best hyperparameters::  {'bootstrap': False, 'class_weight': {0: 1, 1: 6}, 'criterion': 'gini', 'max_depth': 9, 'min_samples_split': 30, 'n_estimators': 190}\n",
      "best score::  0.615114076730555\n",
      "recall score on TR::  0.8921933085501859\n",
      "precision score on TR::  0.5194805194805194\n"
     ]
    }
   ],
   "source": [
    "# effettuo la GridSearchCV() per scegliere i migliori iperparametri\n",
    "grid_rf = GridSearchCV(RandomForestClassifier(), param_grid = param_dist_RF, scoring = fbeta, cv = 3, n_jobs = 8)\n",
    "grid_rf.fit(X_train, y_train.ravel())\n",
    "y_pred_train = grid_rf.predict(X_train)\n",
    "print('best hyperparameters:: ', grid_rf.best_params_)\n",
    "print('best score:: ', grid_rf.best_score_)\n",
    "print('recall score on TR:: ', recall_score(y_train, y_pred_train))\n",
    "print('precision score on TR:: ', precision_score(y_train, y_pred_train))"
   ]
  },
  {
   "cell_type": "code",
   "execution_count": 13,
   "id": "4725ca0d",
   "metadata": {},
   "outputs": [
    {
     "name": "stdout",
     "output_type": "stream",
     "text": [
      "accuracy score on TR::  0.9146776406035665\n",
      "accuracy score on TS::  0.8673245614035088\n"
     ]
    }
   ],
   "source": [
    "clf_rf = RandomForestClassifier(**grid_dt.best_params_)\n",
    "clf_rf.fit(X_train, y_train.ravel())\n",
    "print('accuracy score on TR:: ', clf_rf.score(X_train, y_train))\n",
    "print('accuracy score on TS:: ', clf_rf.score(X_test, y_test))"
   ]
  },
  {
   "cell_type": "code",
   "execution_count": 15,
   "id": "bab9c0a0",
   "metadata": {},
   "outputs": [],
   "source": [
    "param_dist_XGB = {\n",
    "                'learning_rate' : [0.1],\n",
    "                'n_estimators' : [80, 90, 100, 110, 120],\n",
    "                'scale_pos_weight' : [5.5, 6],\n",
    "                'max_depth' : [6,7],\n",
    "                'gamma' : [0, 0.1, 0.2, 0.3],\n",
    "                'reg_lambda' : [50]\n",
    "}"
   ]
  },
  {
   "cell_type": "code",
   "execution_count": 16,
   "id": "abfea86c",
   "metadata": {},
   "outputs": [
    {
     "name": "stdout",
     "output_type": "stream",
     "text": [
      "best hyperparameters::  {'gamma': 0.1, 'learning_rate': 0.1, 'max_depth': 6, 'n_estimators': 110, 'reg_lambda': 50, 'scale_pos_weight': 6}\n",
      "best score::  0.642026654155288\n",
      "recall score on TR::  0.879182156133829\n",
      "precision score on TR::  0.6340482573726541\n"
     ]
    }
   ],
   "source": [
    "# effettuo la GridSearchCV() per scegliere i migliori iperparametri\n",
    "grid_xgb = GridSearchCV(xgb.XGBClassifier(use_label_encoder = False, eval_metric = 'aucpr'), \n",
    "                        param_grid = param_dist_XGB, scoring = fbeta, cv = 3, n_jobs = 8)\n",
    "grid_xgb.fit(X_train, y_train)\n",
    "y_pred_train = grid_xgb.predict(X_train)\n",
    "print('best hyperparameters:: ', grid_xgb.best_params_)\n",
    "print('best score:: ', grid_xgb.best_score_)\n",
    "print('recall score on TR:: ', recall_score(y_train, y_pred_train))\n",
    "print('precision score on TR:: ', precision_score(y_train, y_pred_train))"
   ]
  },
  {
   "cell_type": "code",
   "execution_count": 17,
   "id": "1e291f59",
   "metadata": {},
   "outputs": [
    {
     "name": "stdout",
     "output_type": "stream",
     "text": [
      "accuracy score on TR::  0.9072702331961591\n",
      "accuracy score on TS::  0.8530701754385965\n"
     ]
    }
   ],
   "source": [
    "clf_xgb = xgb.XGBClassifier(learning_rate = 0.1, n_estimators = 110, scale_pos_weight = 6, max_depth = 6, \n",
    "                            gamma=0.1, reg_lambda = 50, use_label_encoder = False, eval_metric='aucpr')\n",
    "clf_xgb.fit(X_train, y_train)\n",
    "print('accuracy score on TR:: ', clf_xgb.score(X_train, y_train))\n",
    "print('accuracy score on TS:: ', clf_xgb.score(X_test, y_test))"
   ]
  },
  {
   "cell_type": "code",
   "execution_count": 19,
   "id": "94e0360a",
   "metadata": {},
   "outputs": [],
   "source": [
    "model_params = {\n",
    "    'decision_tree': {\n",
    "        'model': DecisionTreeClassifier(),\n",
    "        'params': { \n",
    "            'criterion' : ['entropy', 'gini'],\n",
    "            'max_depth' : [5, 6, 7, 8, None],\n",
    "            'max_features' : [15, 18, 21],\n",
    "            'min_samples_split' : [5, 10, 15], # il valore tipico sta fra 1 e 40\n",
    "            'class_weight' : [{0:1, 1:4}, {0:1, 1:4.25}, {0:1, 1:4.5}] # pesi, il valore raccomandato e' sum(negative instances)/sum(positive instances)\n",
    "        }\n",
    "    },\n",
    "    'random_forest': {\n",
    "        'model': RandomForestClassifier(),\n",
    "        'params': {\n",
    "            'n_estimators':[180, 190, 200],\n",
    "            'min_samples_split' : [30, 35],\n",
    "            'max_depth' : [8, 9, 10],\n",
    "            'criterion':['gini', 'entropy'],\n",
    "            'class_weight' : [{0:1, 1:5.5}, {0:1, 1:6}],\n",
    "            'bootstrap': [True, False]\n",
    "        }\n",
    "    },\n",
    "    'xgboost': {\n",
    "        'model': xgb.XGBClassifier(learning_rate = 0.1, # funziona bene per valori fra 0.01 e 0.25\n",
    "                                   colsample_bytree = 0.8,\n",
    "                                   eval_metric = 'aucpr', \n",
    "                                   use_label_encoder = False),\n",
    "        'params': {\n",
    "                'learning_rate' : [0.1],\n",
    "                'n_estimators' : [80, 90, 100, 110, 120],\n",
    "                'scale_pos_weight' : [5.5, 6],\n",
    "                'max_depth' : [6,7],\n",
    "                'gamma' : [0, 0.1, 0.2, 0.3],\n",
    "                'reg_lambda' : [50]\n",
    "        }\n",
    "    }\n",
    "}"
   ]
  },
  {
   "cell_type": "code",
   "execution_count": 20,
   "id": "83eb9613",
   "metadata": {},
   "outputs": [
    {
     "data": {
      "text/html": [
       "<div>\n",
       "<style scoped>\n",
       "    .dataframe tbody tr th:only-of-type {\n",
       "        vertical-align: middle;\n",
       "    }\n",
       "\n",
       "    .dataframe tbody tr th {\n",
       "        vertical-align: top;\n",
       "    }\n",
       "\n",
       "    .dataframe thead th {\n",
       "        text-align: right;\n",
       "    }\n",
       "</style>\n",
       "<table border=\"1\" class=\"dataframe\">\n",
       "  <thead>\n",
       "    <tr style=\"text-align: right;\">\n",
       "      <th></th>\n",
       "      <th>model</th>\n",
       "      <th>best_score</th>\n",
       "      <th>best_params</th>\n",
       "    </tr>\n",
       "  </thead>\n",
       "  <tbody>\n",
       "    <tr>\n",
       "      <th>0</th>\n",
       "      <td>decision_tree</td>\n",
       "      <td>0.589375</td>\n",
       "      <td>{'class_weight': {0: 1, 1: 4.5}, 'criterion': 'gini', 'max_depth': 8, 'max_features': 15, 'min_samples_split': 15}</td>\n",
       "    </tr>\n",
       "    <tr>\n",
       "      <th>1</th>\n",
       "      <td>random_forest</td>\n",
       "      <td>0.615627</td>\n",
       "      <td>{'bootstrap': False, 'class_weight': {0: 1, 1: 6}, 'criterion': 'entropy', 'max_depth': 10, 'min_samples_split': 30, 'n_estimators': 200}</td>\n",
       "    </tr>\n",
       "    <tr>\n",
       "      <th>2</th>\n",
       "      <td>xgboost</td>\n",
       "      <td>0.641344</td>\n",
       "      <td>{'gamma': 0.2, 'learning_rate': 0.1, 'max_depth': 6, 'n_estimators': 90, 'reg_lambda': 50, 'scale_pos_weight': 6}</td>\n",
       "    </tr>\n",
       "  </tbody>\n",
       "</table>\n",
       "</div>"
      ],
      "text/plain": [
       "           model  best_score  \\\n",
       "0  decision_tree    0.589375   \n",
       "1  random_forest    0.615627   \n",
       "2        xgboost    0.641344   \n",
       "\n",
       "                                                                                                                                 best_params  \n",
       "0                         {'class_weight': {0: 1, 1: 4.5}, 'criterion': 'gini', 'max_depth': 8, 'max_features': 15, 'min_samples_split': 15}  \n",
       "1  {'bootstrap': False, 'class_weight': {0: 1, 1: 6}, 'criterion': 'entropy', 'max_depth': 10, 'min_samples_split': 30, 'n_estimators': 200}  \n",
       "2                          {'gamma': 0.2, 'learning_rate': 0.1, 'max_depth': 6, 'n_estimators': 90, 'reg_lambda': 50, 'scale_pos_weight': 6}  "
      ]
     },
     "execution_count": 20,
     "metadata": {},
     "output_type": "execute_result"
    }
   ],
   "source": [
    "scores = []\n",
    "\n",
    "for model_name, mp in model_params.items():\n",
    "    clf =  GridSearchCV(mp['model'], mp['params'], scoring = fbeta, cv=3, return_train_score=False, n_jobs=8)\n",
    "    clf.fit(X_train, y_train.ravel())\n",
    "    scores.append({\n",
    "        'model': model_name,\n",
    "        'best_score': clf.best_score_,\n",
    "        'best_params': clf.best_params_,\n",
    "        'best_estimator': clf.best_estimator_ # necessario per riallenare\n",
    "    })\n",
    "    \n",
    "pd.set_option(\"display.max_colwidth\", None)\n",
    "df = pd.DataFrame(scores,columns=['model','best_score','best_params'])\n",
    "df"
   ]
  },
  {
   "cell_type": "code",
   "execution_count": 21,
   "id": "495ba49c",
   "metadata": {},
   "outputs": [
    {
     "data": {
      "text/plain": [
       "XGBClassifier(base_score=0.5, booster='gbtree', colsample_bylevel=1,\n",
       "              colsample_bynode=1, colsample_bytree=0.8,\n",
       "              enable_categorical=False, eval_metric='aucpr', gamma=0.2,\n",
       "              gpu_id=-1, importance_type=None, interaction_constraints='',\n",
       "              learning_rate=0.1, max_delta_step=0, max_depth=6,\n",
       "              min_child_weight=1, missing=nan, monotone_constraints='()',\n",
       "              n_estimators=90, n_jobs=12, num_parallel_tree=1, predictor='auto',\n",
       "              random_state=0, reg_alpha=0, reg_lambda=50, scale_pos_weight=6,\n",
       "              subsample=1, tree_method='exact', use_label_encoder=False,\n",
       "              validate_parameters=1, verbosity=None)"
      ]
     },
     "execution_count": 21,
     "metadata": {},
     "output_type": "execute_result"
    }
   ],
   "source": [
    "models_list = sorted(scores, key=lambda d: d['best_score']) # ordino in base al best_score\n",
    "model = models_list[-1] # prendo l'ultimo modello (quello con score piu' alto)\n",
    "clf = model.get('best_estimator') # ottengo i valori con cui allenare\n",
    "clf.fit(X_train, y_train) # rialleno"
   ]
  },
  {
   "cell_type": "code",
   "execution_count": 22,
   "id": "1805da07",
   "metadata": {},
   "outputs": [
    {
     "name": "stdout",
     "output_type": "stream",
     "text": [
      "                    (Number, Feature)  Importance\n",
      "0                      (15, paid_one)    0.302860\n",
      "1                          (2, tx_in)    0.075543\n",
      "2   (6, investment_to_contract/tx_in)    0.053709\n",
      "3   (20, owner_gets_eth_Wo_investing)    0.051192\n",
      "4                    (17, sdev_tx_in)    0.049757\n",
      "5                       (10, mean_v1)    0.040622\n",
      "6                       (1, lifetime)    0.038460\n",
      "7   (7, payment_from_contract/tx_out)    0.036845\n",
      "8         (16, percentage_some_tx_in)    0.034931\n",
      "9                        (0, balance)    0.033519\n",
      "10   (9, #addresses_paid_by_contract)    0.031931\n",
      "11                      (13, sdev_v2)    0.029472\n",
      "12                    (14, paid_rate)    0.027087\n",
      "13    (8, #addresses_paying_contract)    0.026228\n",
      "14     (21, owner_gets_eth_investing)    0.023663\n",
      "15                        (3, tx_out)    0.023026\n",
      "16       (18, percentage_some_tx_out)    0.020886\n",
      "17                  (19, sdev_tx_out)    0.019214\n",
      "18                      (11, sdev_v1)    0.018923\n",
      "19                   (5, payment_out)    0.018151\n",
      "20                      (12, mean_v2)    0.017729\n",
      "21                 (22, owner_no_eth)    0.015631\n",
      "22                 (4, investment_in)    0.010621\n"
     ]
    },
    {
     "data": {
      "image/png": "[encoded data removed]",
      "text/plain": [
       "<Figure size 432x288 with 1 Axes>"
      ]
     },
     "metadata": {
      "needs_background": "light"
     },
     "output_type": "display_data"
    }
   ],
   "source": [
    "features_importances = clf.feature_importances_\n",
    "res = dict(zip(pairs_number_features, features_importances))\n",
    "sorted_dict = dict(sorted(res.items(), key=lambda item: item[1], reverse = True))\n",
    "print(pd.DataFrame(list(sorted_dict.items()),columns=['(Number, Feature)', 'Importance']))\n",
    "plt.bar(range(len(features_importances)), features_importances)\n",
    "plt.show()"
   ]
  },
  {
   "cell_type": "code",
   "execution_count": 23,
   "id": "09abf4dd",
   "metadata": {},
   "outputs": [
    {
     "name": "stdout",
     "output_type": "stream",
     "text": [
      "precision score::  0.5\n",
      "recall score::  0.6962962962962963\n",
      "accuracy score::  0.8519736842105263\n",
      "fbeta score::  0.6456043956043956\n",
      "F1 score:: 0.5820433436532508\n"
     ]
    },
    {
     "data": {
      "text/plain": [
       "<AxesSubplot:>"
      ]
     },
     "execution_count": 23,
     "metadata": {},
     "output_type": "execute_result"
    },
    {
     "data": {
      "image/png": "[encoded data removed]",
      "text/plain": [
       "<Figure size 432x288 with 2 Axes>"
      ]
     },
     "metadata": {
      "needs_background": "light"
     },
     "output_type": "display_data"
    }
   ],
   "source": [
    "# faccio la predizione e stampo le statistiche sul modello migliore (quello che ha vinto nella GridSearch)\n",
    "\n",
    "y_pred = clf.predict(X_test)\n",
    "print('precision score:: ', precision_score(y_test, y_pred)) # TP / (FP + TP)\n",
    "print('recall score:: ', recall_score(y_test, y_pred))\t     # TP / (FN + TP)\n",
    "print('accuracy score:: ', accuracy_score(y_test, y_pred))\t # (TP + TN)/ (TP + FN + TN + FP)\n",
    "print('fbeta score:: ', fbeta_score(y_test, y_pred, beta = 2))\n",
    "print('F1 score::', f1_score(y_test, y_pred))\n",
    "cm = confusion_matrix(y_test, y_pred)\n",
    "sns.heatmap(cm, annot=True, cmap='Greens', fmt='d')"
   ]
  },
  {
   "cell_type": "code",
   "execution_count": 24,
   "id": "c89c19b1",
   "metadata": {},
   "outputs": [
    {
     "name": "stdout",
     "output_type": "stream",
     "text": [
      "precision score::  0.4409090909090909\n",
      "recall score::  0.7185185185185186\n",
      "accuracy score::  0.8234649122807017\n",
      "F1 score:: 0.5464788732394366\n"
     ]
    },
    {
     "data": {
      "text/plain": [
       "<AxesSubplot:>"
      ]
     },
     "execution_count": 24,
     "metadata": {},
     "output_type": "execute_result"
    },
    {
     "data": {
      "image/png": "[encoded data removed]",
      "text/plain": [
       "<Figure size 432x288 with 2 Axes>"
      ]
     },
     "metadata": {
      "needs_background": "light"
     },
     "output_type": "display_data"
    }
   ],
   "source": [
    "# risultati ottenuti con il secondo migliore\n",
    "\n",
    "model = models_list[1] # prendo il modello medio\n",
    "clf2 = model.get('best_estimator') # ottengo i valori con cui allenare\n",
    "clf2.fit(X_train, y_train.ravel()) # rialleno\n",
    "y_pred2 = clf2.predict(X_test)\n",
    "print('precision score:: ', precision_score(y_test, y_pred2)) #  TP / (FP + TP)\n",
    "print('recall score:: ', recall_score(y_test, y_pred2))\t     # \tTP / (FN + TP)\n",
    "print('accuracy score:: ', accuracy_score(y_test, y_pred2))\t #  (TP + TN)/ (TP + FN + TN + FP)\n",
    "print('F1 score::', f1_score(y_test, y_pred2))\n",
    "cm = confusion_matrix(y_test, y_pred2)\n",
    "sns.heatmap(cm, annot=True, cmap='Reds', fmt='d')"
   ]
  },
  {
   "cell_type": "code",
   "execution_count": 25,
   "id": "d0be76d9",
   "metadata": {},
   "outputs": [
    {
     "data": {
      "image/png": "[encoded data removed]",
      "text/plain": [
       "<Figure size 432x288 with 1 Axes>"
      ]
     },
     "metadata": {
      "needs_background": "light"
     },
     "output_type": "display_data"
    }
   ],
   "source": [
    "# predict probabilities\n",
    "y_pred_proba_winner = clf.predict_proba(X_test)\n",
    "# keep probabilities for the positive outcome only\n",
    "y_pred_proba_w = y_pred_proba_winner[:, 1]\n",
    "# calculate pr-curve\n",
    "p, r, thrs = precision_recall_curve(y_test, y_pred_proba_w)\n",
    "\n",
    "\n",
    "y_pred_proba_second = clf2.predict_proba(X_test)\n",
    "y_pred_proba_s = y_pred_proba_second[:, 1]\n",
    "p2, r2, thrs2 = precision_recall_curve(y_test, y_pred_proba_s)\n",
    "# plot the roc curve for the model\n",
    "no_skill = len(y_test[y_test == 1]) / len(y_test)\n",
    "plt.plot([0,1], [no_skill, no_skill], linestyle = '--', label = 'No Skill')\n",
    "plt.plot(r, p, marker = '.', label = 'XGB')\n",
    "plt.plot(r2, p2, marker = '.', label = 'RF')\n",
    "# axis labels\n",
    "plt.xlabel('Recall')\n",
    "plt.ylabel('Precision')\n",
    "plt.legend()\n",
    "# show the plot\n",
    "plt.show()"
   ]
  },
  {
   "cell_type": "code",
   "execution_count": 26,
   "id": "8c0cf6a3",
   "metadata": {},
   "outputs": [
    {
     "name": "stdout",
     "output_type": "stream",
     "text": [
      "Best Threshold of the winner model = 0.590766, Fbeta-Score = 0.642\n",
      "Best Threshold of the second model = 0.558189, Fbeta-Score = 0.638\n"
     ]
    }
   ],
   "source": [
    "# convert to f score\n",
    "beta = 1.75 # se metto valori <= 1 allora e' come favorire F1 o precision, piu' alzo beta e piu' importanza ha la recall\n",
    "fbetaw = ((1 + beta**2) * p * r) / (beta**2 * p + r)\n",
    "# locate the index of the largest f score\n",
    "ixw = np.argmax(fbetaw)\n",
    "fbetas = ((1 + beta**2) * p2 * r2) / (beta**2 * p2 + r2)\n",
    "ixs = np.argmax(fbetas)\n",
    "print('Best Threshold of the winner model = %f, Fbeta-Score = %.3f' % (thrs[ixw], fbetaw[ixw]))\n",
    "print('Best Threshold of the second model = %f, Fbeta-Score = %.3f' % (thrs2[ixs], fbetas[ixs]))"
   ]
  },
  {
   "cell_type": "code",
   "execution_count": 27,
   "id": "5299475d",
   "metadata": {},
   "outputs": [
    {
     "data": {
      "text/plain": [
       "<AxesSubplot:>"
      ]
     },
     "execution_count": 27,
     "metadata": {},
     "output_type": "execute_result"
    },
    {
     "data": {
      "image/png": "[encoded data removed]",
      "text/plain": [
       "<Figure size 432x288 with 2 Axes>"
      ]
     },
     "metadata": {
      "needs_background": "light"
     },
     "output_type": "display_data"
    }
   ],
   "source": [
    "y_pred_thrs = np.where(clf.predict_proba(X_test)[:, 1] > thrs[ixw], 1, 0)\n",
    "cm_thrs = confusion_matrix(y_test, y_pred_thrs)\n",
    "sns.heatmap(cm_thrs, annot=True, cmap='Greys', fmt='d')"
   ]
  },
  {
   "cell_type": "code",
   "execution_count": 28,
   "id": "74c461e0",
   "metadata": {},
   "outputs": [
    {
     "data": {
      "text/plain": [
       "<AxesSubplot:>"
      ]
     },
     "execution_count": 28,
     "metadata": {},
     "output_type": "execute_result"
    },
    {
     "data": {
      "image/png": "[encoded data removed]",
      "text/plain": [
       "<Figure size 432x288 with 2 Axes>"
      ]
     },
     "metadata": {
      "needs_background": "light"
     },
     "output_type": "display_data"
    }
   ],
   "source": [
    "y_pred_thrs = np.where(clf2.predict_proba(X_test)[:, 1] > thrs2[ixs], 1, 0)\n",
    "cm_thrs = confusion_matrix(y_test, y_pred_thrs)\n",
    "sns.heatmap(cm_thrs, annot=True, cmap='Greys', fmt='d')"
   ]
  },
  {
   "cell_type": "code",
   "execution_count": null,
   "id": "8152c327",
   "metadata": {},
   "outputs": [],
   "source": []
  }
 ],
 "metadata": {
  "kernelspec": {
   "display_name": "Python 3 (ipykernel)",
   "language": "python",
   "name": "python3"
  },
  "language_info": {
   "codemirror_mode": {
    "name": "ipython",
    "version": 3
   },
   "file_extension": ".py",
   "mimetype": "text/x-python",
   "name": "python",
   "nbconvert_exporter": "python",
   "pygments_lexer": "ipython3",
   "version": "3.9.7"
  }
 },
 "nbformat": 4,
 "nbformat_minor": 5
}
