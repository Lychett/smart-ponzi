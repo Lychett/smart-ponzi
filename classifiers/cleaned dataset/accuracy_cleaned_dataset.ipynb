{
 "cells": [
  {
   "cell_type": "code",
   "execution_count": 1,
   "id": "62e0f7e5",
   "metadata": {},
   "outputs": [],
   "source": [
    "import numpy as np\n",
    "import pandas as pd\n",
    "import seaborn as sns # libreria utile per matrice di confusione\n",
    "import plotly.express as px\n",
    "from collections import Counter\n",
    "from matplotlib import pyplot as plt\n",
    "from sklearn import tree\n",
    "from sklearn.metrics import accuracy_score, precision_score, recall_score, f1_score, fbeta_score, make_scorer, confusion_matrix, precision_recall_curve\n",
    "from sklearn.model_selection import train_test_split, GridSearchCV\n",
    "from sklearn.tree import DecisionTreeClassifier\n",
    "from sklearn.ensemble import RandomForestClassifier\n",
    "import xgboost as xgb\n",
    "from sklearn.preprocessing import StandardScaler\n",
    "from sklearn.decomposition import PCA"
   ]
  },
  {
   "cell_type": "code",
   "execution_count": 2,
   "id": "4fdc0947",
   "metadata": {},
   "outputs": [
    {
     "name": "stdout",
     "output_type": "stream",
     "text": [
      "[(0, 'balance'), (1, 'lifetime'), (2, 'tx_in'), (3, 'tx_out'), (4, 'investment_in'), (5, 'payment_out'), (6, 'investment_to_contract/tx_in'), (7, 'payment_from_contract/tx_out'), (8, '#addresses_paying_contract'), (9, '#addresses_paid_by_contract'), (10, 'mean_v1'), (11, 'sdev_v1'), (12, 'mean_v2'), (13, 'sdev_v2'), (14, 'paid_rate'), (15, 'paid_one'), (16, 'percentage_some_tx_in'), (17, 'sdev_tx_in'), (18, 'percentage_some_tx_out'), (19, 'sdev_tx_out'), (20, 'owner_gets_eth_Wo_investing'), (21, 'owner_gets_eth_investing'), (22, 'owner_no_eth')]\n"
     ]
    }
   ],
   "source": [
    "# leggo il dataset ed il target\n",
    "\n",
    "dataset = pd.read_csv(r'C:\\Users\\andre\\Desktop\\materiale tesi\\settimana 16\\dataset\\cleaned\\dataset.csv', header = 0)\n",
    "features_names = list(dataset.columns) # ottengo i nomi delle features\n",
    "features_names.pop(0) # rimuovo il primo addresses, in quanto non e' una feature\n",
    "pairs_number_features = list() # creo una lista che contiene coppie <#_feature, nome_feature>\n",
    "idx = 0\n",
    "\n",
    "while idx < len(features_names):\n",
    "    pair = (idx, features_names[idx])\n",
    "    pairs_number_features.append(pair)\n",
    "    idx+=1\n",
    "    \n",
    "print(pairs_number_features)\n",
    "\n",
    "target = pd.read_csv(r'C:\\Users\\andre\\Desktop\\materiale tesi\\settimana 16\\dataset\\cleaned\\target.csv', header = 0)"
   ]
  },
  {
   "cell_type": "code",
   "execution_count": 3,
   "id": "e1fd7358",
   "metadata": {},
   "outputs": [],
   "source": [
    "X = dataset.values[:, 1:] # rimuovo la prima colonna che contiene gli indirizzi\n",
    "y = target.values\n",
    "\n",
    "# divido in train set (TR) e test set (TS)\n",
    "X_train, X_test, y_train, y_test = train_test_split(X, y, test_size=0.2, random_state = 42, stratify=y) "
   ]
  },
  {
   "cell_type": "code",
   "execution_count": 4,
   "id": "4336371d",
   "metadata": {},
   "outputs": [
    {
     "name": "stdout",
     "output_type": "stream",
     "text": [
      "Number of smart contract in train set:: 3107\n",
      "Number of smart Ponzi in train set:: 538\n",
      "Number of smart contract in test set:: 777\n",
      "Number of smart Ponzi in test set:: 135\n"
     ]
    }
   ],
   "source": [
    "flat_list_train = [item for sublist in y_train.tolist() for item in sublist]\n",
    "print('Number of smart contract in train set::', flat_list_train.count(0))\n",
    "print('Number of smart Ponzi in train set::', flat_list_train.count(1))\n",
    "flat_list_test = [item for sublist in y_test.tolist() for item in sublist]\n",
    "print('Number of smart contract in test set::', flat_list_test.count(0))\n",
    "print('Number of smart Ponzi in test set::', flat_list_test.count(1))"
   ]
  },
  {
   "cell_type": "code",
   "execution_count": 5,
   "id": "1892dcdd",
   "metadata": {},
   "outputs": [
    {
     "data": {
      "text/plain": [
       "(3645, 23)"
      ]
     },
     "execution_count": 5,
     "metadata": {},
     "output_type": "execute_result"
    }
   ],
   "source": [
    "X_train.shape"
   ]
  },
  {
   "cell_type": "code",
   "execution_count": 7,
   "id": "0d1754e7",
   "metadata": {},
   "outputs": [
    {
     "data": {
      "text/plain": [
       "(3645, 1)"
      ]
     },
     "execution_count": 7,
     "metadata": {},
     "output_type": "execute_result"
    }
   ],
   "source": [
    "y_train.shape"
   ]
  },
  {
   "cell_type": "code",
   "execution_count": 6,
   "id": "8e1d9011",
   "metadata": {},
   "outputs": [],
   "source": [
    "# in questo dizionario inserisco i parametri con cui testare il DT\n",
    "param_dist_DT = {\n",
    "    'criterion' : ['entropy', 'gini'],\n",
    "    'max_depth' : [5, 6, 7, 8, 9],\n",
    "    'min_samples_split' : [5, 10, 15], # il valore tipico sta fra 1 e 40\n",
    "    'max_features' : [6, 12, 15, 18],\n",
    "    'class_weight' : [{0:1, 1:4}, {0:1, 1:4.5}] # pesi, il valore raccomandato e' sum(negative instances)/sum(positive instances)\n",
    "}"
   ]
  },
  {
   "cell_type": "code",
   "execution_count": 7,
   "id": "3f4ba7ca",
   "metadata": {},
   "outputs": [
    {
     "name": "stdout",
     "output_type": "stream",
     "text": [
      "best hyperparameters::  {'class_weight': {0: 1, 1: 4}, 'criterion': 'gini', 'max_depth': 7, 'max_features': 18, 'min_samples_split': 10}\n",
      "best score::  0.8545953360768176\n",
      "recall score on TR::  0.8141263940520446\n",
      "precision score on TR::  0.4745395449620802\n"
     ]
    }
   ],
   "source": [
    "grid_dt = GridSearchCV(DecisionTreeClassifier(), param_grid=param_dist_DT, cv=3, n_jobs=8)\n",
    "\n",
    "grid_dt.fit(X_train, y_train) # alleno su train\n",
    "y_pred_train = grid_dt.predict(X_train) # effettuo la predizione su train set\n",
    "print('best hyperparameters:: ', grid_dt.best_params_) # stampo i migliori iperparametri\n",
    "print('best score:: ', grid_dt.best_score_) # media degli score (basata sulla metrica di scoring) date sulle cross validation\n",
    "print('recall score on TR:: ', recall_score(y_train, y_pred_train))\n",
    "print('precision score on TR:: ', precision_score(y_train, y_pred_train))"
   ]
  },
  {
   "cell_type": "code",
   "execution_count": 8,
   "id": "556ad569",
   "metadata": {},
   "outputs": [
    {
     "name": "stdout",
     "output_type": "stream",
     "text": [
      "accuracy score on TR::  0.8743484224965706\n",
      "accuracy score on TS::  0.8432017543859649\n"
     ]
    }
   ],
   "source": [
    "# una volta ottenuti i migliori iperparametri guardo se allenando un classificatore con questi valori rischio l'overfitting\n",
    "clf_dt = DecisionTreeClassifier(**grid_dt.best_params_)\n",
    "clf_dt.fit(X_train, y_train)\n",
    "print('accuracy score on TR:: ', clf_dt.score(X_train, y_train))\n",
    "print('accuracy score on TS:: ', clf_dt.score(X_test, y_test))"
   ]
  },
  {
   "cell_type": "code",
   "execution_count": 9,
   "id": "fa7606d1",
   "metadata": {},
   "outputs": [],
   "source": [
    "param_dist_RF = {\n",
    "            'n_estimators':[150, 175, 200, 225, 250],\n",
    "            'min_samples_split' : [30],\n",
    "            'criterion':['gini', 'entropy'],\n",
    "            'class_weight' : [{0:1, 1:5.5}],\n",
    "            'bootstrap': [True, False]\n",
    "}"
   ]
  },
  {
   "cell_type": "code",
   "execution_count": 12,
   "id": "afbedcba",
   "metadata": {},
   "outputs": [
    {
     "name": "stdout",
     "output_type": "stream",
     "text": [
      "best hyperparameters::  {'bootstrap': True, 'class_weight': {0: 1, 1: 5.5}, 'criterion': 'entropy', 'min_samples_split': 30, 'n_estimators': 200}\n",
      "best score::  0.8598079561042523\n",
      "recall score on TR::  0.8884758364312267\n",
      "precision score on TR::  0.6998535871156661\n"
     ]
    }
   ],
   "source": [
    "# effettuo la GridSearchCV() per scegliere i migliori iperparametri\n",
    "grid_rf = GridSearchCV(RandomForestClassifier(), param_grid=param_dist_RF, cv=3, n_jobs=8)\n",
    "grid_rf.fit(X_train, y_train.ravel())\n",
    "y_pred_train = grid_rf.predict(X_train)\n",
    "print('best hyperparameters:: ', grid_rf.best_params_)\n",
    "print('best score:: ', grid_rf.best_score_)\n",
    "print('recall score on TR:: ', recall_score(y_train, y_pred_train))\n",
    "print('precision score on TR:: ', precision_score(y_train, y_pred_train))"
   ]
  },
  {
   "cell_type": "code",
   "execution_count": 13,
   "id": "df0758e2",
   "metadata": {},
   "outputs": [
    {
     "name": "stdout",
     "output_type": "stream",
     "text": [
      "accuracy score on TR::  0.9248285322359396\n",
      "accuracy score on TS::  0.8760964912280702\n"
     ]
    }
   ],
   "source": [
    "# una volta ottenuti i migliori iperparametri guardo se allenando un classificatore con questi valori rischio l'overfitting\n",
    "clf_rf = RandomForestClassifier(**grid_rf.best_params_)\n",
    "clf_rf.fit(X_train, y_train.ravel())\n",
    "print('accuracy score on TR:: ', clf_rf.score(X_train, y_train))\n",
    "print('accuracy score on TS:: ', clf_rf.score(X_test, y_test))"
   ]
  },
  {
   "cell_type": "code",
   "execution_count": 14,
   "id": "76660c7e",
   "metadata": {},
   "outputs": [],
   "source": [
    "grid_param_XGB = {\n",
    "                'learning_rate' : [0.1],\n",
    "                'n_estimators' : [80, 90, 100, 110, 120],\n",
    "                'colsample_bytree' : [0.8],\n",
    "                'scale_pos_weight' : [5.5, 6],\n",
    "                'gamma' : [0, 0.1, 0.2],\n",
    "                'reg_lambda' : [15]\n",
    "}"
   ]
  },
  {
   "cell_type": "code",
   "execution_count": 15,
   "id": "bde9ddfa",
   "metadata": {},
   "outputs": [
    {
     "name": "stdout",
     "output_type": "stream",
     "text": [
      "best hyperparameters::  {'colsample_bytree': 0.8, 'gamma': 0, 'learning_rate': 0.1, 'n_estimators': 120, 'reg_lambda': 15, 'scale_pos_weight': 5.5}\n",
      "best score::  0.8773662551440329\n",
      "recall score on TR::  0.895910780669145\n",
      "precision score on TR::  0.7484472049689441\n"
     ]
    }
   ],
   "source": [
    "# effettuo la GridSearchCV() per scegliere i migliori iperparametri\n",
    "grid_xgb = GridSearchCV(xgb.XGBClassifier(subsample = 0.8, use_label_encoder = False, eval_metric = 'aucpr'), \n",
    "                        param_grid = grid_param_XGB, cv = 3, n_jobs = 8)\n",
    "grid_xgb.fit(X_train, y_train)\n",
    "y_pred_train = grid_xgb.predict(X_train)\n",
    "print('best hyperparameters:: ', grid_xgb.best_params_)\n",
    "print('best score:: ', grid_xgb.best_score_)\n",
    "print('recall score on TR:: ', recall_score(y_train, y_pred_train))\n",
    "print('precision score on TR:: ', precision_score(y_train, y_pred_train))"
   ]
  },
  {
   "cell_type": "code",
   "execution_count": 33,
   "id": "75b63aa5",
   "metadata": {},
   "outputs": [
    {
     "name": "stdout",
     "output_type": "stream",
     "text": [
      "accuracy score on TR::  0.9401920438957476\n",
      "accuracy score on TS::  0.8804824561403509\n"
     ]
    }
   ],
   "source": [
    "# una volta ottenuti i migliori iperparametri guardo se allenando un classificatore con questi valori rischio l'overfitting\n",
    "clf_xgb = xgb.XGBClassifier(learning_rate = 0.1, n_estimators = 120, scale_pos_weight = 5.5, reg_lambda = 15,\n",
    "                            subsample = 0.8, colsample_bytree = 0.8, use_label_encoder = False, eval_metric='aucpr')\n",
    "clf_xgb.fit(X_train, y_train)\n",
    "print('accuracy score on TR:: ', clf_xgb.score(X_train, y_train))\n",
    "print('accuracy score on TS:: ', clf_xgb.score(X_test, y_test))"
   ]
  },
  {
   "cell_type": "code",
   "execution_count": 18,
   "id": "edca3c0d",
   "metadata": {},
   "outputs": [],
   "source": [
    "model_params = {\n",
    "    'decision_tree': {\n",
    "        'model': DecisionTreeClassifier(),\n",
    "        'params': { \n",
    "            'criterion' : ['entropy', 'gini'],\n",
    "            'max_depth' : [5, 6, 7, 8, 9],\n",
    "            'min_samples_split' : [5, 10, 15], # il valore tipico sta fra 1 e 40\n",
    "            'max_features' : [6, 12, 15, 18],\n",
    "            'class_weight' : [{0:1, 1:4}, {0:1, 1:4.5}] # pesi, il valore raccomandato e' sum(negative instances)/sum(positive instances)\n",
    "        }\n",
    "    },\n",
    "    'random_forest': {\n",
    "        'model': RandomForestClassifier(min_samples_split = 30),\n",
    "        'params': {\n",
    "            'n_estimators':[150, 175, 200, 225, 250],\n",
    "            'criterion':['gini', 'entropy'],\n",
    "            'class_weight' : [{0:1, 1:5.5}],\n",
    "            'bootstrap': [True, False]\n",
    "        }\n",
    "    },\n",
    "    'xgboost': {\n",
    "        'model': xgb.XGBClassifier(learning_rate = 0.1, # funziona bene per valori fra 0.01 e 0.25 \n",
    "                                   subsample = 0.8,\n",
    "                                   eval_metric = 'aucpr', \n",
    "                                   use_label_encoder = False),\n",
    "        'params': {\n",
    "                'n_estimators' : [90, 100, 110, 120],\n",
    "                'colsample_bytree' : [0.8],\n",
    "                'scale_pos_weight' : [5.5, 6],\n",
    "                'gamma' : [0, 0.1, 0.2],\n",
    "                'reg_lambda' : [15]\n",
    "        }\n",
    "    }\n",
    "}"
   ]
  },
  {
   "cell_type": "code",
   "execution_count": 19,
   "id": "e715410d",
   "metadata": {},
   "outputs": [
    {
     "data": {
      "text/html": [
       "<div>\n",
       "<style scoped>\n",
       "    .dataframe tbody tr th:only-of-type {\n",
       "        vertical-align: middle;\n",
       "    }\n",
       "\n",
       "    .dataframe tbody tr th {\n",
       "        vertical-align: top;\n",
       "    }\n",
       "\n",
       "    .dataframe thead th {\n",
       "        text-align: right;\n",
       "    }\n",
       "</style>\n",
       "<table border=\"1\" class=\"dataframe\">\n",
       "  <thead>\n",
       "    <tr style=\"text-align: right;\">\n",
       "      <th></th>\n",
       "      <th>model</th>\n",
       "      <th>best_score</th>\n",
       "      <th>best_params</th>\n",
       "    </tr>\n",
       "  </thead>\n",
       "  <tbody>\n",
       "    <tr>\n",
       "      <th>0</th>\n",
       "      <td>decision_tree</td>\n",
       "      <td>0.854321</td>\n",
       "      <td>{'class_weight': {0: 1, 1: 4}, 'criterion': 'entropy', 'max_depth': 9, 'max_features': 18, 'min_samples_split': 5}</td>\n",
       "    </tr>\n",
       "    <tr>\n",
       "      <th>1</th>\n",
       "      <td>random_forest</td>\n",
       "      <td>0.858711</td>\n",
       "      <td>{'bootstrap': False, 'class_weight': {0: 1, 1: 5.5}, 'criterion': 'entropy', 'n_estimators': 225}</td>\n",
       "    </tr>\n",
       "    <tr>\n",
       "      <th>2</th>\n",
       "      <td>xgboost</td>\n",
       "      <td>0.877366</td>\n",
       "      <td>{'colsample_bytree': 0.8, 'gamma': 0, 'n_estimators': 120, 'reg_lambda': 15, 'scale_pos_weight': 5.5}</td>\n",
       "    </tr>\n",
       "  </tbody>\n",
       "</table>\n",
       "</div>"
      ],
      "text/plain": [
       "           model  best_score  \\\n",
       "0  decision_tree    0.854321   \n",
       "1  random_forest    0.858711   \n",
       "2        xgboost    0.877366   \n",
       "\n",
       "                                                                                                          best_params  \n",
       "0  {'class_weight': {0: 1, 1: 4}, 'criterion': 'entropy', 'max_depth': 9, 'max_features': 18, 'min_samples_split': 5}  \n",
       "1                   {'bootstrap': False, 'class_weight': {0: 1, 1: 5.5}, 'criterion': 'entropy', 'n_estimators': 225}  \n",
       "2               {'colsample_bytree': 0.8, 'gamma': 0, 'n_estimators': 120, 'reg_lambda': 15, 'scale_pos_weight': 5.5}  "
      ]
     },
     "execution_count": 19,
     "metadata": {},
     "output_type": "execute_result"
    }
   ],
   "source": [
    "scores = []\n",
    "\n",
    "for model_name, mp in model_params.items():\n",
    "    clf =  GridSearchCV(mp['model'], mp['params'], cv=3, return_train_score=False, n_jobs=8)\n",
    "    clf.fit(X_train, y_train.ravel())\n",
    "    scores.append({\n",
    "        'model': model_name,\n",
    "        'best_score': clf.best_score_,\n",
    "        'best_params': clf.best_params_,\n",
    "        'best_estimator': clf.best_estimator_ # necessario per riallenare\n",
    "    })\n",
    "    \n",
    "pd.set_option(\"display.max_colwidth\", None)\n",
    "df = pd.DataFrame(scores,columns=['model','best_score','best_params'])\n",
    "df"
   ]
  },
  {
   "cell_type": "code",
   "execution_count": 20,
   "id": "df06e15b",
   "metadata": {},
   "outputs": [
    {
     "data": {
      "text/plain": [
       "XGBClassifier(base_score=0.5, booster='gbtree', colsample_bylevel=1,\n",
       "              colsample_bynode=1, colsample_bytree=0.8,\n",
       "              enable_categorical=False, eval_metric='aucpr', gamma=0, gpu_id=-1,\n",
       "              importance_type=None, interaction_constraints='',\n",
       "              learning_rate=0.1, max_delta_step=0, max_depth=6,\n",
       "              min_child_weight=1, missing=nan, monotone_constraints='()',\n",
       "              n_estimators=120, n_jobs=12, num_parallel_tree=1,\n",
       "              predictor='auto', random_state=0, reg_alpha=0, reg_lambda=15,\n",
       "              scale_pos_weight=5.5, subsample=0.8, tree_method='exact',\n",
       "              use_label_encoder=False, validate_parameters=1, verbosity=None)"
      ]
     },
     "execution_count": 20,
     "metadata": {},
     "output_type": "execute_result"
    }
   ],
   "source": [
    "models_list = sorted(scores, key=lambda d: d['best_score']) # ordino in base al best_score\n",
    "model = models_list[-1] # prendo l'ultimo modello (quello con score piu' alto)\n",
    "clf = model.get('best_estimator') # ottengo i valori con cui allenare\n",
    "clf.fit(X_train, y_train) # rialleno"
   ]
  },
  {
   "cell_type": "code",
   "execution_count": 21,
   "id": "4fe0831e",
   "metadata": {},
   "outputs": [
    {
     "name": "stdout",
     "output_type": "stream",
     "text": [
      "                    (Number, Feature)  Importance\n",
      "0                      (15, paid_one)    0.216389\n",
      "1    (9, #addresses_paid_by_contract)    0.077853\n",
      "2                          (2, tx_in)    0.059216\n",
      "3   (20, owner_gets_eth_Wo_investing)    0.056614\n",
      "4   (7, payment_from_contract/tx_out)    0.050280\n",
      "5   (6, investment_to_contract/tx_in)    0.045724\n",
      "6                    (17, sdev_tx_in)    0.043868\n",
      "7         (16, percentage_some_tx_in)    0.041807\n",
      "8                       (10, mean_v1)    0.035240\n",
      "9                     (14, paid_rate)    0.034260\n",
      "10                      (13, sdev_v2)    0.033904\n",
      "11                      (1, lifetime)    0.033286\n",
      "12                       (0, balance)    0.031160\n",
      "13                 (4, investment_in)    0.029459\n",
      "14       (18, percentage_some_tx_out)    0.027847\n",
      "15                      (11, sdev_v1)    0.027054\n",
      "16                      (12, mean_v2)    0.025098\n",
      "17     (21, owner_gets_eth_investing)    0.024813\n",
      "18                  (19, sdev_tx_out)    0.023359\n",
      "19    (8, #addresses_paying_contract)    0.022826\n",
      "20                        (3, tx_out)    0.021761\n",
      "21                   (5, payment_out)    0.021319\n",
      "22                 (22, owner_no_eth)    0.016865\n"
     ]
    },
    {
     "data": {
      "image/png": "[encoded data removed]",
      "text/plain": [
       "<Figure size 432x288 with 1 Axes>"
      ]
     },
     "metadata": {
      "needs_background": "light"
     },
     "output_type": "display_data"
    }
   ],
   "source": [
    "features_importances = clf.feature_importances_\n",
    "res = dict(zip(pairs_number_features, features_importances))\n",
    "sorted_dict = dict(sorted(res.items(), key=lambda item: item[1], reverse = True))\n",
    "print(pd.DataFrame(list(sorted_dict.items()),columns=['(Number, Feature)', 'Importance']))\n",
    "plt.bar(range(len(features_importances)), features_importances)\n",
    "plt.show()"
   ]
  },
  {
   "cell_type": "code",
   "execution_count": 22,
   "id": "20f2552f",
   "metadata": {},
   "outputs": [
    {
     "name": "stdout",
     "output_type": "stream",
     "text": [
      "precision score::  0.589041095890411\n",
      "recall score::  0.6370370370370371\n",
      "accuracy score::  0.8804824561403509\n",
      "F1 score:: 0.612099644128114\n"
     ]
    },
    {
     "data": {
      "text/plain": [
       "<AxesSubplot:>"
      ]
     },
     "execution_count": 22,
     "metadata": {},
     "output_type": "execute_result"
    },
    {
     "data": {
      "image/png": "[encoded data removed]",
      "text/plain": [
       "<Figure size 432x288 with 2 Axes>"
      ]
     },
     "metadata": {
      "needs_background": "light"
     },
     "output_type": "display_data"
    }
   ],
   "source": [
    "# faccio la predizione e stampo le statistiche sul modello migliore (quello che ha vinto nella GridSearch)\n",
    "\n",
    "y_pred = clf.predict(X_test)\n",
    "print('precision score:: ', precision_score(y_test, y_pred)) # TP / (FP + TP)\n",
    "print('recall score:: ', recall_score(y_test, y_pred))\t     # TP / (FN + TP)\n",
    "print('accuracy score:: ', accuracy_score(y_test, y_pred))\t # (TP + TN)/ (TP + FN + TN + FP)\n",
    "print('F1 score::', f1_score(y_test, y_pred))\n",
    "cm = confusion_matrix(y_test, y_pred)\n",
    "sns.heatmap(cm, annot=True, cmap='Greens', fmt='d')"
   ]
  },
  {
   "cell_type": "code",
   "execution_count": 23,
   "id": "e1dd2f4a",
   "metadata": {},
   "outputs": [
    {
     "name": "stdout",
     "output_type": "stream",
     "text": [
      "precision score::  0.5576923076923077\n",
      "recall score::  0.6444444444444445\n",
      "accuracy score::  0.8717105263157895\n",
      "F1 score:: 0.5979381443298969\n"
     ]
    },
    {
     "data": {
      "text/plain": [
       "<AxesSubplot:>"
      ]
     },
     "execution_count": 23,
     "metadata": {},
     "output_type": "execute_result"
    },
    {
     "data": {
      "image/png": "[encoded data removed]",
      "text/plain": [
       "<Figure size 432x288 with 2 Axes>"
      ]
     },
     "metadata": {
      "needs_background": "light"
     },
     "output_type": "display_data"
    }
   ],
   "source": [
    "# risultati ottenuti con il secondo migliore\n",
    "\n",
    "model = models_list[1] # prendo il modello medio\n",
    "clf2 = model.get('best_estimator') # ottengo i valori con cui allenare\n",
    "clf2.fit(X_train, y_train.ravel()) # rialleno\n",
    "y_pred2 = clf2.predict(X_test)\n",
    "print('precision score:: ', precision_score(y_test, y_pred2)) #  TP / (FP + TP)\n",
    "print('recall score:: ', recall_score(y_test, y_pred2))\t     # \tTP / (FN + TP)\n",
    "print('accuracy score:: ', accuracy_score(y_test, y_pred2))\t #  (TP + TN)/ (TP + FN + TN + FP)\n",
    "print('F1 score::', f1_score(y_test, y_pred2))\n",
    "cm = confusion_matrix(y_test, y_pred2)\n",
    "sns.heatmap(cm, annot=True, cmap='Reds', fmt='d')"
   ]
  },
  {
   "cell_type": "code",
   "execution_count": 24,
   "id": "0d70e6d5",
   "metadata": {},
   "outputs": [
    {
     "data": {
      "image/png": "[encoded data removed]",
      "text/plain": [
       "<Figure size 432x288 with 1 Axes>"
      ]
     },
     "metadata": {
      "needs_background": "light"
     },
     "output_type": "display_data"
    }
   ],
   "source": [
    "# predict probabilities\n",
    "y_pred_proba_winner = clf.predict_proba(X_test)\n",
    "# keep probabilities for the positive outcome only\n",
    "y_pred_proba_w = y_pred_proba_winner[:, 1]\n",
    "# calculate pr-curve\n",
    "p, r, thrs = precision_recall_curve(y_test, y_pred_proba_w)\n",
    "\n",
    "\n",
    "y_pred_proba_second = clf2.predict_proba(X_test)\n",
    "y_pred_proba_s = y_pred_proba_second[:, 1]\n",
    "p2, r2, thrs2 = precision_recall_curve(y_test, y_pred_proba_s)\n",
    "# plot the roc curve for the model\n",
    "no_skill = len(y_test[y_test == 1]) / len(y_test)\n",
    "plt.plot([0,1], [no_skill, no_skill], linestyle = '--', label = 'No Skill')\n",
    "plt.plot(r, p, marker = '.', label = 'XGB')\n",
    "plt.plot(r2, p2, marker = '.', label = 'RF')\n",
    "# axis labels\n",
    "plt.xlabel('Recall')\n",
    "plt.ylabel('Precision')\n",
    "plt.legend()\n",
    "# show the plot\n",
    "plt.show()"
   ]
  },
  {
   "cell_type": "code",
   "execution_count": 31,
   "id": "3f0602c5",
   "metadata": {},
   "outputs": [
    {
     "name": "stdout",
     "output_type": "stream",
     "text": [
      "Best Threshold of the winner model = 0.311268, Fbeta-Score = 0.636\n",
      "Best Threshold of the second model = 0.416881, Fbeta-Score = 0.633\n"
     ]
    }
   ],
   "source": [
    "# convert to f score\n",
    "beta = 1.75 # se metto valori <= 1 allora e' come favorire F1 o precision, piu' alzo beta e piu' importanza ha la recall\n",
    "fbetaw = ((1 + beta**2) * p * r) / (beta**2 * p + r)\n",
    "# locate the index of the largest f score\n",
    "ixw = np.argmax(fbetaw)\n",
    "fbetas = ((1 + beta**2) * p2 * r2) / (beta**2 * p2 + r2)\n",
    "ixs = np.argmax(fbetas)\n",
    "print('Best Threshold of the winner model = %f, Fbeta-Score = %.3f' % (thrs[ixw], fbetaw[ixw]))\n",
    "print('Best Threshold of the second model = %f, Fbeta-Score = %.3f' % (thrs2[ixs], fbetas[ixs]))"
   ]
  },
  {
   "cell_type": "code",
   "execution_count": 32,
   "id": "e7dcbfec",
   "metadata": {},
   "outputs": [
    {
     "data": {
      "text/plain": [
       "<AxesSubplot:>"
      ]
     },
     "execution_count": 32,
     "metadata": {},
     "output_type": "execute_result"
    },
    {
     "data": {
      "image/png": "[encoded data removed]",
      "text/plain": [
       "<Figure size 432x288 with 2 Axes>"
      ]
     },
     "metadata": {
      "needs_background": "light"
     },
     "output_type": "display_data"
    }
   ],
   "source": [
    "y_pred_thrs = np.where(clf.predict_proba(X_test)[:, 1] > thrs[ixw], 1, 0)\n",
    "cm_thrs = confusion_matrix(y_test, y_pred_thrs)\n",
    "sns.heatmap(cm_thrs, annot=True, cmap='Greys', fmt='d')"
   ]
  },
  {
   "cell_type": "code",
   "execution_count": null,
   "id": "e806da33",
   "metadata": {},
   "outputs": [],
   "source": []
  }
 ],
 "metadata": {
  "kernelspec": {
   "display_name": "Python 3 (ipykernel)",
   "language": "python",
   "name": "python3"
  },
  "language_info": {
   "codemirror_mode": {
    "name": "ipython",
    "version": 3
   },
   "file_extension": ".py",
   "mimetype": "text/x-python",
   "name": "python",
   "nbconvert_exporter": "python",
   "pygments_lexer": "ipython3",
   "version": "3.9.7"
  }
 },
 "nbformat": 4,
 "nbformat_minor": 5
}
