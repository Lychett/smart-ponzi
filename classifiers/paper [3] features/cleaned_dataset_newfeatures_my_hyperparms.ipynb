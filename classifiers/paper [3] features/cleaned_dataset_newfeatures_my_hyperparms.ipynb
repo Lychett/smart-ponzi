{
 "cells": [
  {
   "cell_type": "code",
   "execution_count": 64,
   "id": "c99ddc29",
   "metadata": {},
   "outputs": [],
   "source": [
    "import numpy as np\n",
    "import pandas as pd\n",
    "import seaborn as sns # libreria utile per matrice di confusione\n",
    "import plotly.express as px\n",
    "from collections import Counter\n",
    "from matplotlib import pyplot as plt\n",
    "from sklearn import tree\n",
    "from sklearn.metrics import accuracy_score, precision_score, recall_score, f1_score, fbeta_score, make_scorer, precision_recall_curve, confusion_matrix\n",
    "from sklearn.model_selection import train_test_split, GridSearchCV\n",
    "from sklearn.tree import DecisionTreeClassifier\n",
    "from sklearn.ensemble import RandomForestClassifier\n",
    "import xgboost as xgb"
   ]
  },
  {
   "cell_type": "code",
   "execution_count": 2,
   "id": "f05d34b5",
   "metadata": {},
   "outputs": [
    {
     "name": "stdout",
     "output_type": "stream",
     "text": [
      "[(0, 'balance'), (1, 'N_maxpayment'), (2, 'investment_in'), (3, 'payment_out'), (4, 'mean_v1'), (5, 'sdev_v1'), (6, 'skew_v1'), (7, 'mean_v2'), (8, 'sdev_v2'), (9, 'skew_v2'), (10, 'known_rate'), (11, 'paid_rate'), (12, 'paid_one')]\n"
     ]
    }
   ],
   "source": [
    "# leggo il dataset ed il target\n",
    "\n",
    "dataset = pd.read_csv(r'C:\\Users\\andre\\Desktop\\materiale tesi\\settimana 16\\dataset\\exploiting blockchain - cleaned\\dataset.csv', header = 0)\n",
    "features_names = list(dataset.columns) # ottengo i nomi delle features\n",
    "features_names.pop(0) # rimuovo il primo addresses, in quanto non e' una feature\n",
    "pairs_number_features = list() # creo una lista che contiene coppie <#_feature, nome_feature>\n",
    "idx = 0\n",
    "\n",
    "while idx < len(features_names):\n",
    "    pair = (idx, features_names[idx])\n",
    "    pairs_number_features.append(pair)\n",
    "    idx+=1\n",
    "    \n",
    "print(pairs_number_features)\n",
    "\n",
    "target = pd.read_csv(r'C:\\Users\\andre\\Desktop\\materiale tesi\\settimana 16\\dataset\\exploiting blockchain - cleaned\\target.csv', header = 0)"
   ]
  },
  {
   "cell_type": "code",
   "execution_count": 3,
   "id": "a4d37fa7",
   "metadata": {},
   "outputs": [],
   "source": [
    "X = dataset.values[:, 1:] # rimuovo la prima colonna che contiene gli indirizzi\n",
    "y = target.values\n",
    "\n",
    "# divido in train set (TR) e test set (TS)\n",
    "X_train, X_test, y_train, y_test = train_test_split(X, y, test_size=0.2, random_state = 42, stratify=y) "
   ]
  },
  {
   "cell_type": "code",
   "execution_count": 4,
   "id": "247af21c",
   "metadata": {},
   "outputs": [
    {
     "name": "stdout",
     "output_type": "stream",
     "text": [
      "Number of smart contract in train set:: 3107\n",
      "Number of smart Ponzi in train set:: 538\n",
      "Number of smart contract in test set:: 777\n",
      "Number of smart Ponzi in test set:: 135\n"
     ]
    }
   ],
   "source": [
    "# vado a stampare il numero di non ponzi e ponzi presenti nel train set e nel test_set\n",
    "flat_list_train = [item for sublist in y_train.tolist() for item in sublist]\n",
    "print('Number of smart contract in train set::', flat_list_train.count(0))\n",
    "print('Number of smart Ponzi in train set::', flat_list_train.count(1))\n",
    "flat_list_test = [item for sublist in y_test.tolist() for item in sublist]\n",
    "print('Number of smart contract in test set::', flat_list_test.count(0))\n",
    "print('Number of smart Ponzi in test set::', flat_list_test.count(1))"
   ]
  },
  {
   "cell_type": "code",
   "execution_count": 65,
   "id": "eb6cba15",
   "metadata": {},
   "outputs": [],
   "source": [
    "param_dist_DT = {\n",
    "    'criterion' : ['entropy', 'gini'],\n",
    "    'max_depth' : [6, 7, 8, 9, 10],\n",
    "    'min_samples_split' : [10, 15, 20], # il valore tipico sta fra 1 e 40\n",
    "    'class_weight' : [{0:1, 1:4.75}, {0:1, 1:5}] # pesi, il valore raccomandato e' sum(negative instances)/sum(positive instances)\n",
    "}"
   ]
  },
  {
   "cell_type": "code",
   "execution_count": 66,
   "id": "e3ed8384",
   "metadata": {},
   "outputs": [
    {
     "name": "stdout",
     "output_type": "stream",
     "text": [
      "best hyperparameters::  {'class_weight': {0: 1, 1: 4.75}, 'criterion': 'entropy', 'max_depth': 9, 'min_samples_split': 20}\n",
      "best score::  0.7909465020576132\n",
      "recall score on TR::  0.8066914498141264\n",
      "precision score on TR::  0.4177093358999038\n"
     ]
    }
   ],
   "source": [
    "grid_dt = GridSearchCV(DecisionTreeClassifier(), param_grid=param_dist_DT, cv=3, n_jobs=8)\n",
    "\n",
    "grid_dt.fit(X_train, y_train) # alleno su train\n",
    "y_pred_train = grid_dt.predict(X_train) # effettuo la predizione su train set\n",
    "print('best hyperparameters:: ', grid_dt.best_params_) # stampo i migliori iperparametri\n",
    "print('best score:: ', grid_dt.best_score_) # media degli score (basata sulla metrica di scoring) date sulle cross validation\n",
    "print('recall score on TR:: ', recall_score(y_train, y_pred_train))\n",
    "print('precision score on TR:: ', precision_score(y_train, y_pred_train))"
   ]
  },
  {
   "cell_type": "code",
   "execution_count": 67,
   "id": "b189ab2e",
   "metadata": {},
   "outputs": [
    {
     "name": "stdout",
     "output_type": "stream",
     "text": [
      "accuracy score on TR::  0.8054869684499314\n",
      "accuracy score on TS::  0.7796052631578947\n"
     ]
    }
   ],
   "source": [
    "# una volta ottenuti i migliori iperparametri guardo se allenando un classificatore con questi valori rischio l'overfitting\n",
    "clf_dt = DecisionTreeClassifier(**grid_dt.best_params_)\n",
    "clf_dt.fit(X_train, y_train)\n",
    "print('accuracy score on TR:: ', clf_dt.score(X_train, y_train))\n",
    "print('accuracy score on TS:: ', clf_dt.score(X_test, y_test))"
   ]
  },
  {
   "cell_type": "code",
   "execution_count": 69,
   "id": "2a96301f",
   "metadata": {},
   "outputs": [],
   "source": [
    "param_dist_RF = {\n",
    "            'n_estimators':[150, 170, 190, 200],\n",
    "            'max_depth' : [8, 9, 10],\n",
    "            'min_samples_split' : [35],\n",
    "            'criterion':['gini', 'entropy'],\n",
    "            'class_weight' : [{0:1, 1:5.5}, {0:1, 1:6}],\n",
    "            'bootstrap': [True, False]\n",
    "}"
   ]
  },
  {
   "cell_type": "code",
   "execution_count": 70,
   "id": "1480f6af",
   "metadata": {},
   "outputs": [
    {
     "name": "stdout",
     "output_type": "stream",
     "text": [
      "best hyperparameters::  {'bootstrap': True, 'class_weight': {0: 1, 1: 5.5}, 'criterion': 'gini', 'max_depth': 10, 'min_samples_split': 35, 'n_estimators': 170}\n",
      "best score::  0.8063100137174212\n",
      "recall score on TR::  0.7769516728624535\n",
      "precision score on TR::  0.4583333333333333\n"
     ]
    }
   ],
   "source": [
    "# effettuo la GridSearchCV() per scegliere i migliori iperparametri\n",
    "grid_rf = GridSearchCV(RandomForestClassifier(), param_grid=param_dist_RF, cv=3, n_jobs=8)\n",
    "grid_rf.fit(X_train, y_train.ravel())\n",
    "y_pred_train = grid_rf.predict(X_train)\n",
    "print('best hyperparameters:: ', grid_rf.best_params_)\n",
    "print('best score:: ', grid_rf.best_score_)\n",
    "print('recall score on TR:: ', recall_score(y_train, y_pred_train))\n",
    "print('precision score on TR:: ', precision_score(y_train, y_pred_train))"
   ]
  },
  {
   "cell_type": "code",
   "execution_count": 71,
   "id": "62635ebb",
   "metadata": {},
   "outputs": [
    {
     "name": "stdout",
     "output_type": "stream",
     "text": [
      "accuracy score on TR::  0.8318244170096022\n",
      "accuracy score on TS::  0.7982456140350878\n"
     ]
    }
   ],
   "source": [
    "# una volta ottenuti i migliori iperparametri guardo se allenando un classificatore con questi valori rischio l'overfitting\n",
    "clf_rf = RandomForestClassifier(**grid_rf.best_params_)\n",
    "clf_rf.fit(X_train, y_train.ravel())\n",
    "print('accuracy score on TR:: ', clf_rf.score(X_train, y_train))\n",
    "print('accuracy score on TS:: ', clf_rf.score(X_test, y_test))"
   ]
  },
  {
   "cell_type": "code",
   "execution_count": 73,
   "id": "5d42be23",
   "metadata": {},
   "outputs": [],
   "source": [
    "grid_param_XGB = {\n",
    "                'learning_rate' : [0.05],\n",
    "                'n_estimators' : [150, 170, 190, 200],\n",
    "                'max_depth' : [9, 10],\n",
    "                'colsample_bytree' : [0.8],\n",
    "                'scale_pos_weight' : [6],\n",
    "                'gamma' : [0.1, 0.25, 0.4],\n",
    "                'reg_lambda' : [50]\n",
    "}"
   ]
  },
  {
   "cell_type": "code",
   "execution_count": 74,
   "id": "e6639383",
   "metadata": {},
   "outputs": [
    {
     "name": "stdout",
     "output_type": "stream",
     "text": [
      "best hyperparameters::  {'colsample_bytree': 0.8, 'gamma': 0.1, 'learning_rate': 0.05, 'max_depth': 10, 'n_estimators': 200, 'reg_lambda': 50, 'scale_pos_weight': 6}\n",
      "best score::  0.8065843621399177\n",
      "recall score on TR::  0.8159851301115242\n",
      "precision score on TR::  0.5158636897767332\n"
     ]
    }
   ],
   "source": [
    "# effettuo la GridSearchCV() per scegliere i migliori iperparametri\n",
    "grid_xgb = GridSearchCV(xgb.XGBClassifier(subsample = 0.8, use_label_encoder = False, eval_metric = 'aucpr'), \n",
    "                        param_grid = grid_param_XGB, cv = 3, n_jobs = 8)\n",
    "grid_xgb.fit(X_train, y_train)\n",
    "y_pred_train = grid_xgb.predict(X_train)\n",
    "print('best hyperparameters:: ', grid_xgb.best_params_)\n",
    "print('best score:: ', grid_xgb.best_score_)\n",
    "print('recall score on TR:: ', recall_score(y_train, y_pred_train))\n",
    "print('precision score on TR:: ', precision_score(y_train, y_pred_train))"
   ]
  },
  {
   "cell_type": "code",
   "execution_count": 77,
   "id": "8d690454",
   "metadata": {},
   "outputs": [
    {
     "name": "stdout",
     "output_type": "stream",
     "text": [
      "accuracy score on TR::  0.8326474622770919\n",
      "accuracy score on TS::  0.8037280701754386\n"
     ]
    }
   ],
   "source": [
    "# una volta ottenuti i migliori iperparametri guardo se allenando un classificatore con questi valori rischio l'overfitting\n",
    "clf_xgb = xgb.XGBClassifier(learning_rate = 0.05, n_estimators = 200, scale_pos_weight = 6, reg_lambda = 50, gamma =0.1,\n",
    "                            subsample = 0.8, colsample_bytree = 0.8, use_label_encoder = False, eval_metric='aucpr')\n",
    "clf_xgb.fit(X_train, y_train)\n",
    "print('accuracy score on TR:: ', clf_xgb.score(X_train, y_train))\n",
    "print('accuracy score on TS:: ', clf_xgb.score(X_test, y_test))"
   ]
  },
  {
   "cell_type": "code",
   "execution_count": 87,
   "id": "a2b96054",
   "metadata": {},
   "outputs": [],
   "source": [
    "model_params = {\n",
    "    'decision_tree': {\n",
    "        'model': DecisionTreeClassifier(),\n",
    "        'params': { \n",
    "            'criterion' : ['entropy', 'gini'],\n",
    "            'max_depth' : [6, 7, 8, 9, 10],\n",
    "            'min_samples_split' : [10, 15, 20], # il valore tipico sta fra 1 e 40\n",
    "            'class_weight' : [{0:1, 1:4.75}, {0:1, 1:5}] # pesi, il valore raccomandato e' sum(negative instances)/sum(positive instances)\n",
    "        }\n",
    "    },\n",
    "    'random_forest': {\n",
    "        'model': RandomForestClassifier(min_samples_split = 35),\n",
    "        'params': {\n",
    "            'n_estimators':[200, 210, 220, 230, 240, 250],\n",
    "            'criterion':['gini', 'entropy'],\n",
    "            'class_weight' : [{0:1, 1:5.5}, {0:1, 1:6}],\n",
    "            'bootstrap': [True, False]\n",
    "        }\n",
    "    },\n",
    "    'xgboost': {\n",
    "        'model': xgb.XGBClassifier(learning_rate = 0.05,\n",
    "                                   subsample = 0.8, \n",
    "                                   scale_pos_weight  =6, \n",
    "                                   colsample_bytree = 0.8,\n",
    "                                   reg_lambda = 50,\n",
    "                                   eval_metric = 'aucpr', \n",
    "                                   use_label_encoder = False),\n",
    "        'params': {\n",
    "                'n_estimators' : [150, 170, 190, 200],\n",
    "                'max_depth' : [9, 10],\n",
    "                'gamma' : [0.1, 0.25, 0.4],\n",
    "        }\n",
    "    }\n",
    "}"
   ]
  },
  {
   "cell_type": "code",
   "execution_count": 88,
   "id": "2fa7ea26",
   "metadata": {},
   "outputs": [
    {
     "data": {
      "text/html": [
       "<div>\n",
       "<style scoped>\n",
       "    .dataframe tbody tr th:only-of-type {\n",
       "        vertical-align: middle;\n",
       "    }\n",
       "\n",
       "    .dataframe tbody tr th {\n",
       "        vertical-align: top;\n",
       "    }\n",
       "\n",
       "    .dataframe thead th {\n",
       "        text-align: right;\n",
       "    }\n",
       "</style>\n",
       "<table border=\"1\" class=\"dataframe\">\n",
       "  <thead>\n",
       "    <tr style=\"text-align: right;\">\n",
       "      <th></th>\n",
       "      <th>model</th>\n",
       "      <th>best_score</th>\n",
       "      <th>best_params</th>\n",
       "    </tr>\n",
       "  </thead>\n",
       "  <tbody>\n",
       "    <tr>\n",
       "      <th>0</th>\n",
       "      <td>decision_tree</td>\n",
       "      <td>0.794239</td>\n",
       "      <td>{'class_weight': {0: 1, 1: 4.75}, 'criterion': 'gini', 'max_depth': 9, 'min_samples_split': 15}</td>\n",
       "    </tr>\n",
       "    <tr>\n",
       "      <th>1</th>\n",
       "      <td>random_forest</td>\n",
       "      <td>0.820850</td>\n",
       "      <td>{'bootstrap': True, 'class_weight': {0: 1, 1: 5.5}, 'criterion': 'entropy', 'n_estimators': 230}</td>\n",
       "    </tr>\n",
       "    <tr>\n",
       "      <th>2</th>\n",
       "      <td>xgboost</td>\n",
       "      <td>0.806584</td>\n",
       "      <td>{'gamma': 0.1, 'max_depth': 10, 'n_estimators': 200}</td>\n",
       "    </tr>\n",
       "  </tbody>\n",
       "</table>\n",
       "</div>"
      ],
      "text/plain": [
       "           model  best_score  \\\n",
       "0  decision_tree    0.794239   \n",
       "1  random_forest    0.820850   \n",
       "2        xgboost    0.806584   \n",
       "\n",
       "                                                                                        best_params  \n",
       "0   {'class_weight': {0: 1, 1: 4.75}, 'criterion': 'gini', 'max_depth': 9, 'min_samples_split': 15}  \n",
       "1  {'bootstrap': True, 'class_weight': {0: 1, 1: 5.5}, 'criterion': 'entropy', 'n_estimators': 230}  \n",
       "2                                              {'gamma': 0.1, 'max_depth': 10, 'n_estimators': 200}  "
      ]
     },
     "execution_count": 88,
     "metadata": {},
     "output_type": "execute_result"
    }
   ],
   "source": [
    "scores = []\n",
    "\n",
    "for model_name, mp in model_params.items():\n",
    "    clf =  GridSearchCV(mp['model'], mp['params'], cv=3, return_train_score=False, n_jobs=8)\n",
    "    clf.fit(X_train, y_train.ravel())\n",
    "    scores.append({\n",
    "        'model': model_name,\n",
    "        'best_score': clf.best_score_,\n",
    "        'best_params': clf.best_params_,\n",
    "        'best_estimator': clf.best_estimator_ # necessario per riallenare\n",
    "    })\n",
    "    \n",
    "pd.set_option(\"display.max_colwidth\", None)\n",
    "df = pd.DataFrame(scores,columns=['model','best_score','best_params'])\n",
    "df"
   ]
  },
  {
   "cell_type": "code",
   "execution_count": 89,
   "id": "56995a62",
   "metadata": {},
   "outputs": [
    {
     "data": {
      "text/plain": [
       "RandomForestClassifier(class_weight={0: 1, 1: 5.5}, criterion='entropy',\n",
       "                       min_samples_split=35, n_estimators=230)"
      ]
     },
     "execution_count": 89,
     "metadata": {},
     "output_type": "execute_result"
    }
   ],
   "source": [
    "models_list = sorted(scores, key=lambda d: d['best_score']) # ordino in base al best_score\n",
    "model = models_list[-1] # prendo l'ultimo modello (quello con score piu' alto)\n",
    "clf = model.get('best_estimator') # ottengo i valori con cui allenare\n",
    "clf.fit(X_train, y_train.ravel()) # rialleno"
   ]
  },
  {
   "cell_type": "code",
   "execution_count": 90,
   "id": "1a768681",
   "metadata": {},
   "outputs": [
    {
     "name": "stdout",
     "output_type": "stream",
     "text": [
      "     (Number, Feature)  Importance\n",
      "0       (12, paid_one)    0.140216\n",
      "1     (10, known_rate)    0.117471\n",
      "2         (8, sdev_v2)    0.108247\n",
      "3         (4, mean_v1)    0.100659\n",
      "4      (11, paid_rate)    0.095004\n",
      "5   (2, investment_in)    0.081875\n",
      "6         (5, sdev_v1)    0.064500\n",
      "7         (6, skew_v1)    0.058652\n",
      "8     (3, payment_out)    0.054163\n",
      "9         (9, skew_v2)    0.051485\n",
      "10   (1, N_maxpayment)    0.047318\n",
      "11        (0, balance)    0.043363\n",
      "12        (7, mean_v2)    0.037046\n"
     ]
    },
    {
     "data": {
      "image/png": "[encoded data removed]",
      "text/plain": [
       "<Figure size 432x288 with 1 Axes>"
      ]
     },
     "metadata": {
      "needs_background": "light"
     },
     "output_type": "display_data"
    }
   ],
   "source": [
    "features_importances = clf.feature_importances_\n",
    "res = dict(zip(pairs_number_features, features_importances))\n",
    "sorted_dict = dict(sorted(res.items(), key=lambda item: item[1], reverse = True))\n",
    "print(pd.DataFrame(list(sorted_dict.items()),columns=['(Number, Feature)', 'Importance']))\n",
    "plt.bar(range(len(features_importances)), features_importances)\n",
    "plt.show()"
   ]
  },
  {
   "cell_type": "code",
   "execution_count": 91,
   "id": "cb36d953",
   "metadata": {},
   "outputs": [
    {
     "name": "stdout",
     "output_type": "stream",
     "text": [
      "precision score::  0.42045454545454547\n",
      "recall score::  0.5481481481481482\n",
      "accuracy score::  0.8212719298245614\n",
      "F1 score:: 0.4758842443729904\n"
     ]
    },
    {
     "data": {
      "text/plain": [
       "<AxesSubplot:>"
      ]
     },
     "execution_count": 91,
     "metadata": {},
     "output_type": "execute_result"
    },
    {
     "data": {
      "image/png": "[encoded data removed]",
      "text/plain": [
       "<Figure size 432x288 with 2 Axes>"
      ]
     },
     "metadata": {
      "needs_background": "light"
     },
     "output_type": "display_data"
    }
   ],
   "source": [
    "y_pred = clf.predict(X_test)\n",
    "#print(clf.predict_proba(X_test)) # per vedere le probabilita' con cui sono classificati come ponzi o non ponzi\n",
    "print('precision score:: ', precision_score(y_test, y_pred)) # TP / (FP + TP)\n",
    "print('recall score:: ', recall_score(y_test, y_pred))\t     # TP / (FN + TP)\n",
    "print('accuracy score:: ', accuracy_score(y_test, y_pred))\t # (TP + TN)/ (TP + FN + TN + FP)\n",
    "print('F1 score::', f1_score(y_test, y_pred))\n",
    "cm = confusion_matrix(y_test, y_pred)\n",
    "sns.heatmap(cm, annot=True, cmap='Greens', fmt='d')"
   ]
  },
  {
   "cell_type": "code",
   "execution_count": 92,
   "id": "170ef622",
   "metadata": {},
   "outputs": [
    {
     "data": {
      "image/png": "[encoded data removed]",
      "text/plain": [
       "<Figure size 432x288 with 1 Axes>"
      ]
     },
     "metadata": {
      "needs_background": "light"
     },
     "output_type": "display_data"
    }
   ],
   "source": [
    "# predict probabilities\n",
    "y_pred_proba = clf.predict_proba(X_test)\n",
    "# keep probabilities for the positive outcome only\n",
    "y_pred_proba = y_pred_proba[:, 1]\n",
    "# calculate pr-curve\n",
    "p, r, thrs = precision_recall_curve(y_test, y_pred_proba)\n",
    "# plot the roc curve for the model\n",
    "no_skill = len(y_test[y_test == 1]) / len(y_test)\n",
    "plt.plot([0,1], [no_skill, no_skill], linestyle = '--', label = 'No Skill')\n",
    "plt.plot(r, p, marker = '.', label = 'RF')\n",
    "# axis labels\n",
    "plt.xlabel('Recall')\n",
    "plt.ylabel('Precision')\n",
    "plt.legend()\n",
    "# show the plot\n",
    "plt.show()"
   ]
  },
  {
   "cell_type": "code",
   "execution_count": 93,
   "id": "04fa282a",
   "metadata": {},
   "outputs": [
    {
     "name": "stdout",
     "output_type": "stream",
     "text": [
      "Best Threshold = 0.303256, Fbeta-Score = 0.551\n"
     ]
    }
   ],
   "source": [
    "# convert to f score\n",
    "beta = 1.75 # se metto valori <= 1 allora e' come favorire F1 o precision, piu' alzo beta e piu' importanza ha la recall\n",
    "fbeta = ((1 + beta**2) * p * r) / (beta**2 * p + r)\n",
    "# locate the index of the largest f score\n",
    "ix = np.argmax(fbeta)\n",
    "print('Best Threshold = %f, Fbeta-Score = %.3f' % (thrs[ix], fbeta[ix]))"
   ]
  },
  {
   "cell_type": "code",
   "execution_count": 94,
   "id": "5005cf98",
   "metadata": {},
   "outputs": [
    {
     "data": {
      "text/plain": [
       "<AxesSubplot:>"
      ]
     },
     "execution_count": 94,
     "metadata": {},
     "output_type": "execute_result"
    },
    {
     "data": {
      "image/png": "[encoded data removed]",
      "text/plain": [
       "<Figure size 432x288 with 2 Axes>"
      ]
     },
     "metadata": {
      "needs_background": "light"
     },
     "output_type": "display_data"
    }
   ],
   "source": [
    "y_pred_thrs = np.where(clf.predict_proba(X_test)[:, 1] > thrs[ix], 1, 0)\n",
    "cm_thrs = confusion_matrix(y_test, y_pred_thrs)\n",
    "sns.heatmap(cm_thrs, annot=True, cmap='Greys', fmt='d')"
   ]
  },
  {
   "cell_type": "code",
   "execution_count": 95,
   "id": "64b65941",
   "metadata": {},
   "outputs": [],
   "source": [
    "# salvo su di un file le predizioni e i ground truth con eseguiro' il test McNemar.\n",
    "y_test_list = [item for sublist in y_test for item in sublist]\n",
    "y_pred_thrs_list = y_pred_thrs.tolist()\n",
    "y_test_file = open(r'C:\\Users\\andre\\Desktop\\materiale tesi\\settimana 16\\dataset\\exploiting blockchain - cleaned\\y_test_list.txt', \"w\")\n",
    "for element in y_test_list:\n",
    "    y_test_file.write(str(element) + \"\\n\")\n",
    "y_test_file.close()\n",
    "\n",
    "\n",
    "y_pred_file = open(r'C:\\Users\\andre\\Desktop\\materiale tesi\\settimana 16\\dataset\\exploiting blockchain - cleaned\\y_pred_list.txt', \"w\")\n",
    "for element in y_pred_thrs_list:\n",
    "    y_pred_file.write(str(element) + \"\\n\")\n",
    "y_pred_file.close()"
   ]
  },
  {
   "cell_type": "code",
   "execution_count": null,
   "id": "adb6d266",
   "metadata": {},
   "outputs": [],
   "source": []
  }
 ],
 "metadata": {
  "kernelspec": {
   "display_name": "Python 3 (ipykernel)",
   "language": "python",
   "name": "python3"
  },
  "language_info": {
   "codemirror_mode": {
    "name": "ipython",
    "version": 3
   },
   "file_extension": ".py",
   "mimetype": "text/x-python",
   "name": "python",
   "nbconvert_exporter": "python",
   "pygments_lexer": "ipython3",
   "version": "3.9.7"
  }
 },
 "nbformat": 4,
 "nbformat_minor": 5
}
