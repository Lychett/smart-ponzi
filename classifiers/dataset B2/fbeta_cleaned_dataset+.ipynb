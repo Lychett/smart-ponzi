{
 "cells": [
  {
   "cell_type": "code",
   "execution_count": 1,
   "id": "e3ad862c",
   "metadata": {},
   "outputs": [],
   "source": [
    "import sys\n",
    "import numpy as np\n",
    "import pandas as pd\n",
    "import seaborn as sns # libreria utile per matrice di confusione\n",
    "import plotly.express as px\n",
    "from collections import Counter\n",
    "from matplotlib import pyplot as plt\n",
    "from sklearn import tree\n",
    "from sklearn.metrics import accuracy_score, precision_score, recall_score, \\\n",
    "    f1_score, fbeta_score, make_scorer, confusion_matrix, precision_recall_curve\n",
    "from sklearn.model_selection import train_test_split, GridSearchCV\n",
    "from sklearn.tree import DecisionTreeClassifier\n",
    "from sklearn.ensemble import RandomForestClassifier\n",
    "import xgboost as xgb"
   ]
  },
  {
   "cell_type": "code",
   "execution_count": 2,
   "id": "1fac8737",
   "metadata": {},
   "outputs": [
    {
     "name": "stdout",
     "output_type": "stream",
     "text": [
      "[(0, 'balance'), (1, 'lifetime'), (2, 'tx_in'), (3, 'tx_out'), (4, 'investment_in'), (5, 'payment_out'), (6, 'investment_to_contract/tx_in'), (7, 'payment_from_contract/tx_out'), (8, '#addresses_paying_contract'), (9, '#addresses_paid_by_contract'), (10, 'mean_v1'), (11, 'sdev_v1'), (12, 'mean_v2'), (13, 'sdev_v2'), (14, 'paid_rate'), (15, 'paid_one'), (16, 'percentage_some_tx_in'), (17, 'sdev_tx_in'), (18, 'percentage_some_tx_out'), (19, 'sdev_tx_out'), (20, 'known_rate'), (21, 'owner_gets_eth_Wo_investing'), (22, 'owner_gets_eth_investing'), (23, 'owner_no_eth')]\n"
     ]
    }
   ],
   "source": [
    "# leggo il dataset ed il target\n",
    "\n",
    "dataset = pd.read_csv(r'C:\\Users\\andre\\Desktop\\materiale tesi\\settimana 16\\dataset\\cleaned+\\dataset+.csv', header = 0)\n",
    "features_names = list(dataset.columns) # ottengo i nomi delle features\n",
    "features_names.pop(0) # rimuovo il primo addresses, in quanto non e' una feature\n",
    "pairs_number_features = list() # creo una lista che contiene coppie <#_feature, nome_feature>\n",
    "idx = 0\n",
    "\n",
    "while idx < len(features_names):\n",
    "    pair = (idx, features_names[idx])\n",
    "    pairs_number_features.append(pair)\n",
    "    idx+=1\n",
    "    \n",
    "print(pairs_number_features)\n",
    "\n",
    "target = pd.read_csv(r'C:\\Users\\andre\\Desktop\\materiale tesi\\settimana 16\\dataset\\cleaned+\\target.csv', header = 0)"
   ]
  },
  {
   "cell_type": "code",
   "execution_count": 3,
   "id": "68cb3356",
   "metadata": {},
   "outputs": [],
   "source": [
    "X_address = dataset.values[:, :] # rimuovo la prima colonna che contiene gli indirizzi\n",
    "y = target.values\n",
    "\n",
    "# divido in train set (TR) e test set (TS)\n",
    "X_train_address, X_test_address, y_train, y_test = train_test_split(X_address, y, test_size=0.2, random_state = 42, stratify=y) \n",
    "X_train = X_train_address[:, 1:]\n",
    "X_test = X_test_address[:, 1:]\n",
    "df= pd.DataFrame(data=X_train, columns=features_names)"
   ]
  },
  {
   "cell_type": "code",
   "execution_count": 4,
   "id": "a0a854ac",
   "metadata": {},
   "outputs": [
    {
     "name": "stdout",
     "output_type": "stream",
     "text": [
      "Number of smart contract in train set:: 3107\n",
      "Number of smart Ponzi in train set:: 538\n",
      "Number of smart contract in test set:: 777\n",
      "Number of smart Ponzi in test set:: 135\n"
     ]
    }
   ],
   "source": [
    "# vado a stampare il numero di non ponzi e ponzi presenti nel train set e nel test_set\n",
    "\n",
    "flat_list_train = [item for sublist in y_train.tolist() for item in sublist]\n",
    "print('Number of smart contract in train set::', flat_list_train.count(0))\n",
    "print('Number of smart Ponzi in train set::', flat_list_train.count(1))\n",
    "flat_list_test = [item for sublist in y_test.tolist() for item in sublist]\n",
    "print('Number of smart contract in test set::', flat_list_test.count(0))\n",
    "print('Number of smart Ponzi in test set::', flat_list_test.count(1))"
   ]
  },
  {
   "cell_type": "code",
   "execution_count": 5,
   "id": "8bbb07c5",
   "metadata": {},
   "outputs": [],
   "source": [
    "fbeta = make_scorer(fbeta_score, beta = 1.5)"
   ]
  },
  {
   "cell_type": "code",
   "execution_count": 28,
   "id": "64a2ab92",
   "metadata": {},
   "outputs": [],
   "source": [
    "param_dist_DT = {\n",
    "            'criterion' : ['entropy', 'gini'],\n",
    "            'max_depth' : [8, 9, 10, 11, 12],\n",
    "            'min_samples_split' : [30, 35], # il valore tipico sta fra 1 e 40\n",
    "            'class_weight': [{0:1, 1:5}]\n",
    "}"
   ]
  },
  {
   "cell_type": "code",
   "execution_count": 29,
   "id": "6ddb8406",
   "metadata": {},
   "outputs": [
    {
     "name": "stdout",
     "output_type": "stream",
     "text": [
      "best hyperparameters::  {'class_weight': {0: 1, 1: 5}, 'criterion': 'entropy', 'max_depth': 9, 'min_samples_split': 35}\n",
      "best score::  0.5993546588142026\n",
      "recall score on TR::  0.8643122676579925\n",
      "precision score on TR::  0.48538622129436326\n"
     ]
    }
   ],
   "source": [
    "# effettuo la GridSearchCV() per scegliere i migliori iperparametri\n",
    "grid_dt = GridSearchCV(DecisionTreeClassifier(), param_grid = param_dist_DT, scoring = fbeta, cv = 3, n_jobs = 8)\n",
    "grid_dt.fit(X_train, y_train) # alleno su train\n",
    "y_pred_train = grid_dt.predict(X_train) # effettuo la predizione su train set\n",
    "print('best hyperparameters:: ', grid_dt.best_params_) # stampo i migliori iperparametri\n",
    "print('best score:: ', grid_dt.best_score_) # media degli score (basata sulla metrica di scoring) date sulle cross validation\n",
    "print('recall score on TR:: ', recall_score(y_train, y_pred_train))\n",
    "print('precision score on TR:: ', precision_score(y_train, y_pred_train))"
   ]
  },
  {
   "cell_type": "code",
   "execution_count": 30,
   "id": "30c840f8",
   "metadata": {},
   "outputs": [
    {
     "name": "stdout",
     "output_type": "stream",
     "text": [
      "accuracy score on TR::  0.8447187928669411\n",
      "accuracy score on TS::  0.8135964912280702\n"
     ]
    }
   ],
   "source": [
    "clf_dt = DecisionTreeClassifier(**grid_dt.best_params_)\n",
    "clf_dt.fit(X_train, y_train)\n",
    "print('accuracy score on TR:: ', clf_dt.score(X_train, y_train))\n",
    "print('accuracy score on TS:: ', clf_dt.score(X_test, y_test))"
   ]
  },
  {
   "cell_type": "code",
   "execution_count": 32,
   "id": "ec687783",
   "metadata": {},
   "outputs": [],
   "source": [
    "param_dist_RF = {\n",
    "            'n_estimators':[180, 190, 200, 210],\n",
    "            'min_samples_split' : [35, 40],\n",
    "            'max_depth' : [6,7,8],\n",
    "            'criterion':['gini', 'entropy'],\n",
    "            'class_weight' : [{0:1, 1:5.5}, {0:1, 1:6}],\n",
    "            'bootstrap': [True, False]\n",
    "}"
   ]
  },
  {
   "cell_type": "code",
   "execution_count": 33,
   "id": "74ed99ac",
   "metadata": {},
   "outputs": [
    {
     "name": "stdout",
     "output_type": "stream",
     "text": [
      "best hyperparameters::  {'bootstrap': False, 'class_weight': {0: 1, 1: 6}, 'criterion': 'entropy', 'max_depth': 8, 'min_samples_split': 40, 'n_estimators': 190}\n",
      "best score::  0.6162261967671614\n",
      "recall score on TR::  0.8903345724907064\n",
      "precision score on TR::  0.4719211822660099\n"
     ]
    }
   ],
   "source": [
    "# effettuo la GridSearchCV() per scegliere i migliori iperparametri\n",
    "grid_rf = GridSearchCV(RandomForestClassifier(), param_grid = param_dist_RF, scoring = fbeta, cv = 3, n_jobs = 8)\n",
    "grid_rf.fit(X_train, y_train.ravel())\n",
    "y_pred_train = grid_rf.predict(X_train)\n",
    "print('best hyperparameters:: ', grid_rf.best_params_)\n",
    "print('best score:: ', grid_rf.best_score_)\n",
    "print('recall score on TR:: ', recall_score(y_train, y_pred_train))\n",
    "print('precision score on TR:: ', precision_score(y_train, y_pred_train))"
   ]
  },
  {
   "cell_type": "code",
   "execution_count": 34,
   "id": "262507f5",
   "metadata": {},
   "outputs": [
    {
     "name": "stdout",
     "output_type": "stream",
     "text": [
      "accuracy score on TR::  0.8392318244170096\n",
      "accuracy score on TS::  0.8037280701754386\n"
     ]
    }
   ],
   "source": [
    "clf_rf = RandomForestClassifier(**grid_rf.best_params_)\n",
    "clf_rf.fit(X_train, y_train.ravel())\n",
    "print('accuracy score on TR:: ', clf_rf.score(X_train, y_train))\n",
    "print('accuracy score on TS:: ', clf_rf.score(X_test, y_test))"
   ]
  },
  {
   "cell_type": "code",
   "execution_count": 39,
   "id": "4ed0ea00",
   "metadata": {},
   "outputs": [],
   "source": [
    "grid_param_XGB = {\n",
    "                'learning_rate' : [0.05],\n",
    "                'n_estimators' : [70, 80, 90, 100, 110, 120],\n",
    "                'max_depth': [6, 7, None],\n",
    "                'colsample_bytree' : [0.8],\n",
    "                'subsample' : [0.8],\n",
    "                'scale_pos_weight' : [5, 5.5, 6],\n",
    "                'reg_lambda' : [10, 100]\n",
    "}"
   ]
  },
  {
   "cell_type": "code",
   "execution_count": 40,
   "id": "c41cad2f",
   "metadata": {},
   "outputs": [
    {
     "name": "stdout",
     "output_type": "stream",
     "text": [
      "best hyperparameters::  {'colsample_bytree': 0.8, 'learning_rate': 0.05, 'max_depth': 7, 'n_estimators': 100, 'reg_lambda': 10, 'scale_pos_weight': 6, 'subsample': 0.8}\n",
      "best score::  0.6493051755663161\n",
      "recall score on TR::  0.8866171003717472\n",
      "precision score on TR::  0.6973684210526315\n"
     ]
    }
   ],
   "source": [
    "# effettuo la GridSearchCV() per scegliere i migliori iperparametri\n",
    "grid_xgb = GridSearchCV(xgb.XGBClassifier(use_label_encoder = False, eval_metric = 'aucpr'), \n",
    "                        param_grid = grid_param_XGB, scoring = fbeta, cv = 3, n_jobs = 8)\n",
    "grid_xgb.fit(X_train, y_train)\n",
    "y_pred_train = grid_xgb.predict(X_train)\n",
    "print('best hyperparameters:: ', grid_xgb.best_params_)\n",
    "print('best score:: ', grid_xgb.best_score_)\n",
    "print('recall score on TR:: ', recall_score(y_train, y_pred_train))\n",
    "print('precision score on TR:: ', precision_score(y_train, y_pred_train))"
   ]
  },
  {
   "cell_type": "code",
   "execution_count": 41,
   "id": "89a29127",
   "metadata": {},
   "outputs": [
    {
     "name": "stdout",
     "output_type": "stream",
     "text": [
      "accuracy score on TR::  0.9349794238683128\n",
      "accuracy score on TS::  0.8760964912280702\n"
     ]
    }
   ],
   "source": [
    "clf_xgb = xgb.XGBClassifier(learning_rate = 0.05, n_estimators = 100, scale_pos_weight = 5, max_depth=7, reg_lambda = 10,\n",
    "                            subsample = 0.8, colsample_bytree = 0.8, use_label_encoder = False, eval_metric='aucpr')\n",
    "clf_xgb.fit(X_train, y_train)\n",
    "print('accuracy score on TR:: ', clf_xgb.score(X_train, y_train))\n",
    "print('accuracy score on TS:: ', clf_xgb.score(X_test, y_test))"
   ]
  },
  {
   "cell_type": "code",
   "execution_count": 43,
   "id": "86f1f41f",
   "metadata": {},
   "outputs": [],
   "source": [
    "model_params = {\n",
    "    'decision_tree': {\n",
    "        'model': DecisionTreeClassifier(),\n",
    "        'params': { \n",
    "            'criterion' : ['entropy', 'gini'],\n",
    "            'max_depth' : [8, 9, 10, 11, 12],\n",
    "            'min_samples_split' : [30, 35], # il valore tipico sta fra 1 e 40\n",
    "            'class_weight': [{0:1, 1:5}]\n",
    "        }\n",
    "    },\n",
    "    'random_forest': {\n",
    "        'model': RandomForestClassifier(),\n",
    "        'params': {\n",
    "            'n_estimators':[180, 190, 200, 210],\n",
    "            'min_samples_split' : [35, 40],\n",
    "            'max_depth' : [6,7,8],\n",
    "            'criterion':['gini', 'entropy'],\n",
    "            'class_weight' : [{0:1, 1:5.5}, {0:1, 1:6}],\n",
    "            'bootstrap': [True, False]\n",
    "        }\n",
    "    },\n",
    "    'xgboost': {\n",
    "        'model': xgb.XGBClassifier(eval_metric = 'aucpr', use_label_encoder = False),\n",
    "        'params': {\n",
    "                'learning_rate' : [0.05],\n",
    "                'n_estimators' : [70, 80, 90, 100, 110, 120],\n",
    "                'max_depth': [6, 7, None],\n",
    "                'colsample_bytree' : [0.8],\n",
    "                'subsample' : [0.8],\n",
    "                'scale_pos_weight' : [5, 5.5, 6],\n",
    "                'reg_lambda' : [10, 100]\n",
    "        }\n",
    "    }\n",
    "}"
   ]
  },
  {
   "cell_type": "code",
   "execution_count": 44,
   "id": "d4fe3306",
   "metadata": {},
   "outputs": [
    {
     "data": {
      "text/html": [
       "<div>\n",
       "<style scoped>\n",
       "    .dataframe tbody tr th:only-of-type {\n",
       "        vertical-align: middle;\n",
       "    }\n",
       "\n",
       "    .dataframe tbody tr th {\n",
       "        vertical-align: top;\n",
       "    }\n",
       "\n",
       "    .dataframe thead th {\n",
       "        text-align: right;\n",
       "    }\n",
       "</style>\n",
       "<table border=\"1\" class=\"dataframe\">\n",
       "  <thead>\n",
       "    <tr style=\"text-align: right;\">\n",
       "      <th></th>\n",
       "      <th>model</th>\n",
       "      <th>best_score</th>\n",
       "      <th>best_params</th>\n",
       "    </tr>\n",
       "  </thead>\n",
       "  <tbody>\n",
       "    <tr>\n",
       "      <th>0</th>\n",
       "      <td>decision_tree</td>\n",
       "      <td>0.597563</td>\n",
       "      <td>{'class_weight': {0: 1, 1: 5}, 'criterion': 'entropy', 'max_depth': 9, 'min_samples_split': 30}</td>\n",
       "    </tr>\n",
       "    <tr>\n",
       "      <th>1</th>\n",
       "      <td>random_forest</td>\n",
       "      <td>0.615454</td>\n",
       "      <td>{'bootstrap': False, 'class_weight': {0: 1, 1: 5.5}, 'criterion': 'entropy', 'max_depth': 8, 'min_samples_split': 35, 'n_estimators': 180}</td>\n",
       "    </tr>\n",
       "    <tr>\n",
       "      <th>2</th>\n",
       "      <td>xgboost</td>\n",
       "      <td>0.649305</td>\n",
       "      <td>{'colsample_bytree': 0.8, 'learning_rate': 0.05, 'max_depth': 7, 'n_estimators': 100, 'reg_lambda': 10, 'scale_pos_weight': 6, 'subsample': 0.8}</td>\n",
       "    </tr>\n",
       "  </tbody>\n",
       "</table>\n",
       "</div>"
      ],
      "text/plain": [
       "           model  best_score  \\\n",
       "0  decision_tree    0.597563   \n",
       "1  random_forest    0.615454   \n",
       "2        xgboost    0.649305   \n",
       "\n",
       "                                                                                                                                        best_params  \n",
       "0                                                   {'class_weight': {0: 1, 1: 5}, 'criterion': 'entropy', 'max_depth': 9, 'min_samples_split': 30}  \n",
       "1        {'bootstrap': False, 'class_weight': {0: 1, 1: 5.5}, 'criterion': 'entropy', 'max_depth': 8, 'min_samples_split': 35, 'n_estimators': 180}  \n",
       "2  {'colsample_bytree': 0.8, 'learning_rate': 0.05, 'max_depth': 7, 'n_estimators': 100, 'reg_lambda': 10, 'scale_pos_weight': 6, 'subsample': 0.8}  "
      ]
     },
     "execution_count": 44,
     "metadata": {},
     "output_type": "execute_result"
    }
   ],
   "source": [
    "scores = []\n",
    "\n",
    "for model_name, mp in model_params.items():\n",
    "    clf =  GridSearchCV(mp['model'], mp['params'], scoring = fbeta, cv = 3, return_train_score = False, n_jobs=8)\n",
    "    clf.fit(X_train, y_train.ravel())\n",
    "    scores.append({\n",
    "        'model': model_name,\n",
    "        'best_score': clf.best_score_,\n",
    "        'best_params': clf.best_params_,\n",
    "        'best_estimator': clf.best_estimator_ # necessario per riallenare\n",
    "    })\n",
    "    \n",
    "pd.set_option(\"display.max_colwidth\", None)\n",
    "df = pd.DataFrame(scores,columns=['model','best_score','best_params'])\n",
    "df"
   ]
  },
  {
   "cell_type": "code",
   "execution_count": 45,
   "id": "84daa0e7",
   "metadata": {},
   "outputs": [
    {
     "data": {
      "text/plain": [
       "XGBClassifier(base_score=0.5, booster='gbtree', colsample_bylevel=1,\n",
       "              colsample_bynode=1, colsample_bytree=0.8,\n",
       "              enable_categorical=False, eval_metric='aucpr', gamma=0, gpu_id=-1,\n",
       "              importance_type=None, interaction_constraints='',\n",
       "              learning_rate=0.05, max_delta_step=0, max_depth=7,\n",
       "              min_child_weight=1, missing=nan, monotone_constraints='()',\n",
       "              n_estimators=100, n_jobs=12, num_parallel_tree=1,\n",
       "              predictor='auto', random_state=0, reg_alpha=0, reg_lambda=10,\n",
       "              scale_pos_weight=6, subsample=0.8, tree_method='exact',\n",
       "              use_label_encoder=False, validate_parameters=1, verbosity=None)"
      ]
     },
     "execution_count": 45,
     "metadata": {},
     "output_type": "execute_result"
    }
   ],
   "source": [
    "models_list = sorted(scores, key=lambda d: d['best_score']) # ordino in base al best_score\n",
    "model = models_list[-1] # prendo l'ultimo modello (quello con score piu' alto)\n",
    "clf = model.get('best_estimator') # ottengo i valori con cui allenare\n",
    "clf.fit(X_train, y_train.ravel()) # rialleno"
   ]
  },
  {
   "cell_type": "code",
   "execution_count": 46,
   "id": "585e20fc",
   "metadata": {},
   "outputs": [
    {
     "name": "stdout",
     "output_type": "stream",
     "text": [
      "                    (Number, Feature)  Importance\n",
      "0                      (15, paid_one)    0.196813\n",
      "1                    (20, known_rate)    0.145560\n",
      "2                          (2, tx_in)    0.059130\n",
      "3    (9, #addresses_paid_by_contract)    0.052909\n",
      "4   (6, investment_to_contract/tx_in)    0.042213\n",
      "5                    (17, sdev_tx_in)    0.042139\n",
      "6                       (10, mean_v1)    0.038518\n",
      "7   (7, payment_from_contract/tx_out)    0.038236\n",
      "8                       (13, sdev_v2)    0.035588\n",
      "9         (16, percentage_some_tx_in)    0.034263\n",
      "10                      (1, lifetime)    0.029427\n",
      "11                    (14, paid_rate)    0.027620\n",
      "12                       (0, balance)    0.027077\n",
      "13  (21, owner_gets_eth_Wo_investing)    0.024161\n",
      "14                 (23, owner_no_eth)    0.023846\n",
      "15       (18, percentage_some_tx_out)    0.023324\n",
      "16                 (4, investment_in)    0.022753\n",
      "17    (8, #addresses_paying_contract)    0.022725\n",
      "18                      (11, sdev_v1)    0.021472\n",
      "19     (22, owner_gets_eth_investing)    0.020339\n",
      "20                   (5, payment_out)    0.020258\n",
      "21                  (19, sdev_tx_out)    0.019353\n",
      "22                      (12, mean_v2)    0.017875\n",
      "23                        (3, tx_out)    0.014403\n"
     ]
    },
    {
     "data": {
      "image/png": "[encoded data removed]",
      "text/plain": [
       "<Figure size 432x288 with 1 Axes>"
      ]
     },
     "metadata": {
      "needs_background": "light"
     },
     "output_type": "display_data"
    }
   ],
   "source": [
    "features_importances = clf.feature_importances_\n",
    "res = dict(zip(pairs_number_features, features_importances))\n",
    "sorted_dict = dict(sorted(res.items(), key=lambda item: item[1], reverse = True))\n",
    "print(pd.DataFrame(list(sorted_dict.items()),columns=['(Number, Feature)', 'Importance']))\n",
    "plt.bar(range(len(features_importances)), features_importances)\n",
    "plt.show()"
   ]
  },
  {
   "cell_type": "code",
   "execution_count": 47,
   "id": "a7d86fb8",
   "metadata": {},
   "outputs": [
    {
     "name": "stdout",
     "output_type": "stream",
     "text": [
      "precision score::  0.5321637426900585\n",
      "recall score::  0.674074074074074\n",
      "accuracy score::  0.8640350877192983\n",
      "fbeta score::  0.6229594523433386\n",
      "F1 score:: 0.5947712418300654\n"
     ]
    },
    {
     "data": {
      "text/plain": [
       "<AxesSubplot:>"
      ]
     },
     "execution_count": 47,
     "metadata": {},
     "output_type": "execute_result"
    },
    {
     "data": {
      "image/png": "[encoded data removed]",
      "text/plain": [
       "<Figure size 432x288 with 2 Axes>"
      ]
     },
     "metadata": {
      "needs_background": "light"
     },
     "output_type": "display_data"
    }
   ],
   "source": [
    "# faccio la predizione e stampo le statistiche sul modello migliore (quello che ha vinto nella GridSearch)\n",
    "\n",
    "y_pred = clf.predict(X_test)\n",
    "#print(clf.predict_proba(X_test)) # per vedere le probabilita' con cui sono classificati come ponzi o non ponzi\n",
    "print('precision score:: ', precision_score(y_test, y_pred)) # TP / (FP + TP)\n",
    "print('recall score:: ', recall_score(y_test, y_pred))\t     # TP / (FN + TP)\n",
    "print('accuracy score:: ', accuracy_score(y_test, y_pred))\t # (TP + TN)/ (TP + FN + TN + FP)\n",
    "print('fbeta score:: ', fbeta_score(y_test, y_pred, beta = 1.5))\n",
    "print('F1 score::', f1_score(y_test, y_pred))\n",
    "cm = confusion_matrix(y_test, y_pred)\n",
    "sns.heatmap(cm, annot=True, cmap='Greens', fmt='d')"
   ]
  },
  {
   "cell_type": "code",
   "execution_count": 48,
   "id": "c051efa2",
   "metadata": {},
   "outputs": [
    {
     "name": "stdout",
     "output_type": "stream",
     "text": [
      "precision score::  0.4219409282700422\n",
      "recall score::  0.7407407407407407\n",
      "accuracy score::  0.8114035087719298\n",
      "F1 score:: 0.5376344086021505\n"
     ]
    },
    {
     "data": {
      "text/plain": [
       "<AxesSubplot:>"
      ]
     },
     "execution_count": 48,
     "metadata": {},
     "output_type": "execute_result"
    },
    {
     "data": {
      "image/png": "[encoded data removed]",
      "text/plain": [
       "<Figure size 432x288 with 2 Axes>"
      ]
     },
     "metadata": {
      "needs_background": "light"
     },
     "output_type": "display_data"
    }
   ],
   "source": [
    "# risultati ottenuti con il secondo migliore\n",
    "\n",
    "model = models_list[1] # prendo il modello medio\n",
    "clf2 = model.get('best_estimator') # ottengo i valori con cui allenare\n",
    "clf2.fit(X_train, y_train.ravel()) # rialleno\n",
    "y_pred2 = clf2.predict(X_test)\n",
    "#print(clf2.predict_proba(X_test)) # per vedere le probabilita' con cui sono classificati come ponzi o non ponzi\n",
    "print('precision score:: ', precision_score(y_test, y_pred2)) #  TP / (FP + TP)\n",
    "print('recall score:: ', recall_score(y_test, y_pred2))\t     # \tTP / (FN + TP)\n",
    "print('accuracy score:: ', accuracy_score(y_test, y_pred2))\t #  (TP + TN)/ (TP + FN + TN + FP)\n",
    "print('F1 score::', f1_score(y_test, y_pred2))\n",
    "cm = confusion_matrix(y_test, y_pred2)\n",
    "sns.heatmap(cm, annot=True, cmap='Reds', fmt='d')"
   ]
  },
  {
   "cell_type": "code",
   "execution_count": 49,
   "id": "c13d203f",
   "metadata": {},
   "outputs": [
    {
     "name": "stdout",
     "output_type": "stream",
     "text": [
      "                    (Number, Feature)  Importance\n",
      "0                          (2, tx_in)    0.126022\n",
      "1   (6, investment_to_contract/tx_in)    0.108489\n",
      "2                      (15, paid_one)    0.095328\n",
      "3                    (17, sdev_tx_in)    0.076758\n",
      "4                    (20, known_rate)    0.071862\n",
      "5                       (10, mean_v1)    0.060581\n",
      "6                       (1, lifetime)    0.058824\n",
      "7         (16, percentage_some_tx_in)    0.052496\n",
      "8                     (14, paid_rate)    0.049027\n",
      "9                       (13, sdev_v2)    0.045678\n",
      "10   (9, #addresses_paid_by_contract)    0.040045\n",
      "11    (8, #addresses_paying_contract)    0.032624\n",
      "12                 (4, investment_in)    0.023847\n",
      "13                      (11, sdev_v1)    0.023047\n",
      "14       (18, percentage_some_tx_out)    0.019793\n",
      "15                 (23, owner_no_eth)    0.019590\n",
      "16  (7, payment_from_contract/tx_out)    0.016393\n",
      "17                   (5, payment_out)    0.016137\n",
      "18                        (3, tx_out)    0.016011\n",
      "19                       (0, balance)    0.014862\n",
      "20                      (12, mean_v2)    0.011566\n",
      "21                  (19, sdev_tx_out)    0.009715\n",
      "22  (21, owner_gets_eth_Wo_investing)    0.009078\n",
      "23     (22, owner_gets_eth_investing)    0.002227\n"
     ]
    },
    {
     "data": {
      "image/png": "[encoded data removed]",
      "text/plain": [
       "<Figure size 432x288 with 1 Axes>"
      ]
     },
     "metadata": {
      "needs_background": "light"
     },
     "output_type": "display_data"
    }
   ],
   "source": [
    "# importanza delle features nel secondo migliore\n",
    "\n",
    "features_importances = clf2.feature_importances_\n",
    "res = dict(zip(pairs_number_features, features_importances))\n",
    "sorted_dict = dict(sorted(res.items(), key=lambda item: item[1], reverse = True))\n",
    "print(pd.DataFrame(list(sorted_dict.items()),columns=['(Number, Feature)', 'Importance']))\n",
    "plt.bar(range(len(features_importances)), features_importances)\n",
    "plt.show()"
   ]
  },
  {
   "cell_type": "code",
   "execution_count": 50,
   "id": "905eb9f3",
   "metadata": {},
   "outputs": [
    {
     "data": {
      "image/png": "[encoded data removed]",
      "text/plain": [
       "<Figure size 432x288 with 1 Axes>"
      ]
     },
     "metadata": {
      "needs_background": "light"
     },
     "output_type": "display_data"
    }
   ],
   "source": [
    "# predict probabilities\n",
    "y_pred_proba_winner = clf.predict_proba(X_test)\n",
    "# keep probabilities for the positive outcome only\n",
    "y_pred_proba_w = y_pred_proba_winner[:, 1]\n",
    "# calculate pr-curve\n",
    "p, r, thrs = precision_recall_curve(y_test, y_pred_proba_w)\n",
    "\n",
    "\n",
    "y_pred_proba_second = clf2.predict_proba(X_test)\n",
    "y_pred_proba_s = y_pred_proba_second[:, 1]\n",
    "p2, r2, thrs2 = precision_recall_curve(y_test, y_pred_proba_s)\n",
    "# plot the roc curve for the model\n",
    "no_skill = len(y_test[y_test == 1]) / len(y_test)\n",
    "plt.plot([0,1], [no_skill, no_skill], linestyle = '--', label = 'No Skill')\n",
    "plt.plot(r, p, marker = '.', label = 'XGB')\n",
    "plt.plot(r2, p2, marker = '.', label = 'RF')\n",
    "# axis labels\n",
    "plt.xlabel('Recall')\n",
    "plt.ylabel('Precision')\n",
    "plt.legend()\n",
    "# show the plot\n",
    "plt.show()"
   ]
  },
  {
   "cell_type": "code",
   "execution_count": 51,
   "id": "67e5e0a9",
   "metadata": {},
   "outputs": [
    {
     "name": "stdout",
     "output_type": "stream",
     "text": [
      "Best Threshold of the winner model = 0.422272, Fbeta-Score = 0.647\n",
      "Best Threshold of the second model = 0.429700, Fbeta-Score = 0.628\n"
     ]
    }
   ],
   "source": [
    "# convert to f score\n",
    "beta = 1.75 # se metto valori <= 1 allora e' come favorire F1 o precision, piu' alzo beta e piu' importanza ha la recall\n",
    "fbetaw = ((1 + beta**2) * p * r) / (beta**2 * p + r)\n",
    "# locate the index of the largest f score\n",
    "ixw = np.argmax(fbetaw)\n",
    "fbetas = ((1 + beta**2) * p2 * r2) / (beta**2 * p2 + r2)\n",
    "ixs = np.argmax(fbetas)\n",
    "print('Best Threshold of the winner model = %f, Fbeta-Score = %.3f' % (thrs[ixw], fbetaw[ixw]))\n",
    "print('Best Threshold of the second model = %f, Fbeta-Score = %.3f' % (thrs2[ixs], fbetas[ixs]))"
   ]
  },
  {
   "cell_type": "code",
   "execution_count": 52,
   "id": "36cd251d",
   "metadata": {},
   "outputs": [
    {
     "name": "stdout",
     "output_type": "stream",
     "text": [
      "precision score::  0.4647887323943662\n",
      "recall score::  0.7333333333333333\n",
      "accuracy score::  0.8355263157894737\n",
      "fbeta score::  0.6226415094339621\n",
      "F1 score:: 0.5689655172413793\n"
     ]
    },
    {
     "data": {
      "text/plain": [
       "<AxesSubplot:>"
      ]
     },
     "execution_count": 52,
     "metadata": {},
     "output_type": "execute_result"
    },
    {
     "data": {
      "image/png": "[encoded data removed]",
      "text/plain": [
       "<Figure size 432x288 with 2 Axes>"
      ]
     },
     "metadata": {
      "needs_background": "light"
     },
     "output_type": "display_data"
    }
   ],
   "source": [
    "y_pred_thrs = np.where(clf.predict_proba(X_test)[:, 1] > thrs[ixw], 1, 0)\n",
    "cm_thrs = confusion_matrix(y_test, y_pred_thrs)\n",
    "print('precision score:: ', precision_score(y_test, y_pred_thrs)) # TP / (FP + TP)\n",
    "print('recall score:: ', recall_score(y_test, y_pred_thrs))\t     # TP / (FN + TP)\n",
    "print('accuracy score:: ', accuracy_score(y_test, y_pred_thrs))\t # (TP + TN)/ (TP + FN + TN + FP)\n",
    "print('fbeta score:: ', fbeta_score(y_test, y_pred_thrs, beta = 1.5))\n",
    "print('F1 score::', f1_score(y_test, y_pred_thrs))\n",
    "sns.heatmap(cm_thrs, annot=True, cmap='Greys', fmt='d')"
   ]
  },
  {
   "cell_type": "code",
   "execution_count": 53,
   "id": "9a035f83",
   "metadata": {},
   "outputs": [
    {
     "data": {
      "text/plain": [
       "<AxesSubplot:>"
      ]
     },
     "execution_count": 53,
     "metadata": {},
     "output_type": "execute_result"
    },
    {
     "data": {
      "image/png": "[encoded data removed]",
      "text/plain": [
       "<Figure size 432x288 with 2 Axes>"
      ]
     },
     "metadata": {
      "needs_background": "light"
     },
     "output_type": "display_data"
    }
   ],
   "source": [
    "y_pred_thrs2 = np.where(clf2.predict_proba(X_test)[:, 1] > thrs2[ixs], 1, 0)\n",
    "cm_thrs = confusion_matrix(y_test, y_pred_thrs2)\n",
    "sns.heatmap(cm_thrs, annot=True, cmap='Greys', fmt='d')"
   ]
  },
  {
   "cell_type": "code",
   "execution_count": 19,
   "id": "098b8e68",
   "metadata": {},
   "outputs": [
    {
     "name": "stdout",
     "output_type": "stream",
     "text": [
      "[7, 55, 64, 69, 73, 75, 77, 79, 80, 100, 105, 115, 117, 125, 126, 129, 132, 146, 160, 181, 182, 198, 199, 205, 215, 222, 242, 246, 247, 249, 263, 264, 265, 283, 284, 298, 323, 335, 339, 350, 352, 353, 358, 362, 365, 374, 376, 390, 407, 421, 429, 430, 435, 439, 440, 459, 473, 481, 485, 488, 491, 494, 513, 516, 518, 519, 525, 538, 543, 550, 553, 564, 580, 582, 586, 591, 593, 597, 599, 601, 615, 620, 632, 637, 668, 671, 674, 703, 706, 720, 721, 727, 730, 749, 750, 760, 786, 791, 808, 816, 826, 827, 833, 844, 846, 847, 849, 851, 853, 855, 866, 887, 895, 910]\n",
      "false positive::  114\n",
      "\n",
      "[12, 28, 53, 66, 71, 102, 135, 166, 169, 194, 220, 243, 315, 342, 348, 351, 375, 433, 477, 479, 526, 534, 546, 568, 584, 598, 603, 625, 648, 652, 768, 821, 837, 845, 871, 891]\n",
      "false negative::  36\n"
     ]
    }
   ],
   "source": [
    "# acquisico il numero dei contratti nel test set che sono falsi positivi o falsi negativi\n",
    "list_pred = list(y_pred_thrs)\n",
    "list_test = [item for sublist in y_test for item in sublist]\n",
    "\n",
    "i = 0\n",
    "fn_list, fp_list = [], []\n",
    "while i < len(list_pred):\n",
    "    if list_test[i] != list_pred[i]:\n",
    "        if (list_test[i] == True) and (list_pred[i] == False):\n",
    "            fn_list.append(i)\n",
    "        elif (list_test[i] == False) and (list_pred[i] == True):\n",
    "            fp_list.append(i)\n",
    "    i+=1\n",
    "            \n",
    "print(fp_list)\n",
    "print('false positive:: ', len(fp_list))\n",
    "print()\n",
    "print(fn_list)\n",
    "print('false negative:: ', len(fn_list))"
   ]
  },
  {
   "cell_type": "code",
   "execution_count": 20,
   "id": "74b4f5a2",
   "metadata": {},
   "outputs": [],
   "source": [
    "np.set_printoptions(threshold=sys.maxsize)"
   ]
  },
  {
   "cell_type": "code",
   "execution_count": 21,
   "id": "20ea1085",
   "metadata": {},
   "outputs": [],
   "source": [
    "coordinates = clf.predict_proba(X_test)\n",
    "fp_coordinates = [] \n",
    "i = 0\n",
    "\n",
    "while i < len(fp_list):\n",
    "    fp_coordinates.append(coordinates[fp_list[i]])\n",
    "    i+=1"
   ]
  },
  {
   "cell_type": "code",
   "execution_count": 22,
   "id": "304ab1d1",
   "metadata": {},
   "outputs": [],
   "source": [
    "fn_coordinates = [] \n",
    "i = 0\n",
    "\n",
    "while i < len(fn_list):\n",
    "    fn_coordinates.append(coordinates[fn_list[i]])\n",
    "    i+=1"
   ]
  },
  {
   "cell_type": "code",
   "execution_count": 26,
   "id": "44081e76",
   "metadata": {},
   "outputs": [],
   "source": [
    "fp_coo_list = np.array([l.tolist() for l in fp_coordinates])\n",
    "fn_coo_list = np.array([l.tolist() for l in fn_coordinates])\n",
    "    \n",
    "x_fp, y_fp = fp_coo_list.T\n",
    "x_fn, y_fn = fn_coo_list.T"
   ]
  },
  {
   "cell_type": "code",
   "execution_count": 27,
   "id": "c4a64251",
   "metadata": {},
   "outputs": [
    {
     "data": {
      "image/png": "[encoded data removed]",
      "text/plain": [
       "<Figure size 432x288 with 1 Axes>"
      ]
     },
     "metadata": {
      "needs_background": "light"
     },
     "output_type": "display_data"
    }
   ],
   "source": [
    "# rappresento i contratti su di un grafico\n",
    "fig = plt.figure()\n",
    "ax1 = fig.add_subplot(111)\n",
    "ax1.scatter(x_fp, y_fp, s=10, c='b', marker=\"s\", label='FP')\n",
    "ax1.scatter(x_fn, y_fn, s=10, c='r', marker=\"o\", label='FN')\n",
    "plt.xlabel(\"Probability being non ponzi\")\n",
    "plt.ylabel(\"Probability being ponzi\")\n",
    "plt.legend(loc='lower left');\n",
    "plt.show()"
   ]
  },
  {
   "cell_type": "code",
   "execution_count": 25,
   "id": "06c722f1",
   "metadata": {},
   "outputs": [],
   "source": [
    "# Creo un dataframe contenente i Falsi positivi e i Falsi negativi, saranno successivamente scritti su di un file csv.\n",
    "X_test_wrong_false_positive = []\n",
    "\n",
    "for i in fp_list:\n",
    "    X_test_wrong_false_positive.append(X_test_address[i, :])\n",
    "\n",
    "df_FP = pd.DataFrame(data = X_test_wrong_false_positive, columns = features_names.insert(0, 'addresses'))\n",
    "\n",
    "X_test_wrong_false_negative = []\n",
    "\n",
    "for i in fn_list:\n",
    "    X_test_wrong_false_negative.append(X_test_address[i, :])\n",
    "\n",
    "df_FN = pd.DataFrame(data = X_test_wrong_false_negative, columns = features_names.insert(0, 'addresses'))\n",
    "\n",
    "df_FN.to_csv(r'C:\\Users\\andre\\Desktop\\materiale tesi\\settimana 16\\dataset\\cleaned+\\fbeta\\false negative.csv')\n",
    "df_FP.to_csv(r'C:\\Users\\andre\\Desktop\\materiale tesi\\settimana 16\\dataset\\cleaned+\\fbeta\\false positive.csv')"
   ]
  },
  {
   "cell_type": "code",
   "execution_count": 29,
   "id": "def8c81b",
   "metadata": {},
   "outputs": [],
   "source": [
    "# acquisico le probabilita' dei contratti di essere Ponzi\n",
    "prob_of_being_ponzi = coordinates[:, 1]\n",
    "prob_of_being_ponzi\n",
    "y_test_list = [item for sublist in y_test for item in sublist]\n",
    "paired_hist_data = list(zip(y_test_list, prob_of_being_ponzi))"
   ]
  },
  {
   "cell_type": "code",
   "execution_count": 30,
   "id": "36e4098d",
   "metadata": {},
   "outputs": [],
   "source": [
    "# preparo i dati per la creazione dell'istogramma\n",
    "ponzi_hist = []\n",
    "non_ponzi_hist = []\n",
    "\n",
    "for t in paired_hist_data:\n",
    "    if t[0] == 1:\n",
    "        ponzi_hist.append(t[1])\n",
    "    else:\n",
    "        non_ponzi_hist.append(t[1])"
   ]
  },
  {
   "cell_type": "code",
   "execution_count": 31,
   "id": "01c4a9d5",
   "metadata": {},
   "outputs": [
    {
     "data": {
      "image/png": "[encoded data removed]",
      "text/plain": [
       "<Figure size 576x576 with 2 Axes>"
      ]
     },
     "metadata": {
      "needs_background": "light"
     },
     "output_type": "display_data"
    }
   ],
   "source": [
    "# costruisco l'istogramma che mantiene le probabilita' delle classificazioni\n",
    "fig = plt.figure(figsize = (8,8))\n",
    "ax = fig.add_subplot(211)\n",
    "ax2 = fig.add_subplot(212)\n",
    "bins = [0.0, 0.1, 0.2, 0.3, 0.4, 0.5, 0.6, 0.7, 0.8, 0.9, 1]\n",
    "\n",
    "ax.hist(non_ponzi_hist, bins = bins, align = 'mid')\n",
    "ax2.hist(ponzi_hist, color = 'orange', bins = bins, align = 'mid')\n",
    "ax2.invert_yaxis()"
   ]
  },
  {
   "cell_type": "code",
   "execution_count": 18,
   "id": "531a66da",
   "metadata": {},
   "outputs": [],
   "source": [
    "# ottengo le predizioni sul test set sotto forma di 0 e 1, farlo sul modello scelto dunque quello proveniente da pr-curve\n",
    "y_test_list = [item for sublist in y_test for item in sublist]\n",
    "y_pred_list = y_pred_thrs.tolist()\n",
    "\n",
    "y_pred_file = open(r'C:\\Users\\andre\\Desktop\\materiale tesi\\settimana 16\\dataset\\cleaned+\\fbeta\\y_pred_list.txt', \"w\")\n",
    "for element in y_pred_list:\n",
    "    y_pred_file.write(str(element) + \"\\n\")\n",
    "y_pred_file.close()"
   ]
  },
  {
   "cell_type": "code",
   "execution_count": null,
   "id": "2cbf3179",
   "metadata": {},
   "outputs": [],
   "source": []
  }
 ],
 "metadata": {
  "kernelspec": {
   "display_name": "Python 3 (ipykernel)",
   "language": "python",
   "name": "python3"
  },
  "language_info": {
   "codemirror_mode": {
    "name": "ipython",
    "version": 3
   },
   "file_extension": ".py",
   "mimetype": "text/x-python",
   "name": "python",
   "nbconvert_exporter": "python",
   "pygments_lexer": "ipython3",
   "version": "3.9.7"
  }
 },
 "nbformat": 4,
 "nbformat_minor": 5
}
