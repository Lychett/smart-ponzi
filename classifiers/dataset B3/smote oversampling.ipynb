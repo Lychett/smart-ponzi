{
 "cells": [
  {
   "cell_type": "code",
   "execution_count": 1,
   "id": "735b5cc1",
   "metadata": {},
   "outputs": [],
   "source": [
    "import numpy as np\n",
    "import pandas as pd\n",
    "import seaborn as sns # libreria utile per matrice di confusione\n",
    "import plotly.express as px\n",
    "from matplotlib import pyplot as plt\n",
    "from sklearn import tree\n",
    "from sklearn.metrics import accuracy_score, precision_score, recall_score, f1_score, fbeta_score, make_scorer, precision_recall_curve, confusion_matrix\n",
    "from sklearn.model_selection import train_test_split, GridSearchCV\n",
    "from sklearn.tree import DecisionTreeClassifier\n",
    "from sklearn.ensemble import RandomForestClassifier\n",
    "import xgboost as xgb\n",
    "from imblearn.over_sampling import SMOTE"
   ]
  },
  {
   "cell_type": "code",
   "execution_count": 2,
   "id": "bd20be14",
   "metadata": {},
   "outputs": [
    {
     "name": "stdout",
     "output_type": "stream",
     "text": [
      "[(0, 'balance'), (1, 'lifetime'), (2, 'tx_in'), (3, 'investment_to_contract/tx_in'), (4, 'payment_from_contract/tx_out'), (5, '#addresses_paying_contract'), (6, '#addresses_paid_by_contract'), (7, 'mean_v1'), (8, 'sdev_v1'), (9, 'sdev_v2'), (10, 'paid_rate'), (11, 'paid_one'), (12, 'percentage_some_tx_in'), (13, 'sdev_tx_in'), (14, 'percentage_some_tx_out'), (15, 'known_rate'), (16, 'owner_gets_eth_Wo_investing')]\n"
     ]
    }
   ],
   "source": [
    "# leggo il dataset ed il target\n",
    "\n",
    "dataset = pd.read_csv(r'C:\\Users\\andre\\Desktop\\materiale tesi\\settimana 16\\dataset\\cleaned-\\dataset-.csv', header = 0)\n",
    "features_names = list(dataset.columns) # ottengo i nomi delle features\n",
    "features_names.pop(0) # rimuovo il primo addresses, in quanto non e' una feature\n",
    "pairs_number_features = list() # creo una lista che contiene coppie <#_feature, nome_feature>\n",
    "idx = 0\n",
    "\n",
    "while idx < len(features_names):\n",
    "    pair = (idx, features_names[idx])\n",
    "    pairs_number_features.append(pair)\n",
    "    idx+=1\n",
    "    \n",
    "print(pairs_number_features)\n",
    "\n",
    "target = pd.read_csv(r'C:\\Users\\andre\\Desktop\\materiale tesi\\settimana 16\\dataset\\cleaned-\\target.csv', header = 0)"
   ]
  },
  {
   "cell_type": "code",
   "execution_count": 3,
   "id": "761a4a46",
   "metadata": {},
   "outputs": [
    {
     "name": "stdout",
     "output_type": "stream",
     "text": [
      "Before SMOTE : Counter({0: 3107, 1: 538})\n"
     ]
    }
   ],
   "source": [
    "X = dataset.values[:, 1:] # rimuovo la prima colonna che contiene gli indirizzi\n",
    "y = target.values\n",
    "\n",
    "# divido in train set (TR) e test set (TS)\n",
    "X_train, X_test, y_train, y_test = train_test_split(X, y, test_size=0.2, random_state = 42, stratify=y) \n",
    "\n",
    "from collections import Counter\n",
    "\n",
    "y_train_list = [item for sublist in y_train.tolist() for item in sublist]\n",
    "print(\"Before SMOTE :\" , Counter(y_train_list))"
   ]
  },
  {
   "cell_type": "code",
   "execution_count": 4,
   "id": "3a1b2c8b",
   "metadata": {},
   "outputs": [
    {
     "name": "stdout",
     "output_type": "stream",
     "text": [
      "After SMOTE : Counter({0: 3107, 1: 3107})\n"
     ]
    }
   ],
   "source": [
    "smote = SMOTE(random_state = 21)\n",
    "X_train_smote, y_train_smote = smote.fit_resample(X_train, y_train)\n",
    "print(\"After SMOTE :\" , Counter(y_train_smote))"
   ]
  },
  {
   "cell_type": "code",
   "execution_count": 17,
   "id": "2f5040ba",
   "metadata": {},
   "outputs": [],
   "source": [
    "param_dist_DT = {\n",
    "            'criterion' : ['entropy', 'gini'],\n",
    "            'max_depth' : [6, 7, 8],\n",
    "            'min_samples_split' : [20, 25, 30]\n",
    "}"
   ]
  },
  {
   "cell_type": "code",
   "execution_count": 18,
   "id": "e19bd236",
   "metadata": {},
   "outputs": [
    {
     "name": "stdout",
     "output_type": "stream",
     "text": [
      "best hyperparameters::  {'criterion': 'gini', 'max_depth': 8, 'min_samples_split': 20}\n",
      "best score::  0.8505049506980941\n",
      "recall score on TR::  0.8667524943675571\n",
      "precision score on TR::  0.907345013477089\n"
     ]
    }
   ],
   "source": [
    "grid_dt = GridSearchCV(DecisionTreeClassifier(), param_grid=param_dist_DT, cv=3, n_jobs=8)\n",
    "\n",
    "grid_dt.fit(X_train_smote,y_train_smote)\n",
    "y_pred_train = grid_dt.predict(X_train_smote) # effettuo la predizione su train set\n",
    "print('best hyperparameters:: ', grid_dt.best_params_) # stampo i migliori iperparametri\n",
    "print('best score:: ', grid_dt.best_score_) # media degli score (basata sulla metrica di scoring) date sulle cross validation\n",
    "print('recall score on TR:: ', recall_score(y_train_smote, y_pred_train))\n",
    "print('precision score on TR:: ', precision_score(y_train_smote, y_pred_train))"
   ]
  },
  {
   "cell_type": "code",
   "execution_count": 19,
   "id": "3b175c0a",
   "metadata": {},
   "outputs": [
    {
     "name": "stdout",
     "output_type": "stream",
     "text": [
      "accuracy score on TR::  0.8891213389121339\n",
      "accuracy score on TS::  0.8377192982456141\n"
     ]
    }
   ],
   "source": [
    "clf_dt = DecisionTreeClassifier(**grid_dt.best_params_)\n",
    "clf_dt.fit(X_train_smote, y_train_smote)\n",
    "print('accuracy score on TR:: ', clf_dt.score(X_train_smote, y_train_smote))\n",
    "print('accuracy score on TS:: ', clf_dt.score(X_test, y_test))"
   ]
  },
  {
   "cell_type": "code",
   "execution_count": 21,
   "id": "c57f5690",
   "metadata": {},
   "outputs": [],
   "source": [
    "param_dist_RF = {\n",
    "            'n_estimators':[170, 190, 210],\n",
    "            'criterion':['entropy', 'gini'],\n",
    "            'max_depth' : [9, 10],\n",
    "            'max_features' : [5],\n",
    "            'min_samples_split' : [30, 35],\n",
    "            'bootstrap': [True, False]\n",
    "}"
   ]
  },
  {
   "cell_type": "code",
   "execution_count": 24,
   "id": "21b5d08f",
   "metadata": {},
   "outputs": [
    {
     "name": "stdout",
     "output_type": "stream",
     "text": [
      "best hyperparameters::  {'bootstrap': False, 'criterion': 'entropy', 'max_depth': 10, 'max_features': 5, 'min_samples_split': 30, 'n_estimators': 190}\n",
      "best score::  0.8945975619683972\n",
      "recall score on TR::  0.9053749597682652\n",
      "precision score on TR::  0.9445936870382807\n"
     ]
    }
   ],
   "source": [
    "grid_rf = GridSearchCV(RandomForestClassifier(), param_grid=param_dist_RF, cv=3, n_jobs=8)\n",
    "\n",
    "grid_rf.fit(X_train_smote,y_train_smote)\n",
    "y_pred_train = grid_rf.predict(X_train_smote) # effettuo la predizione su train set\n",
    "print('best hyperparameters:: ', grid_rf.best_params_) # stampo i migliori iperparametri\n",
    "print('best score:: ', grid_rf.best_score_) # media degli score (basata sulla metrica di scoring) date sulle cross validation\n",
    "print('recall score on TR:: ', recall_score(y_train_smote, y_pred_train))\n",
    "print('precision score on TR:: ', precision_score(y_train_smote, y_pred_train))"
   ]
  },
  {
   "cell_type": "code",
   "execution_count": 25,
   "id": "5aade330",
   "metadata": {},
   "outputs": [
    {
     "name": "stdout",
     "output_type": "stream",
     "text": [
      "accuracy score on TR::  0.9013517862890248\n",
      "accuracy score on TS::  0.8585526315789473\n"
     ]
    }
   ],
   "source": [
    "clf_rf = RandomForestClassifier(**grid_dt.best_params_)\n",
    "clf_rf.fit(X_train_smote, y_train_smote)\n",
    "print('accuracy score on TR:: ', clf_rf.score(X_train_smote, y_train_smote))\n",
    "print('accuracy score on TS:: ', clf_rf.score(X_test, y_test))"
   ]
  },
  {
   "cell_type": "code",
   "execution_count": 50,
   "id": "379dea03",
   "metadata": {},
   "outputs": [],
   "source": [
    "grid_param_XGB = {\n",
    "                'learning_rate' : [0.1],\n",
    "                'n_estimators' : [240, 250],\n",
    "                'max_depth': [8, 9, 10],\n",
    "                'colsample_bytree' : [0.8],\n",
    "                'subsample' : [0.8],\n",
    "                'reg_lambda' : [150]\n",
    "}"
   ]
  },
  {
   "cell_type": "code",
   "execution_count": 51,
   "id": "ae01f171",
   "metadata": {},
   "outputs": [
    {
     "name": "stdout",
     "output_type": "stream",
     "text": [
      "best hyperparameters::  {'colsample_bytree': 0.8, 'learning_rate': 0.1, 'max_depth': 8, 'n_estimators': 250, 'reg_lambda': 150, 'subsample': 0.8}\n",
      "best score::  0.894275190207107\n",
      "recall score on TR::  0.9130994528484069\n",
      "precision score on TR::  0.9516940623951694\n"
     ]
    }
   ],
   "source": [
    "grid_xgb = GridSearchCV(xgb.XGBClassifier(use_label_encoder=False, eval_metric='aucpr'), param_grid=grid_param_XGB, cv=3, n_jobs=8)\n",
    "\n",
    "grid_xgb.fit(X_train_smote,y_train_smote)\n",
    "y_pred_train = grid_xgb.predict(X_train_smote) # effettuo la predizione su train set\n",
    "print('best hyperparameters:: ', grid_xgb.best_params_) # stampo i migliori iperparametri\n",
    "print('best score:: ', grid_xgb.best_score_) # media degli score (basata sulla metrica di scoring) date sulle cross validation\n",
    "print('recall score on TR:: ', recall_score(y_train_smote, y_pred_train))\n",
    "print('precision score on TR:: ', precision_score(y_train_smote, y_pred_train))"
   ]
  },
  {
   "cell_type": "code",
   "execution_count": 52,
   "id": "d059b466",
   "metadata": {},
   "outputs": [
    {
     "name": "stdout",
     "output_type": "stream",
     "text": [
      "accuracy score on TR::  0.9333762471837785\n",
      "accuracy score on TS::  0.8717105263157895\n"
     ]
    }
   ],
   "source": [
    "clf_xgb = xgb.XGBClassifier(learning_rate = 0.1, max_depth = 8, n_estimators = 250, reg_lambda = 150, \n",
    "                            subsample = 0.8, colsample_bytree = 0.8, use_label_encoder = False, eval_metric='aucpr')\n",
    "clf_xgb.fit(X_train_smote, y_train_smote)\n",
    "print('accuracy score on TR:: ', clf_xgb.score(X_train_smote, y_train_smote))\n",
    "print('accuracy score on TS:: ', clf_xgb.score(X_test, y_test))"
   ]
  },
  {
   "cell_type": "code",
   "execution_count": 33,
   "id": "e7c025db",
   "metadata": {},
   "outputs": [],
   "source": [
    "model_params = {\n",
    "    'decision_tree': {\n",
    "        'model': DecisionTreeClassifier(),\n",
    "        'params': { \n",
    "            'criterion' : ['entropy', 'gini'],\n",
    "            'max_depth' : [6, 7, 8],\n",
    "            'min_samples_split' : [20, 25, 30]\n",
    "        }\n",
    "    },\n",
    "    'random_forest': {\n",
    "        'model': RandomForestClassifier(),\n",
    "        'params': {\n",
    "            'n_estimators':[170, 190, 210],\n",
    "            'criterion':['entropy', 'gini'],\n",
    "            'max_depth' : [9, 10],\n",
    "            'max_features' : [5],\n",
    "            'min_samples_split' : [30, 35],\n",
    "            'bootstrap': [True, False]\n",
    "        }\n",
    "    },\n",
    "    'xgboost': {\n",
    "        'model': xgb.XGBClassifier(subsample = 0.8, \n",
    "                                   colsample_bytree = 0.8,\n",
    "                                   eval_metric = 'aucpr', \n",
    "                                   use_label_encoder = False),\n",
    "        'params': {\n",
    "                'learning_rate' : [0.05, 0.1],\n",
    "                'n_estimators' : [240, 250, 260],\n",
    "                'max_depth': [8, 9, 10],\n",
    "                'colsample_bytree' : [0.8],\n",
    "                'subsample' : [0.8],\n",
    "                'reg_lambda' : [150]\n",
    "        }\n",
    "    }\n",
    "}"
   ]
  },
  {
   "cell_type": "code",
   "execution_count": 34,
   "id": "e266afcd",
   "metadata": {},
   "outputs": [
    {
     "data": {
      "text/html": [
       "<div>\n",
       "<style scoped>\n",
       "    .dataframe tbody tr th:only-of-type {\n",
       "        vertical-align: middle;\n",
       "    }\n",
       "\n",
       "    .dataframe tbody tr th {\n",
       "        vertical-align: top;\n",
       "    }\n",
       "\n",
       "    .dataframe thead th {\n",
       "        text-align: right;\n",
       "    }\n",
       "</style>\n",
       "<table border=\"1\" class=\"dataframe\">\n",
       "  <thead>\n",
       "    <tr style=\"text-align: right;\">\n",
       "      <th></th>\n",
       "      <th>model</th>\n",
       "      <th>best_score</th>\n",
       "      <th>best_params</th>\n",
       "    </tr>\n",
       "  </thead>\n",
       "  <tbody>\n",
       "    <tr>\n",
       "      <th>0</th>\n",
       "      <td>decision_tree</td>\n",
       "      <td>0.850666</td>\n",
       "      <td>{'criterion': 'gini', 'max_depth': 8, 'min_samples_split': 20}</td>\n",
       "    </tr>\n",
       "    <tr>\n",
       "      <th>1</th>\n",
       "      <td>random_forest</td>\n",
       "      <td>0.895885</td>\n",
       "      <td>{'bootstrap': False, 'criterion': 'gini', 'max_depth': 10, 'max_features': 5, 'min_samples_split': 30, 'n_estimators': 210}</td>\n",
       "    </tr>\n",
       "    <tr>\n",
       "      <th>2</th>\n",
       "      <td>xgboost</td>\n",
       "      <td>0.895563</td>\n",
       "      <td>{'colsample_bytree': 0.8, 'learning_rate': 0.1, 'max_depth': 9, 'n_estimators': 260, 'reg_lambda': 150, 'subsample': 0.8}</td>\n",
       "    </tr>\n",
       "  </tbody>\n",
       "</table>\n",
       "</div>"
      ],
      "text/plain": [
       "           model  best_score  \\\n",
       "0  decision_tree    0.850666   \n",
       "1  random_forest    0.895885   \n",
       "2        xgboost    0.895563   \n",
       "\n",
       "                                                                                                                   best_params  \n",
       "0                                                               {'criterion': 'gini', 'max_depth': 8, 'min_samples_split': 20}  \n",
       "1  {'bootstrap': False, 'criterion': 'gini', 'max_depth': 10, 'max_features': 5, 'min_samples_split': 30, 'n_estimators': 210}  \n",
       "2    {'colsample_bytree': 0.8, 'learning_rate': 0.1, 'max_depth': 9, 'n_estimators': 260, 'reg_lambda': 150, 'subsample': 0.8}  "
      ]
     },
     "execution_count": 34,
     "metadata": {},
     "output_type": "execute_result"
    }
   ],
   "source": [
    "scores = []\n",
    "\n",
    "for model_name, mp in model_params.items():\n",
    "    clf =  GridSearchCV(mp['model'], mp['params'], cv=3, return_train_score=False, n_jobs=8)\n",
    "    clf.fit(X_train_smote, y_train_smote.ravel())\n",
    "    scores.append({\n",
    "        'model': model_name,\n",
    "        'best_score': clf.best_score_,\n",
    "        'best_params': clf.best_params_,\n",
    "        'best_estimator': clf.best_estimator_ # necessario per riallenare\n",
    "    })\n",
    "    \n",
    "pd.set_option(\"display.max_colwidth\", None)\n",
    "df = pd.DataFrame(scores,columns=['model','best_score','best_params'])\n",
    "df"
   ]
  },
  {
   "cell_type": "code",
   "execution_count": 35,
   "id": "55b10263",
   "metadata": {},
   "outputs": [
    {
     "data": {
      "text/plain": [
       "RandomForestClassifier(bootstrap=False, max_depth=10, max_features=5,\n",
       "                       min_samples_split=30, n_estimators=210)"
      ]
     },
     "execution_count": 35,
     "metadata": {},
     "output_type": "execute_result"
    }
   ],
   "source": [
    "models_list = sorted(scores, key=lambda d: d['best_score']) # ordino in base al best_score\n",
    "model = models_list[-1] # prendo l'ultimo modello (quello con score piu' alto)\n",
    "clf = model.get('best_estimator') # ottengo i valori con cui allenare\n",
    "clf.fit(X_train_smote, y_train_smote) # rialleno"
   ]
  },
  {
   "cell_type": "code",
   "execution_count": 36,
   "id": "6dff72d0",
   "metadata": {},
   "outputs": [
    {
     "name": "stdout",
     "output_type": "stream",
     "text": [
      "                    (Number, Feature)  Importance\n",
      "0                      (11, paid_one)    0.117610\n",
      "1                    (15, known_rate)    0.113849\n",
      "2                          (2, tx_in)    0.107013\n",
      "3    (6, #addresses_paid_by_contract)    0.092020\n",
      "4   (3, investment_to_contract/tx_in)    0.082350\n",
      "5                    (13, sdev_tx_in)    0.074405\n",
      "6                        (7, mean_v1)    0.052150\n",
      "7         (12, percentage_some_tx_in)    0.051832\n",
      "8                       (1, lifetime)    0.048200\n",
      "9                     (10, paid_rate)    0.047767\n",
      "10                       (0, balance)    0.047470\n",
      "11                       (9, sdev_v2)    0.044552\n",
      "12    (5, #addresses_paying_contract)    0.042527\n",
      "13  (16, owner_gets_eth_Wo_investing)    0.029269\n",
      "14                       (8, sdev_v1)    0.018189\n",
      "15       (14, percentage_some_tx_out)    0.017162\n",
      "16  (4, payment_from_contract/tx_out)    0.013634\n"
     ]
    },
    {
     "data": {
      "image/png": "[encoded data removed]",
      "text/plain": [
       "<Figure size 432x288 with 1 Axes>"
      ]
     },
     "metadata": {
      "needs_background": "light"
     },
     "output_type": "display_data"
    }
   ],
   "source": [
    "features_importances = clf.feature_importances_\n",
    "res = dict(zip(pairs_number_features, features_importances))\n",
    "sorted_dict = dict(sorted(res.items(), key=lambda item: item[1], reverse = True))\n",
    "print(pd.DataFrame(list(sorted_dict.items()),columns=['(Number, Feature)', 'Importance']))\n",
    "plt.bar(range(len(features_importances)), features_importances)\n",
    "plt.show()"
   ]
  },
  {
   "cell_type": "code",
   "execution_count": 37,
   "id": "83d5921c",
   "metadata": {},
   "outputs": [
    {
     "name": "stdout",
     "output_type": "stream",
     "text": [
      "precision score::  0.5714285714285714\n",
      "recall score::  0.6222222222222222\n",
      "accuracy score::  0.875\n",
      "F1 score:: 0.5957446808510639\n"
     ]
    },
    {
     "data": {
      "text/plain": [
       "<AxesSubplot:>"
      ]
     },
     "execution_count": 37,
     "metadata": {},
     "output_type": "execute_result"
    },
    {
     "data": {
      "image/png": "[encoded data removed]",
      "text/plain": [
       "<Figure size 432x288 with 2 Axes>"
      ]
     },
     "metadata": {
      "needs_background": "light"
     },
     "output_type": "display_data"
    }
   ],
   "source": [
    "# faccio la predizione e stampo le statistiche sul modello migliore (quello che ha vinto nella GridSearch)\n",
    "\n",
    "y_pred = clf.predict(X_test)\n",
    "#print(clf.predict_proba(X_test)) # per vedere le probabilita' con cui sono classificati come ponzi o non ponzi\n",
    "print('precision score:: ', precision_score(y_test, y_pred)) # TP / (FP + TP)\n",
    "print('recall score:: ', recall_score(y_test, y_pred))\t     # TP / (FN + TP)\n",
    "print('accuracy score:: ', accuracy_score(y_test, y_pred))\t # (TP + TN)/ (TP + FN + TN + FP)\n",
    "print('F1 score::', f1_score(y_test, y_pred))\n",
    "cm = confusion_matrix(y_test, y_pred)\n",
    "sns.heatmap(cm, annot=True, cmap='Greens', fmt='d')"
   ]
  },
  {
   "cell_type": "code",
   "execution_count": 38,
   "id": "2fc19ded",
   "metadata": {},
   "outputs": [
    {
     "name": "stdout",
     "output_type": "stream",
     "text": [
      "precision score::  0.54421768707483\n",
      "recall score::  0.5925925925925926\n",
      "accuracy score::  0.8662280701754386\n",
      "F1 score:: 0.5673758865248226\n"
     ]
    },
    {
     "data": {
      "text/plain": [
       "<AxesSubplot:>"
      ]
     },
     "execution_count": 38,
     "metadata": {},
     "output_type": "execute_result"
    },
    {
     "data": {
      "image/png": "[encoded data removed]",
      "text/plain": [
       "<Figure size 432x288 with 2 Axes>"
      ]
     },
     "metadata": {
      "needs_background": "light"
     },
     "output_type": "display_data"
    }
   ],
   "source": [
    "# risultati ottenuti con il secondo migliore\n",
    "\n",
    "model = models_list[1] # prendo il modello medio\n",
    "clf2 = model.get('best_estimator') # ottengo i valori con cui allenare\n",
    "clf2.fit(X_train_smote, y_train_smote.ravel()) # rialleno\n",
    "y_pred2 = clf2.predict(X_test)\n",
    "#print(clf2.predict_proba(X_test)) # per vedere le probabilita' con cui sono classificati come ponzi o non ponzi\n",
    "print('precision score:: ', precision_score(y_test, y_pred2)) #  TP / (FP + TP)\n",
    "print('recall score:: ', recall_score(y_test, y_pred2))\t     # \tTP / (FN + TP)\n",
    "print('accuracy score:: ', accuracy_score(y_test, y_pred2))\t #  (TP + TN)/ (TP + FN + TN + FP)\n",
    "print('F1 score::', f1_score(y_test, y_pred2))\n",
    "cm = confusion_matrix(y_test, y_pred2)\n",
    "sns.heatmap(cm, annot=True, cmap='Reds', fmt='d')"
   ]
  },
  {
   "cell_type": "code",
   "execution_count": null,
   "id": "4bff7d72",
   "metadata": {},
   "outputs": [],
   "source": []
  }
 ],
 "metadata": {
  "kernelspec": {
   "display_name": "Python 3 (ipykernel)",
   "language": "python",
   "name": "python3"
  },
  "language_info": {
   "codemirror_mode": {
    "name": "ipython",
    "version": 3
   },
   "file_extension": ".py",
   "mimetype": "text/x-python",
   "name": "python",
   "nbconvert_exporter": "python",
   "pygments_lexer": "ipython3",
   "version": "3.9.7"
  }
 },
 "nbformat": 4,
 "nbformat_minor": 5
}
