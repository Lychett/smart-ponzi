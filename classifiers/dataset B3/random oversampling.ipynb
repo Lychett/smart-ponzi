{
 "cells": [
  {
   "cell_type": "code",
   "execution_count": 1,
   "id": "765a9b70",
   "metadata": {},
   "outputs": [],
   "source": [
    "import numpy as np\n",
    "import pandas as pd\n",
    "import seaborn as sns # libreria utile per matrice di confusione\n",
    "from matplotlib import pyplot as plt\n",
    "from sklearn import tree\n",
    "from sklearn.metrics import accuracy_score, precision_score, recall_score, f1_score, fbeta_score, confusion_matrix, precision_recall_curve\n",
    "from sklearn.model_selection import train_test_split, GridSearchCV\n",
    "from sklearn.tree import DecisionTreeClassifier\n",
    "from sklearn.ensemble import RandomForestClassifier\n",
    "import xgboost as xgb\n",
    "from imblearn.over_sampling import RandomOverSampler"
   ]
  },
  {
   "cell_type": "code",
   "execution_count": 2,
   "id": "b7bde993",
   "metadata": {},
   "outputs": [
    {
     "name": "stdout",
     "output_type": "stream",
     "text": [
      "[(0, 'balance'), (1, 'lifetime'), (2, 'tx_in'), (3, 'investment_to_contract/tx_in'), (4, 'payment_from_contract/tx_out'), (5, '#addresses_paying_contract'), (6, '#addresses_paid_by_contract'), (7, 'mean_v1'), (8, 'sdev_v1'), (9, 'sdev_v2'), (10, 'paid_rate'), (11, 'paid_one'), (12, 'percentage_some_tx_in'), (13, 'sdev_tx_in'), (14, 'percentage_some_tx_out'), (15, 'known_rate'), (16, 'owner_gets_eth_Wo_investing')]\n"
     ]
    }
   ],
   "source": [
    "# leggo il dataset ed il target\n",
    "\n",
    "dataset = pd.read_csv(r'C:\\Users\\andre\\Desktop\\materiale tesi\\settimana 16\\dataset\\cleaned-\\dataset-.csv', header = 0)\n",
    "features_names = list(dataset.columns) # ottengo i nomi delle features\n",
    "features_names.pop(0) # rimuovo il primo addresses, in quanto non e' una feature\n",
    "pairs_number_features = list() # creo una lista che contiene coppie <#_feature, nome_feature>\n",
    "idx = 0\n",
    "\n",
    "while idx < len(features_names):\n",
    "    pair = (idx, features_names[idx])\n",
    "    pairs_number_features.append(pair)\n",
    "    idx+=1\n",
    "    \n",
    "print(pairs_number_features)\n",
    "\n",
    "target = pd.read_csv(r'C:\\Users\\andre\\Desktop\\materiale tesi\\settimana 16\\dataset\\cleaned-\\target.csv', header = 0)"
   ]
  },
  {
   "cell_type": "code",
   "execution_count": 3,
   "id": "0f442ff7",
   "metadata": {},
   "outputs": [
    {
     "name": "stdout",
     "output_type": "stream",
     "text": [
      "Before Random oversampling : Counter({0: 3107, 1: 538})\n"
     ]
    }
   ],
   "source": [
    "X = dataset.values[:, 1:] # rimuovo la prima colonna che contiene gli indirizzi\n",
    "y = target.values\n",
    "\n",
    "# divido in train set (TR) e test set (TS)\n",
    "X_train, X_test, y_train, y_test = train_test_split(X, y, test_size=0.2, random_state = 42, stratify=y) \n",
    "\n",
    "from collections import Counter\n",
    "\n",
    "y_train_list = [item for sublist in y_train.tolist() for item in sublist]\n",
    "print(\"Before Random oversampling :\" , Counter(y_train_list))"
   ]
  },
  {
   "cell_type": "code",
   "execution_count": 16,
   "id": "8912b6d6",
   "metadata": {},
   "outputs": [
    {
     "name": "stdout",
     "output_type": "stream",
     "text": [
      "After Random oversampling : Counter({0: 3107, 1: 3107})\n"
     ]
    }
   ],
   "source": [
    "ros = RandomOverSampler(sampling_strategy='minority', random_state = 21)\n",
    "X_train_rnd, y_train_rnd = ros.fit_resample(X_train, y_train)\n",
    "print(\"After Random oversampling :\" , Counter(y_train_rnd))"
   ]
  },
  {
   "cell_type": "code",
   "execution_count": 34,
   "id": "8f7190d8",
   "metadata": {},
   "outputs": [],
   "source": [
    "param_dist_DT = {\n",
    "            'criterion' : ['entropy', 'gini'],\n",
    "            'max_depth' : [6, 7, 8, 9],\n",
    "            'min_samples_split' : [20, 25, 30]\n",
    "}"
   ]
  },
  {
   "cell_type": "code",
   "execution_count": 35,
   "id": "b98e0e31",
   "metadata": {},
   "outputs": [
    {
     "name": "stdout",
     "output_type": "stream",
     "text": [
      "best hyperparameters::  {'criterion': 'gini', 'max_depth': 9, 'min_samples_split': 20}\n",
      "best score::  0.8416479613365176\n",
      "recall score on TR::  0.8876729964596073\n",
      "precision score on TR::  0.8475722188076213\n"
     ]
    }
   ],
   "source": [
    "grid_dt = GridSearchCV(DecisionTreeClassifier(), param_grid=param_dist_DT, cv=3, n_jobs=8)\n",
    "\n",
    "grid_dt.fit(X_train_rnd,y_train_rnd)\n",
    "y_pred_train = grid_dt.predict(X_train_rnd) # effettuo la predizione su train set\n",
    "print('best hyperparameters:: ', grid_dt.best_params_) # stampo i migliori iperparametri\n",
    "print('best score:: ', grid_dt.best_score_) # media degli score (basata sulla metrica di scoring) date sulle cross validation\n",
    "print('recall score on TR:: ', recall_score(y_train_rnd, y_pred_train))\n",
    "print('precision score on TR:: ', precision_score(y_train_rnd, y_pred_train))"
   ]
  },
  {
   "cell_type": "code",
   "execution_count": 36,
   "id": "488660f1",
   "metadata": {},
   "outputs": [
    {
     "name": "stdout",
     "output_type": "stream",
     "text": [
      "accuracy score on TR::  0.8640167364016736\n",
      "accuracy score on TS::  0.7993421052631579\n"
     ]
    }
   ],
   "source": [
    "clf_dt = DecisionTreeClassifier(**grid_dt.best_params_)\n",
    "clf_dt.fit(X_train_rnd, y_train_rnd)\n",
    "print('accuracy score on TR:: ', clf_dt.score(X_train_rnd, y_train_rnd))\n",
    "print('accuracy score on TS:: ', clf_dt.score(X_test, y_test))"
   ]
  },
  {
   "cell_type": "code",
   "execution_count": 61,
   "id": "9c6d0f07",
   "metadata": {},
   "outputs": [],
   "source": [
    "param_dist_RF = {\n",
    "            'n_estimators':[180, 190, 200, 210],\n",
    "            'criterion':['entropy', 'gini'],\n",
    "            'max_depth' : [9],\n",
    "            'min_samples_split' : [35, 40],\n",
    "            'bootstrap': [True, False]\n",
    "}"
   ]
  },
  {
   "cell_type": "code",
   "execution_count": 62,
   "id": "b6baf3b4",
   "metadata": {},
   "outputs": [
    {
     "name": "stdout",
     "output_type": "stream",
     "text": [
      "best hyperparameters::  {'bootstrap': False, 'criterion': 'gini', 'max_depth': 9, 'min_samples_split': 35, 'n_estimators': 180}\n",
      "best score::  0.8675583391904009\n",
      "recall score on TR::  0.895397489539749\n",
      "precision score on TR::  0.888250319284802\n"
     ]
    }
   ],
   "source": [
    "grid_rf = GridSearchCV(RandomForestClassifier(), param_grid=param_dist_RF, cv=3, n_jobs=8)\n",
    "\n",
    "grid_rf.fit(X_train_rnd,y_train_rnd)\n",
    "y_pred_train = grid_rf.predict(X_train_rnd) # effettuo la predizione su train set\n",
    "print('best hyperparameters:: ', grid_rf.best_params_) # stampo i migliori iperparametri\n",
    "print('best score:: ', grid_rf.best_score_) # media degli score (basata sulla metrica di scoring) date sulle cross validation\n",
    "print('recall score on TR:: ', recall_score(y_train_rnd, y_pred_train))\n",
    "print('precision score on TR:: ', precision_score(y_train_rnd, y_pred_train))"
   ]
  },
  {
   "cell_type": "code",
   "execution_count": 63,
   "id": "d17ed96b",
   "metadata": {},
   "outputs": [
    {
     "name": "stdout",
     "output_type": "stream",
     "text": [
      "accuracy score on TR::  0.8854200193112327\n",
      "accuracy score on TS::  0.8355263157894737\n"
     ]
    }
   ],
   "source": [
    "clf_rf = RandomForestClassifier(**grid_dt.best_params_)\n",
    "clf_rf.fit(X_train_rnd, y_train_rnd)\n",
    "print('accuracy score on TR:: ', clf_rf.score(X_train_rnd, y_train_rnd))\n",
    "print('accuracy score on TS:: ', clf_rf.score(X_test, y_test))"
   ]
  },
  {
   "cell_type": "code",
   "execution_count": 71,
   "id": "6fcb5f58",
   "metadata": {},
   "outputs": [],
   "source": [
    "grid_param_XGB = {\n",
    "                'learning_rate' : [0.05],\n",
    "                'n_estimators' : [300, 325, 350],\n",
    "                'max_depth': [8,9],\n",
    "                'colsample_bytree' : [0.8],\n",
    "                'subsample' : [0.8],\n",
    "                'reg_lambda' : [150]\n",
    "}"
   ]
  },
  {
   "cell_type": "code",
   "execution_count": 72,
   "id": "e1d30ab2",
   "metadata": {},
   "outputs": [
    {
     "name": "stdout",
     "output_type": "stream",
     "text": [
      "best hyperparameters::  {'colsample_bytree': 0.8, 'learning_rate': 0.05, 'max_depth': 9, 'n_estimators': 350, 'reg_lambda': 150, 'subsample': 0.8}\n",
      "best score::  0.8656271381404167\n",
      "recall score on TR::  0.8841326037978757\n",
      "precision score on TR::  0.9190364670458347\n"
     ]
    }
   ],
   "source": [
    "grid_xgb = GridSearchCV(xgb.XGBClassifier(use_label_encoder=False, eval_metric='aucpr'), param_grid=grid_param_XGB, cv=3, n_jobs=8)\n",
    "\n",
    "grid_xgb.fit(X_train_rnd,y_train_rnd)\n",
    "y_pred_train = grid_xgb.predict(X_train_rnd) # effettuo la predizione su train set\n",
    "print('best hyperparameters:: ', grid_xgb.best_params_) # stampo i migliori iperparametri\n",
    "print('best score:: ', grid_xgb.best_score_) # media degli score (basata sulla metrica di scoring) date sulle cross validation\n",
    "print('recall score on TR:: ', recall_score(y_train_rnd, y_pred_train))\n",
    "print('precision score on TR:: ', precision_score(y_train_rnd, y_pred_train))"
   ]
  },
  {
   "cell_type": "code",
   "execution_count": 73,
   "id": "49aae5c8",
   "metadata": {},
   "outputs": [
    {
     "name": "stdout",
     "output_type": "stream",
     "text": [
      "accuracy score on TR::  0.9031219826198905\n",
      "accuracy score on TS::  0.8530701754385965\n"
     ]
    }
   ],
   "source": [
    "clf_xgb = xgb.XGBClassifier(learning_rate = 0.05, max_depth = 9, n_estimators = 350, reg_lambda = 150, \n",
    "                            subsample = 0.8, colsample_bytree = 0.8, use_label_encoder = False, eval_metric='aucpr')\n",
    "clf_xgb.fit(X_train_rnd, y_train_rnd)\n",
    "print('accuracy score on TR:: ', clf_xgb.score(X_train_rnd, y_train_rnd))\n",
    "print('accuracy score on TS:: ', clf_xgb.score(X_test, y_test))"
   ]
  },
  {
   "cell_type": "code",
   "execution_count": 75,
   "id": "434c1015",
   "metadata": {},
   "outputs": [],
   "source": [
    "model_params = {\n",
    "    'decision_tree': {\n",
    "        'model': DecisionTreeClassifier(),\n",
    "        'params': { \n",
    "            'criterion' : ['entropy', 'gini'],\n",
    "            'max_depth' : [6, 7, 8, 9],\n",
    "            'min_samples_split' : [20, 25, 30]\n",
    "        }\n",
    "    },\n",
    "    'random_forest': {\n",
    "        'model': RandomForestClassifier(),\n",
    "        'params': {\n",
    "            'n_estimators':[180, 190, 200, 210],\n",
    "            'criterion':['entropy', 'gini'],\n",
    "            'max_depth' : [8, 9],\n",
    "            'min_samples_split' : [35, 40],\n",
    "            'bootstrap': [True, False]\n",
    "        }\n",
    "    },\n",
    "    'xgboost': {\n",
    "        'model': xgb.XGBClassifier(learning_rate = 0.05, # funziona bene per valori fra 0.01 e 0.25\n",
    "                                   subsample= 0.8,\n",
    "                                   colsample_bytree = 0.8,\n",
    "                                   eval_metric = 'aucpr', \n",
    "                                   use_label_encoder = False),\n",
    "        'params': {\n",
    "                'n_estimators' : [300, 325, 350],\n",
    "                'max_depth': [8,9],\n",
    "                'reg_lambda' : [150]\n",
    "        }\n",
    "    }\n",
    "}"
   ]
  },
  {
   "cell_type": "code",
   "execution_count": 76,
   "id": "81ffe436",
   "metadata": {},
   "outputs": [
    {
     "data": {
      "text/html": [
       "<div>\n",
       "<style scoped>\n",
       "    .dataframe tbody tr th:only-of-type {\n",
       "        vertical-align: middle;\n",
       "    }\n",
       "\n",
       "    .dataframe tbody tr th {\n",
       "        vertical-align: top;\n",
       "    }\n",
       "\n",
       "    .dataframe thead th {\n",
       "        text-align: right;\n",
       "    }\n",
       "</style>\n",
       "<table border=\"1\" class=\"dataframe\">\n",
       "  <thead>\n",
       "    <tr style=\"text-align: right;\">\n",
       "      <th></th>\n",
       "      <th>model</th>\n",
       "      <th>best_score</th>\n",
       "      <th>best_params</th>\n",
       "    </tr>\n",
       "  </thead>\n",
       "  <tbody>\n",
       "    <tr>\n",
       "      <th>0</th>\n",
       "      <td>decision_tree</td>\n",
       "      <td>0.842934</td>\n",
       "      <td>{'criterion': 'entropy', 'max_depth': 9, 'min_samples_split': 20}</td>\n",
       "    </tr>\n",
       "    <tr>\n",
       "      <th>1</th>\n",
       "      <td>random_forest</td>\n",
       "      <td>0.866110</td>\n",
       "      <td>{'bootstrap': False, 'criterion': 'gini', 'max_depth': 9, 'min_samples_split': 35, 'n_estimators': 210}</td>\n",
       "    </tr>\n",
       "    <tr>\n",
       "      <th>2</th>\n",
       "      <td>xgboost</td>\n",
       "      <td>0.865627</td>\n",
       "      <td>{'max_depth': 9, 'n_estimators': 350, 'reg_lambda': 150}</td>\n",
       "    </tr>\n",
       "  </tbody>\n",
       "</table>\n",
       "</div>"
      ],
      "text/plain": [
       "           model  best_score  \\\n",
       "0  decision_tree    0.842934   \n",
       "1  random_forest    0.866110   \n",
       "2        xgboost    0.865627   \n",
       "\n",
       "                                                                                               best_params  \n",
       "0                                        {'criterion': 'entropy', 'max_depth': 9, 'min_samples_split': 20}  \n",
       "1  {'bootstrap': False, 'criterion': 'gini', 'max_depth': 9, 'min_samples_split': 35, 'n_estimators': 210}  \n",
       "2                                                 {'max_depth': 9, 'n_estimators': 350, 'reg_lambda': 150}  "
      ]
     },
     "execution_count": 76,
     "metadata": {},
     "output_type": "execute_result"
    }
   ],
   "source": [
    "\n",
    "scores = []\n",
    "\n",
    "for model_name, mp in model_params.items():\n",
    "    clf =  GridSearchCV(mp['model'], mp['params'], cv=3, return_train_score=False, n_jobs=8)\n",
    "    clf.fit(X_train_rnd, y_train_rnd.ravel())\n",
    "    scores.append({\n",
    "        'model': model_name,\n",
    "        'best_score': clf.best_score_,\n",
    "        'best_params': clf.best_params_,\n",
    "        'best_estimator': clf.best_estimator_ # necessario per riallenare\n",
    "    })\n",
    "    \n",
    "pd.set_option(\"display.max_colwidth\", None)\n",
    "df = pd.DataFrame(scores,columns=['model','best_score','best_params'])\n",
    "df"
   ]
  },
  {
   "cell_type": "code",
   "execution_count": 77,
   "id": "8bc6d934",
   "metadata": {},
   "outputs": [
    {
     "data": {
      "text/plain": [
       "RandomForestClassifier(bootstrap=False, max_depth=9, min_samples_split=35,\n",
       "                       n_estimators=210)"
      ]
     },
     "execution_count": 77,
     "metadata": {},
     "output_type": "execute_result"
    }
   ],
   "source": [
    "models_list = sorted(scores, key=lambda d: d['best_score']) # ordino in base al best_score\n",
    "model = models_list[-1] # prendo l'ultimo modello (quello con score piu' alto)\n",
    "clf = model.get('best_estimator') # ottengo i valori con cui allenare\n",
    "clf.fit(X_train_rnd, y_train_rnd) # rialleno"
   ]
  },
  {
   "cell_type": "code",
   "execution_count": 78,
   "id": "9dca7963",
   "metadata": {},
   "outputs": [
    {
     "name": "stdout",
     "output_type": "stream",
     "text": [
      "                    (Number, Feature)  Importance\n",
      "0                          (2, tx_in)    0.123287\n",
      "1   (3, investment_to_contract/tx_in)    0.111927\n",
      "2                      (11, paid_one)    0.104434\n",
      "3                    (15, known_rate)    0.091708\n",
      "4                    (13, sdev_tx_in)    0.080751\n",
      "5         (12, percentage_some_tx_in)    0.066668\n",
      "6                        (7, mean_v1)    0.061639\n",
      "7                        (9, sdev_v2)    0.060011\n",
      "8                     (10, paid_rate)    0.056042\n",
      "9                       (1, lifetime)    0.052204\n",
      "10   (6, #addresses_paid_by_contract)    0.047137\n",
      "11    (5, #addresses_paying_contract)    0.046663\n",
      "12                       (8, sdev_v1)    0.031600\n",
      "13       (14, percentage_some_tx_out)    0.019931\n",
      "14                       (0, balance)    0.019030\n",
      "15  (4, payment_from_contract/tx_out)    0.017975\n",
      "16  (16, owner_gets_eth_Wo_investing)    0.008993\n"
     ]
    },
    {
     "data": {
      "image/png": "[encoded data removed]",
      "text/plain": [
       "<Figure size 432x288 with 1 Axes>"
      ]
     },
     "metadata": {
      "needs_background": "light"
     },
     "output_type": "display_data"
    }
   ],
   "source": [
    "features_importances = clf.feature_importances_\n",
    "res = dict(zip(pairs_number_features, features_importances))\n",
    "sorted_dict = dict(sorted(res.items(), key=lambda item: item[1], reverse = True))\n",
    "print(pd.DataFrame(list(sorted_dict.items()),columns=['(Number, Feature)', 'Importance']))\n",
    "plt.bar(range(len(features_importances)), features_importances)\n",
    "plt.show()"
   ]
  },
  {
   "cell_type": "code",
   "execution_count": 79,
   "id": "f1f203d1",
   "metadata": {},
   "outputs": [
    {
     "name": "stdout",
     "output_type": "stream",
     "text": [
      "precision score::  0.45933014354066987\n",
      "recall score::  0.7111111111111111\n",
      "accuracy score::  0.8333333333333334\n",
      "fbeta score::  0.6084836665041443\n",
      "F1 score:: 0.5581395348837209\n"
     ]
    },
    {
     "data": {
      "text/plain": [
       "<AxesSubplot:>"
      ]
     },
     "execution_count": 79,
     "metadata": {},
     "output_type": "execute_result"
    },
    {
     "data": {
      "image/png": "[encoded data removed]",
      "text/plain": [
       "<Figure size 432x288 with 2 Axes>"
      ]
     },
     "metadata": {
      "needs_background": "light"
     },
     "output_type": "display_data"
    }
   ],
   "source": [
    "# faccio la predizione e stampo le statistiche sul modello migliore (quello che ha vinto nella GridSearch)\n",
    "\n",
    "y_pred = clf.predict(X_test)\n",
    "#print(clf.predict_proba(X_test)) # per vedere le probabilita' con cui sono classificati come ponzi o non ponzi\n",
    "print('precision score:: ', precision_score(y_test, y_pred)) # TP / (FP + TP)\n",
    "print('recall score:: ', recall_score(y_test, y_pred))\t     # TP / (FN + TP)\n",
    "print('accuracy score:: ', accuracy_score(y_test, y_pred))\t # (TP + TN)/ (TP + FN + TN + FP)\n",
    "print('fbeta score:: ', fbeta_score(y_test, y_pred, beta = 1.5))\n",
    "print('F1 score::', f1_score(y_test, y_pred))\n",
    "cm = confusion_matrix(y_test, y_pred)\n",
    "sns.heatmap(cm, annot=True, cmap='Greens', fmt='d')"
   ]
  },
  {
   "cell_type": "code",
   "execution_count": 80,
   "id": "cebe6360",
   "metadata": {},
   "outputs": [
    {
     "name": "stdout",
     "output_type": "stream",
     "text": [
      "precision score::  0.5027322404371585\n",
      "recall score::  0.6814814814814815\n",
      "accuracy score::  0.8530701754385965\n",
      "F1 score:: 0.578616352201258\n"
     ]
    },
    {
     "data": {
      "text/plain": [
       "<AxesSubplot:>"
      ]
     },
     "execution_count": 80,
     "metadata": {},
     "output_type": "execute_result"
    },
    {
     "data": {
      "image/png": "[encoded data removed]",
      "text/plain": [
       "<Figure size 432x288 with 2 Axes>"
      ]
     },
     "metadata": {
      "needs_background": "light"
     },
     "output_type": "display_data"
    }
   ],
   "source": [
    "# risultati ottenuti con il secondo migliore\n",
    "\n",
    "model = models_list[1] # prendo il modello medio\n",
    "clf2 = model.get('best_estimator') # ottengo i valori con cui allenare\n",
    "clf2.fit(X_train_rnd, y_train_rnd.ravel()) # rialleno\n",
    "y_pred2 = clf2.predict(X_test)\n",
    "#print(clf2.predict_proba(X_test)) # per vedere le probabilita' con cui sono classificati come ponzi o non ponzi\n",
    "print('precision score:: ', precision_score(y_test, y_pred2)) #  TP / (FP + TP)\n",
    "print('recall score:: ', recall_score(y_test, y_pred2))\t     # \tTP / (FN + TP)\n",
    "print('accuracy score:: ', accuracy_score(y_test, y_pred2))\t #  (TP + TN)/ (TP + FN + TN + FP)\n",
    "print('F1 score::', f1_score(y_test, y_pred2))\n",
    "cm = confusion_matrix(y_test, y_pred2)\n",
    "sns.heatmap(cm, annot=True, cmap='Reds', fmt='d')"
   ]
  },
  {
   "cell_type": "code",
   "execution_count": null,
   "id": "2641d52d",
   "metadata": {},
   "outputs": [],
   "source": []
  }
 ],
 "metadata": {
  "kernelspec": {
   "display_name": "Python 3 (ipykernel)",
   "language": "python",
   "name": "python3"
  },
  "language_info": {
   "codemirror_mode": {
    "name": "ipython",
    "version": 3
   },
   "file_extension": ".py",
   "mimetype": "text/x-python",
   "name": "python",
   "nbconvert_exporter": "python",
   "pygments_lexer": "ipython3",
   "version": "3.9.7"
  }
 },
 "nbformat": 4,
 "nbformat_minor": 5
}
