{
 "cells": [
  {
   "cell_type": "code",
   "execution_count": 1,
   "id": "dffde3ca",
   "metadata": {},
   "outputs": [],
   "source": [
    "import numpy as np\n",
    "import pandas as pd\n",
    "import seaborn as sns # libreria utile per matrice di confusione\n",
    "import plotly.express as px\n",
    "from collections import Counter\n",
    "from matplotlib import pyplot as plt\n",
    "from sklearn import tree\n",
    "from sklearn.metrics import accuracy_score, precision_score, recall_score, f1_score, fbeta_score, make_scorer, confusion_matrix, precision_recall_curve\n",
    "from sklearn.model_selection import train_test_split, GridSearchCV\n",
    "from sklearn.tree import DecisionTreeClassifier\n",
    "from sklearn.ensemble import RandomForestClassifier\n",
    "import xgboost as xgb\n",
    "from sklearn.preprocessing import StandardScaler\n",
    "from sklearn.decomposition import PCA"
   ]
  },
  {
   "cell_type": "code",
   "execution_count": 2,
   "id": "2e6b2b98",
   "metadata": {},
   "outputs": [
    {
     "name": "stdout",
     "output_type": "stream",
     "text": [
      "['balance', 'lifetime', 'tx_in', 'tx_out', 'investment_in', 'payment_out', 'investment_to_contract/tx_in', 'payment_from_contract/tx_out', '#addresses_paying_contract', '#addresses_paid_by_contract', 'mean_v1', 'sdev_v1', 'mean_v2', 'sdev_v2', 'paid_rate', 'paid_one', 'percentage_some_tx_in', 'sdev_tx_in', 'percentage_some_tx_out', 'sdev_tx_out', 'owner_gets_eth_Wo_investing', 'owner_gets_eth_investing', 'owner_no_eth']\n"
     ]
    }
   ],
   "source": [
    "dataset = pd.read_csv(r'C:\\Users\\andre\\Desktop\\materiale tesi\\settimana 16\\dataset\\originale\\dataset.csv', header = 0)\n",
    "features_names = list(dataset.columns)\n",
    "features_names.pop(0)\n",
    "print(features_names) # recupero la lista delle features"
   ]
  },
  {
   "cell_type": "code",
   "execution_count": 3,
   "id": "fe7e841d",
   "metadata": {},
   "outputs": [],
   "source": [
    "target = pd.read_csv(r'C:\\Users\\andre\\Desktop\\materiale tesi\\settimana 16\\dataset\\originale\\target.csv', header = 0)"
   ]
  },
  {
   "cell_type": "code",
   "execution_count": 5,
   "id": "7bbab717",
   "metadata": {},
   "outputs": [],
   "source": [
    "X = dataset.values[:, 1:24]\n",
    "y = target.values\n",
    "X_train, X_test, y_train, y_test = train_test_split(X, y, test_size = 0.2, random_state = 42, stratify = y)"
   ]
  },
  {
   "cell_type": "code",
   "execution_count": 6,
   "id": "e091ecee",
   "metadata": {},
   "outputs": [
    {
     "name": "stdout",
     "output_type": "stream",
     "text": [
      "Number of smart contract in train set:: 3767\n",
      "Number of smart Ponzi in train set:: 712\n",
      "Number of smart contract in test set:: 942\n",
      "Number of smart Ponzi in test set:: 178\n"
     ]
    }
   ],
   "source": [
    "flat_list_train = [item for sublist in y_train.tolist() for item in sublist]\n",
    "print('Number of smart contract in train set::', flat_list_train.count(0))\n",
    "print('Number of smart Ponzi in train set::', flat_list_train.count(1))\n",
    "flat_list_test = [item for sublist in y_test.tolist() for item in sublist]\n",
    "print('Number of smart contract in test set::', flat_list_test.count(0))\n",
    "print('Number of smart Ponzi in test set::', flat_list_test.count(1))"
   ]
  },
  {
   "cell_type": "code",
   "execution_count": 7,
   "id": "658085e5",
   "metadata": {},
   "outputs": [
    {
     "data": {
      "text/plain": [
       "(4479, 23)"
      ]
     },
     "execution_count": 7,
     "metadata": {},
     "output_type": "execute_result"
    }
   ],
   "source": [
    "X_train.shape"
   ]
  },
  {
   "cell_type": "code",
   "execution_count": 48,
   "id": "ed56b667",
   "metadata": {},
   "outputs": [],
   "source": [
    "param_dist_DT = {\n",
    "    'criterion' : ['entropy', 'gini'],\n",
    "    'max_depth' : [6, 7, 8, 9, 10],\n",
    "    'min_samples_split' : [10, 15, 20], # il valore tipico sta fra 1 e 40\n",
    "    'class_weight' : [{0:1, 1:4.25}, {0:1, 1:4.5}] # pesi, il valore raccomandato e' sum(negative instances)/sum(positive instances)\n",
    "}"
   ]
  },
  {
   "cell_type": "code",
   "execution_count": 49,
   "id": "3907af6c",
   "metadata": {},
   "outputs": [
    {
     "name": "stdout",
     "output_type": "stream",
     "text": [
      "best hyperparameters::  {'class_weight': {0: 1, 1: 4.25}, 'criterion': 'gini', 'max_depth': 6, 'min_samples_split': 20}\n",
      "best score::  0.787899084617102\n",
      "recall score on TR::  0.5926966292134831\n",
      "precision score on TR::  0.425832492431887\n"
     ]
    }
   ],
   "source": [
    "grid_dt = GridSearchCV(DecisionTreeClassifier(), param_grid=param_dist_DT, cv=3, n_jobs=8)\n",
    "\n",
    "grid_dt.fit(X_train, y_train) # alleno su train\n",
    "y_pred_train = grid_dt.predict(X_train) # effettuo la predizione su train set\n",
    "print('best hyperparameters:: ', grid_dt.best_params_) # stampo i migliori iperparametri\n",
    "print('best score:: ', grid_dt.best_score_) # media degli score (basata sulla metrica di scoring) date sulle cross validation\n",
    "print('recall score on TR:: ', recall_score(y_train, y_pred_train))\n",
    "print('precision score on TR:: ', precision_score(y_train, y_pred_train))"
   ]
  },
  {
   "cell_type": "code",
   "execution_count": 50,
   "id": "8536f2e4",
   "metadata": {},
   "outputs": [
    {
     "name": "stdout",
     "output_type": "stream",
     "text": [
      "accuracy score on TR::  0.8082161196695691\n",
      "accuracy score on TS::  0.8\n"
     ]
    }
   ],
   "source": [
    "# una volta ottenuti i migliori iperparametri guardo se allenando un classificatore con questi valori rischio l'overfitting\n",
    "clf_dt = DecisionTreeClassifier(**grid_dt.best_params_)\n",
    "clf_dt.fit(X_train, y_train)\n",
    "print('accuracy score on TR:: ', clf_dt.score(X_train, y_train))\n",
    "print('accuracy score on TS:: ', clf_dt.score(X_test, y_test))"
   ]
  },
  {
   "cell_type": "code",
   "execution_count": 22,
   "id": "14a6d83a",
   "metadata": {},
   "outputs": [],
   "source": [
    "param_dist_RF = {\n",
    "            'n_estimators':[125, 150, 175],\n",
    "            'min_samples_split' : [15, 20, 25],\n",
    "            'criterion':['gini', 'entropy'],\n",
    "            'class_weight' : [{0:1, 1:4.25}],\n",
    "            'bootstrap': [True, False]\n",
    "}"
   ]
  },
  {
   "cell_type": "code",
   "execution_count": 23,
   "id": "781320cf",
   "metadata": {},
   "outputs": [
    {
     "name": "stdout",
     "output_type": "stream",
     "text": [
      "best hyperparameters::  {'bootstrap': True, 'class_weight': {0: 1, 1: 4.25}, 'criterion': 'gini', 'min_samples_split': 15, 'n_estimators': 125}\n",
      "best score::  0.7575351640991292\n",
      "recall score on TR::  0.8974719101123596\n",
      "precision score on TR::  0.4647272727272727\n"
     ]
    }
   ],
   "source": [
    "# effettuo la GridSearchCV() per scegliere i migliori iperparametri\n",
    "grid_rf = GridSearchCV(RandomForestClassifier(), param_grid=param_dist_RF, cv=3, n_jobs=8)\n",
    "grid_rf.fit(X_train, y_train.ravel())\n",
    "y_pred_train = grid_rf.predict(X_train)\n",
    "print('best hyperparameters:: ', grid_rf.best_params_)\n",
    "print('best score:: ', grid_rf.best_score_)\n",
    "print('recall score on TR:: ', recall_score(y_train, y_pred_train))\n",
    "print('precision score on TR:: ', precision_score(y_train, y_pred_train))"
   ]
  },
  {
   "cell_type": "code",
   "execution_count": 24,
   "id": "a7e85062",
   "metadata": {},
   "outputs": [
    {
     "name": "stdout",
     "output_type": "stream",
     "text": [
      "accuracy score on TR::  0.8191560616208975\n",
      "accuracy score on TS::  0.7705357142857143\n"
     ]
    }
   ],
   "source": [
    "# una volta ottenuti i migliori iperparametri guardo se allenando un classificatore con questi valori rischio l'overfitting\n",
    "clf_rf = RandomForestClassifier(**grid_rf.best_params_)\n",
    "clf_rf.fit(X_train, y_train.ravel())\n",
    "print('accuracy score on TR:: ', clf_rf.score(X_train, y_train))\n",
    "print('accuracy score on TS:: ', clf_rf.score(X_test, y_test))"
   ]
  },
  {
   "cell_type": "code",
   "execution_count": 45,
   "id": "20caa7bb",
   "metadata": {},
   "outputs": [],
   "source": [
    "grid_param_XGB = {\n",
    "                'learning_rate' : [0.1],\n",
    "                'n_estimators' : [130, 135, 140, 145, 150],\n",
    "                'colsample_bytree' : [0.8],\n",
    "                'scale_pos_weight' : [4.5],\n",
    "                'gamma' : [0, 0.1],\n",
    "                'reg_lambda' : [0, 2.5, 5]\n",
    "}"
   ]
  },
  {
   "cell_type": "code",
   "execution_count": 46,
   "id": "baed9bbe",
   "metadata": {},
   "outputs": [
    {
     "name": "stdout",
     "output_type": "stream",
     "text": [
      "best hyperparameters::  {'colsample_bytree': 0.8, 'gamma': 0, 'learning_rate': 0.1, 'n_estimators': 140, 'reg_lambda': 5, 'scale_pos_weight': 4.5}\n",
      "best score::  0.7604375976780532\n",
      "recall score on TR::  0.9199438202247191\n",
      "precision score on TR::  0.4606188466947961\n"
     ]
    }
   ],
   "source": [
    "# effettuo la GridSearchCV() per scegliere i migliori iperparametri\n",
    "grid_xgb = GridSearchCV(xgb.XGBClassifier(subsample = 0.8, use_label_encoder = False, eval_metric = 'aucpr'), \n",
    "                        param_grid = grid_param_XGB, cv = 3, n_jobs = 8)\n",
    "grid_xgb.fit(X_train, y_train)\n",
    "y_pred_train = grid_xgb.predict(X_train)\n",
    "print('best hyperparameters:: ', grid_xgb.best_params_)\n",
    "print('best score:: ', grid_xgb.best_score_)\n",
    "print('recall score on TR:: ', recall_score(y_train, y_pred_train))\n",
    "print('precision score on TR:: ', precision_score(y_train, y_pred_train))"
   ]
  },
  {
   "cell_type": "code",
   "execution_count": 47,
   "id": "c2dfa9fa",
   "metadata": {},
   "outputs": [
    {
     "name": "stdout",
     "output_type": "stream",
     "text": [
      "accuracy score on TR::  0.816030363920518\n",
      "accuracy score on TS::  0.7678571428571429\n"
     ]
    }
   ],
   "source": [
    "# una volta ottenuti i migliori iperparametri guardo se allenando un classificatore con questi valori rischio l'overfitting\n",
    "clf_xgb = xgb.XGBClassifier(learning_rate = 0.1, n_estimators = 140, scale_pos_weight = 4.5, reg_lambda = 5,\n",
    "                            subsample = 0.8, colsample_bytree = 0.8, use_label_encoder = False, eval_metric='aucpr')\n",
    "clf_xgb.fit(X_train, y_train)\n",
    "print('accuracy score on TR:: ', clf_xgb.score(X_train, y_train))\n",
    "print('accuracy score on TS:: ', clf_xgb.score(X_test, y_test))"
   ]
  },
  {
   "cell_type": "code",
   "execution_count": 51,
   "id": "4287303a",
   "metadata": {},
   "outputs": [],
   "source": [
    "model_params = {\n",
    "    'decision_tree': {\n",
    "        'model': DecisionTreeClassifier(),\n",
    "        'params': { \n",
    "            'criterion' : ['entropy', 'gini'],\n",
    "            'max_depth' : [6, 7, 8, 9, 10],\n",
    "            'min_samples_split' : [10, 15, 20], # il valore tipico sta fra 1 e 40\n",
    "            'class_weight' : [{0:1, 1:4.25}, {0:1, 1:4.5}] # pesi, il valore raccomandato e' sum(negative instances)/sum(positive instances)\n",
    "        }\n",
    "    },\n",
    "    'random_forest': {\n",
    "        'model': RandomForestClassifier(),\n",
    "        'params': {\n",
    "            'n_estimators':[125, 150, 175],\n",
    "            'min_samples_split' : [15, 20, 25],\n",
    "            'criterion':['gini', 'entropy'],\n",
    "            'class_weight' : [{0:1, 1:4.25}],\n",
    "            'bootstrap': [True, False]\n",
    "        }\n",
    "    },\n",
    "    'xgboost': {\n",
    "        'model': xgb.XGBClassifier(learning_rate = 0.1, # funziona bene per valori fra 0.01 e 0.25\n",
    "                                   subsample = 0.8, \n",
    "                                   scale_pos_weight  = 4.5, \n",
    "                                   colsample_bytree = 0.8,\n",
    "                                   eval_metric = 'aucpr', \n",
    "                                   use_label_encoder = False),\n",
    "        'params': {\n",
    "                'n_estimators' : [130, 135, 140, 145, 150],\n",
    "                'colsample_bytree' : [0.8],\n",
    "                'gamma' : [0, 0.1],\n",
    "                'reg_lambda' : [0, 2.5, 5]\n",
    "        }\n",
    "    }\n",
    "}"
   ]
  },
  {
   "cell_type": "code",
   "execution_count": 52,
   "id": "a35347d7",
   "metadata": {},
   "outputs": [
    {
     "data": {
      "text/html": [
       "<div>\n",
       "<style scoped>\n",
       "    .dataframe tbody tr th:only-of-type {\n",
       "        vertical-align: middle;\n",
       "    }\n",
       "\n",
       "    .dataframe tbody tr th {\n",
       "        vertical-align: top;\n",
       "    }\n",
       "\n",
       "    .dataframe thead th {\n",
       "        text-align: right;\n",
       "    }\n",
       "</style>\n",
       "<table border=\"1\" class=\"dataframe\">\n",
       "  <thead>\n",
       "    <tr style=\"text-align: right;\">\n",
       "      <th></th>\n",
       "      <th>model</th>\n",
       "      <th>best_score</th>\n",
       "      <th>best_params</th>\n",
       "    </tr>\n",
       "  </thead>\n",
       "  <tbody>\n",
       "    <tr>\n",
       "      <th>0</th>\n",
       "      <td>decision_tree</td>\n",
       "      <td>0.788122</td>\n",
       "      <td>{'class_weight': {0: 1, 1: 4.25}, 'criterion': 'gini', 'max_depth': 6, 'min_samples_split': 10}</td>\n",
       "    </tr>\n",
       "    <tr>\n",
       "      <th>1</th>\n",
       "      <td>random_forest</td>\n",
       "      <td>0.759991</td>\n",
       "      <td>{'bootstrap': True, 'class_weight': {0: 1, 1: 4.25}, 'criterion': 'entropy', 'min_samples_split': 15, 'n_estimators': 125}</td>\n",
       "    </tr>\n",
       "    <tr>\n",
       "      <th>2</th>\n",
       "      <td>xgboost</td>\n",
       "      <td>0.760438</td>\n",
       "      <td>{'colsample_bytree': 0.8, 'gamma': 0, 'n_estimators': 140, 'reg_lambda': 5}</td>\n",
       "    </tr>\n",
       "  </tbody>\n",
       "</table>\n",
       "</div>"
      ],
      "text/plain": [
       "           model  best_score  \\\n",
       "0  decision_tree    0.788122   \n",
       "1  random_forest    0.759991   \n",
       "2        xgboost    0.760438   \n",
       "\n",
       "                                                                                                                  best_params  \n",
       "0                             {'class_weight': {0: 1, 1: 4.25}, 'criterion': 'gini', 'max_depth': 6, 'min_samples_split': 10}  \n",
       "1  {'bootstrap': True, 'class_weight': {0: 1, 1: 4.25}, 'criterion': 'entropy', 'min_samples_split': 15, 'n_estimators': 125}  \n",
       "2                                                 {'colsample_bytree': 0.8, 'gamma': 0, 'n_estimators': 140, 'reg_lambda': 5}  "
      ]
     },
     "execution_count": 52,
     "metadata": {},
     "output_type": "execute_result"
    }
   ],
   "source": [
    "scores = []\n",
    "\n",
    "for model_name, mp in model_params.items():\n",
    "    clf =  GridSearchCV(mp['model'], mp['params'], cv=3, return_train_score=False, n_jobs=8)\n",
    "    clf.fit(X_train, y_train.ravel())\n",
    "    scores.append({\n",
    "        'model': model_name,\n",
    "        'best_score': clf.best_score_,\n",
    "        'best_params': clf.best_params_,\n",
    "        'best_estimator': clf.best_estimator_ # necessario per riallenare\n",
    "    })\n",
    "    \n",
    "pd.set_option(\"display.max_colwidth\", None)\n",
    "df = pd.DataFrame(scores,columns=['model','best_score','best_params'])\n",
    "df"
   ]
  },
  {
   "cell_type": "code",
   "execution_count": 53,
   "id": "eb322b5c",
   "metadata": {},
   "outputs": [
    {
     "data": {
      "text/plain": [
       "DecisionTreeClassifier(class_weight={0: 1, 1: 4.25}, max_depth=6,\n",
       "                       min_samples_split=10)"
      ]
     },
     "execution_count": 53,
     "metadata": {},
     "output_type": "execute_result"
    }
   ],
   "source": [
    "models_list = sorted(scores, key=lambda d: d['best_score']) # ordino in base al best_score\n",
    "model = models_list[-1] # prendo l'ultimo modello (quello con score piu' alto)\n",
    "clf = model.get('best_estimator') # ottengo i valori con cui allenare\n",
    "clf.fit(X_train, y_train) # rialleno"
   ]
  },
  {
   "cell_type": "code",
   "execution_count": 56,
   "id": "564a4e65",
   "metadata": {},
   "outputs": [
    {
     "name": "stdout",
     "output_type": "stream",
     "text": [
      "precision score::  0.4048582995951417\n",
      "recall score::  0.5617977528089888\n",
      "accuracy score::  0.7991071428571429\n",
      "F1 score:: 0.47058823529411764\n"
     ]
    },
    {
     "data": {
      "text/plain": [
       "<AxesSubplot:>"
      ]
     },
     "execution_count": 56,
     "metadata": {},
     "output_type": "execute_result"
    },
    {
     "data": {
      "image/png": "[encoded data removed]",
      "text/plain": [
       "<Figure size 432x288 with 2 Axes>"
      ]
     },
     "metadata": {
      "needs_background": "light"
     },
     "output_type": "display_data"
    }
   ],
   "source": [
    "# faccio la predizione e stampo le statistiche sul modello migliore (quello che ha vinto nella GridSearch)\n",
    "\n",
    "y_pred = clf.predict(X_test)\n",
    "#print(clf.predict_proba(X_test)) # per vedere le probabilita' con cui sono classificati come ponzi o non ponzi\n",
    "print('precision score:: ', precision_score(y_test, y_pred)) # TP / (FP + TP)\n",
    "print('recall score:: ', recall_score(y_test, y_pred))\t     # TP / (FN + TP)\n",
    "print('accuracy score:: ', accuracy_score(y_test, y_pred))\t # (TP + TN)/ (TP + FN + TN + FP)\n",
    "print('F1 score::', f1_score(y_test, y_pred))\n",
    "cm = confusion_matrix(y_test, y_pred)\n",
    "sns.heatmap(cm, annot=True, cmap='Greens', fmt='d')"
   ]
  },
  {
   "cell_type": "code",
   "execution_count": null,
   "id": "4ccaf51c",
   "metadata": {},
   "outputs": [],
   "source": []
  }
 ],
 "metadata": {
  "kernelspec": {
   "display_name": "Python 3 (ipykernel)",
   "language": "python",
   "name": "python3"
  },
  "language_info": {
   "codemirror_mode": {
    "name": "ipython",
    "version": 3
   },
   "file_extension": ".py",
   "mimetype": "text/x-python",
   "name": "python",
   "nbconvert_exporter": "python",
   "pygments_lexer": "ipython3",
   "version": "3.9.7"
  }
 },
 "nbformat": 4,
 "nbformat_minor": 5
}
